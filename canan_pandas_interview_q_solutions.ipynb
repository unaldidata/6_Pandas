{
 "cells": [
  {
   "cell_type": "markdown",
   "metadata": {},
   "source": [
    "# <p style=\"background-color:green;font-family:newtimeroman;font-size:200%;color:white;text-align:center;border-radius:20px 20px;\"><b>Pandas Interview Questions</b></p>\n",
    "![](https://www.techproeducation.com/logo/headerlogo.svg)\n",
    "\n",
    "<b>Yeniliklerden ilk siz haberdar olmak istiyorsanız lütfen bizi takip etmeyi unutmayın </b>[YouTube](https://www.youtube.com/c/techproeducation) | [Instagram](https://www.instagram.com/techproeducation) | [Facebook](https://www.facebook.com/techproeducation) | [Telegram](https://t.me/joinchat/HH2qRvA-ulh4OWbb) | [Whatsapp](https://api.whatsapp.com/send/?phone=%2B15853042959&text&type=phone_number&app_absent=0) | [LinkedIn](https://www.linkedin.com/company/techproeducation/mycompany/) |"
   ]
  },
  {
   "cell_type": "markdown",
   "metadata": {},
   "source": [
    "https://www.stratascratch.com/"
   ]
  },
  {
   "cell_type": "markdown",
   "metadata": {},
   "source": [
    "### 1. Pandas nedir ve ne amaçla kullanılır?"
   ]
  },
  {
   "cell_type": "markdown",
   "metadata": {},
   "source": [
    "Pandas, Python programlama dilinde veri manipülasyonu ve analizi için kullanılan açık kaynak kodlu, hızlı, güçlü, esnek ve kullanımı kolay bir kütüphanedir. Temel olarak iki veri yapısı üzerine kuruludur:\n",
    "\n",
    "Seriler (Series): Tek boyutlu, etiketlenmiş bir veri dizisidir.\n",
    "\n",
    "Veri Çerçeveleri (DataFrames): İki boyutlu, etiketlenmiş bir veri tablosu olarak düşünülebilir.\n",
    "\n",
    "Pandas kütüphanesi, veri bilimi ve makine öğrenmesi alanlarında yaygın olarak kullanılır ve aşağıdaki amaçlarla tercih edilir:\n",
    "\n",
    "Veri Okuma ve Yazma: CSV, Excel, SQL veritabanları, JSON dosyaları gibi farklı formatlardaki verileri okuma ve bu formatlarda dosyalar yazma imkanı sağlar.\n",
    "\n",
    "Veri Temizleme: Eksik verileri doldurma, verileri dönüştürme, hatalı verileri düzeltme gibi veri temizleme işlemlerini kolaylaştırır.\n",
    "\n",
    "Veri Dönüştürme: Verileri yeniden şekillendirme, sütunları birleştirme veya ayırma, verileri gruplama gibi işlemleri gerçekleştirebilirsiniz.\n",
    "\n",
    "Veri Analizi: Verileri filtreleme, sıralama, istatistiksel hesaplamalar yapma, grafikler oluşturma gibi veri analizi işlemlerini destekler.\n",
    "\n",
    "Veri Görselleştirme: Matplotlib ve Seaborn gibi popüler görselleştirme kütüphaneleriyle entegre çalışarak verileri görsel olarak analiz etmeyi sağlar."
   ]
  },
  {
   "cell_type": "markdown",
   "metadata": {},
   "source": [
    "### 2. Verilen dataframede 25 - 30 yaş aralığındaki kişilere ait verileri yazdırın."
   ]
  },
  {
   "cell_type": "code",
   "execution_count": 1,
   "metadata": {},
   "outputs": [],
   "source": [
    "import pandas as pd"
   ]
  },
  {
   "cell_type": "code",
   "execution_count": 3,
   "metadata": {},
   "outputs": [
    {
     "data": {
      "text/html": [
       "<div>\n",
       "<style scoped>\n",
       "    .dataframe tbody tr th:only-of-type {\n",
       "        vertical-align: middle;\n",
       "    }\n",
       "\n",
       "    .dataframe tbody tr th {\n",
       "        vertical-align: top;\n",
       "    }\n",
       "\n",
       "    .dataframe thead th {\n",
       "        text-align: right;\n",
       "    }\n",
       "</style>\n",
       "<table border=\"1\" class=\"dataframe\">\n",
       "  <thead>\n",
       "    <tr style=\"text-align: right;\">\n",
       "      <th></th>\n",
       "      <th>Name</th>\n",
       "      <th>Age</th>\n",
       "      <th>Gender</th>\n",
       "      <th>Salary</th>\n",
       "    </tr>\n",
       "  </thead>\n",
       "  <tbody>\n",
       "    <tr>\n",
       "      <th>0</th>\n",
       "      <td>John</td>\n",
       "      <td>25</td>\n",
       "      <td>Male</td>\n",
       "      <td>50000</td>\n",
       "    </tr>\n",
       "    <tr>\n",
       "      <th>1</th>\n",
       "      <td>Emma</td>\n",
       "      <td>28</td>\n",
       "      <td>Female</td>\n",
       "      <td>60000</td>\n",
       "    </tr>\n",
       "    <tr>\n",
       "      <th>2</th>\n",
       "      <td>Luke</td>\n",
       "      <td>32</td>\n",
       "      <td>Male</td>\n",
       "      <td>70000</td>\n",
       "    </tr>\n",
       "    <tr>\n",
       "      <th>3</th>\n",
       "      <td>Emily</td>\n",
       "      <td>21</td>\n",
       "      <td>Female</td>\n",
       "      <td>55000</td>\n",
       "    </tr>\n",
       "    <tr>\n",
       "      <th>4</th>\n",
       "      <td>Oliver</td>\n",
       "      <td>35</td>\n",
       "      <td>Male</td>\n",
       "      <td>80000</td>\n",
       "    </tr>\n",
       "  </tbody>\n",
       "</table>\n",
       "</div>"
      ],
      "text/plain": [
       "     Name  Age  Gender  Salary\n",
       "0    John   25    Male   50000\n",
       "1    Emma   28  Female   60000\n",
       "2    Luke   32    Male   70000\n",
       "3   Emily   21  Female   55000\n",
       "4  Oliver   35    Male   80000"
      ]
     },
     "execution_count": 3,
     "metadata": {},
     "output_type": "execute_result"
    }
   ],
   "source": [
    "data = {\n",
    "    \"Name\": [\"John\", \"Emma\", \"Luke\", \"Emily\", \"Oliver\"],\n",
    "    \"Age\": [25, 28, 32, 21, 35],\n",
    "    \"Gender\": [\"Male\",\"Female\",\"Male\",\"Female\",\"Male\"],\n",
    "    \"Salary\": [50000, 60000, 70000, 55000, 80000]\n",
    "}\n",
    "df = pd.DataFrame(data)\n",
    "df"
   ]
  },
  {
   "cell_type": "code",
   "execution_count": 4,
   "metadata": {},
   "outputs": [
    {
     "data": {
      "text/html": [
       "<div>\n",
       "<style scoped>\n",
       "    .dataframe tbody tr th:only-of-type {\n",
       "        vertical-align: middle;\n",
       "    }\n",
       "\n",
       "    .dataframe tbody tr th {\n",
       "        vertical-align: top;\n",
       "    }\n",
       "\n",
       "    .dataframe thead th {\n",
       "        text-align: right;\n",
       "    }\n",
       "</style>\n",
       "<table border=\"1\" class=\"dataframe\">\n",
       "  <thead>\n",
       "    <tr style=\"text-align: right;\">\n",
       "      <th></th>\n",
       "      <th>Name</th>\n",
       "      <th>Age</th>\n",
       "      <th>Gender</th>\n",
       "      <th>Salary</th>\n",
       "    </tr>\n",
       "  </thead>\n",
       "  <tbody>\n",
       "    <tr>\n",
       "      <th>0</th>\n",
       "      <td>John</td>\n",
       "      <td>25</td>\n",
       "      <td>Male</td>\n",
       "      <td>50000</td>\n",
       "    </tr>\n",
       "    <tr>\n",
       "      <th>1</th>\n",
       "      <td>Emma</td>\n",
       "      <td>28</td>\n",
       "      <td>Female</td>\n",
       "      <td>60000</td>\n",
       "    </tr>\n",
       "  </tbody>\n",
       "</table>\n",
       "</div>"
      ],
      "text/plain": [
       "   Name  Age  Gender  Salary\n",
       "0  John   25    Male   50000\n",
       "1  Emma   28  Female   60000"
      ]
     },
     "execution_count": 4,
     "metadata": {},
     "output_type": "execute_result"
    }
   ],
   "source": [
    "df.loc[(df[\"Age\"]>=25) & (df[\"Age\"]<=30)]"
   ]
  },
  {
   "cell_type": "code",
   "execution_count": 5,
   "metadata": {},
   "outputs": [
    {
     "data": {
      "text/html": [
       "<div>\n",
       "<style scoped>\n",
       "    .dataframe tbody tr th:only-of-type {\n",
       "        vertical-align: middle;\n",
       "    }\n",
       "\n",
       "    .dataframe tbody tr th {\n",
       "        vertical-align: top;\n",
       "    }\n",
       "\n",
       "    .dataframe thead th {\n",
       "        text-align: right;\n",
       "    }\n",
       "</style>\n",
       "<table border=\"1\" class=\"dataframe\">\n",
       "  <thead>\n",
       "    <tr style=\"text-align: right;\">\n",
       "      <th></th>\n",
       "      <th>Name</th>\n",
       "      <th>Age</th>\n",
       "      <th>Gender</th>\n",
       "      <th>Salary</th>\n",
       "    </tr>\n",
       "  </thead>\n",
       "  <tbody>\n",
       "    <tr>\n",
       "      <th>0</th>\n",
       "      <td>John</td>\n",
       "      <td>25</td>\n",
       "      <td>Male</td>\n",
       "      <td>50000</td>\n",
       "    </tr>\n",
       "    <tr>\n",
       "      <th>1</th>\n",
       "      <td>Emma</td>\n",
       "      <td>28</td>\n",
       "      <td>Female</td>\n",
       "      <td>60000</td>\n",
       "    </tr>\n",
       "  </tbody>\n",
       "</table>\n",
       "</div>"
      ],
      "text/plain": [
       "   Name  Age  Gender  Salary\n",
       "0  John   25    Male   50000\n",
       "1  Emma   28  Female   60000"
      ]
     },
     "execution_count": 5,
     "metadata": {},
     "output_type": "execute_result"
    }
   ],
   "source": [
    "# Fatmagül Hocamın yöntemi\n",
    "df[(df[\"Age\"]>=25) & (df[\"Age\"]<=30)]"
   ]
  },
  {
   "cell_type": "markdown",
   "metadata": {},
   "source": [
    "### 3. Her cinsiyet için maximum ve median maaşları yazdırınız."
   ]
  },
  {
   "cell_type": "code",
   "execution_count": 7,
   "metadata": {},
   "outputs": [
    {
     "data": {
      "text/html": [
       "<div>\n",
       "<style scoped>\n",
       "    .dataframe tbody tr th:only-of-type {\n",
       "        vertical-align: middle;\n",
       "    }\n",
       "\n",
       "    .dataframe tbody tr th {\n",
       "        vertical-align: top;\n",
       "    }\n",
       "\n",
       "    .dataframe thead th {\n",
       "        text-align: right;\n",
       "    }\n",
       "</style>\n",
       "<table border=\"1\" class=\"dataframe\">\n",
       "  <thead>\n",
       "    <tr style=\"text-align: right;\">\n",
       "      <th></th>\n",
       "      <th>Name</th>\n",
       "      <th>Age</th>\n",
       "      <th>Gender</th>\n",
       "      <th>Salary</th>\n",
       "    </tr>\n",
       "  </thead>\n",
       "  <tbody>\n",
       "    <tr>\n",
       "      <th>0</th>\n",
       "      <td>John</td>\n",
       "      <td>25</td>\n",
       "      <td>Male</td>\n",
       "      <td>50000</td>\n",
       "    </tr>\n",
       "    <tr>\n",
       "      <th>1</th>\n",
       "      <td>Emma</td>\n",
       "      <td>28</td>\n",
       "      <td>Female</td>\n",
       "      <td>60000</td>\n",
       "    </tr>\n",
       "    <tr>\n",
       "      <th>2</th>\n",
       "      <td>Luke</td>\n",
       "      <td>32</td>\n",
       "      <td>Male</td>\n",
       "      <td>70000</td>\n",
       "    </tr>\n",
       "    <tr>\n",
       "      <th>3</th>\n",
       "      <td>Emily</td>\n",
       "      <td>21</td>\n",
       "      <td>Female</td>\n",
       "      <td>55000</td>\n",
       "    </tr>\n",
       "    <tr>\n",
       "      <th>4</th>\n",
       "      <td>Oliver</td>\n",
       "      <td>35</td>\n",
       "      <td>Male</td>\n",
       "      <td>80000</td>\n",
       "    </tr>\n",
       "  </tbody>\n",
       "</table>\n",
       "</div>"
      ],
      "text/plain": [
       "     Name  Age  Gender  Salary\n",
       "0    John   25    Male   50000\n",
       "1    Emma   28  Female   60000\n",
       "2    Luke   32    Male   70000\n",
       "3   Emily   21  Female   55000\n",
       "4  Oliver   35    Male   80000"
      ]
     },
     "execution_count": 7,
     "metadata": {},
     "output_type": "execute_result"
    }
   ],
   "source": [
    "df"
   ]
  },
  {
   "cell_type": "code",
   "execution_count": 6,
   "metadata": {},
   "outputs": [
    {
     "data": {
      "text/html": [
       "<div>\n",
       "<style scoped>\n",
       "    .dataframe tbody tr th:only-of-type {\n",
       "        vertical-align: middle;\n",
       "    }\n",
       "\n",
       "    .dataframe tbody tr th {\n",
       "        vertical-align: top;\n",
       "    }\n",
       "\n",
       "    .dataframe thead th {\n",
       "        text-align: right;\n",
       "    }\n",
       "</style>\n",
       "<table border=\"1\" class=\"dataframe\">\n",
       "  <thead>\n",
       "    <tr style=\"text-align: right;\">\n",
       "      <th></th>\n",
       "      <th>max_salary</th>\n",
       "      <th>median_salary</th>\n",
       "    </tr>\n",
       "    <tr>\n",
       "      <th>Gender</th>\n",
       "      <th></th>\n",
       "      <th></th>\n",
       "    </tr>\n",
       "  </thead>\n",
       "  <tbody>\n",
       "    <tr>\n",
       "      <th>Female</th>\n",
       "      <td>60000</td>\n",
       "      <td>57500.0</td>\n",
       "    </tr>\n",
       "    <tr>\n",
       "      <th>Male</th>\n",
       "      <td>80000</td>\n",
       "      <td>70000.0</td>\n",
       "    </tr>\n",
       "  </tbody>\n",
       "</table>\n",
       "</div>"
      ],
      "text/plain": [
       "        max_salary  median_salary\n",
       "Gender                           \n",
       "Female       60000        57500.0\n",
       "Male         80000        70000.0"
      ]
     },
     "execution_count": 6,
     "metadata": {},
     "output_type": "execute_result"
    }
   ],
   "source": [
    "df.groupby(\"Gender\").aggregate(max_salary=(\"Salary\", \"max\"),median_salary = (\"Salary\",\"median\"))"
   ]
  },
  {
   "cell_type": "markdown",
   "metadata": {},
   "source": [
    "### 4. Her birey için yaş ve maaşı kullanarak bonus hesaplayan bir fonksiyon uygulayın. Bonus 30 yaşın altındakiler için % 10, 30 yaş ve üzerindekiler için % 15 olmalı."
   ]
  },
  {
   "cell_type": "code",
   "execution_count": 8,
   "metadata": {},
   "outputs": [
    {
     "data": {
      "text/html": [
       "<div>\n",
       "<style scoped>\n",
       "    .dataframe tbody tr th:only-of-type {\n",
       "        vertical-align: middle;\n",
       "    }\n",
       "\n",
       "    .dataframe tbody tr th {\n",
       "        vertical-align: top;\n",
       "    }\n",
       "\n",
       "    .dataframe thead th {\n",
       "        text-align: right;\n",
       "    }\n",
       "</style>\n",
       "<table border=\"1\" class=\"dataframe\">\n",
       "  <thead>\n",
       "    <tr style=\"text-align: right;\">\n",
       "      <th></th>\n",
       "      <th>Name</th>\n",
       "      <th>Age</th>\n",
       "      <th>Gender</th>\n",
       "      <th>Salary</th>\n",
       "    </tr>\n",
       "  </thead>\n",
       "  <tbody>\n",
       "    <tr>\n",
       "      <th>0</th>\n",
       "      <td>John</td>\n",
       "      <td>25</td>\n",
       "      <td>Male</td>\n",
       "      <td>50000</td>\n",
       "    </tr>\n",
       "    <tr>\n",
       "      <th>1</th>\n",
       "      <td>Emma</td>\n",
       "      <td>28</td>\n",
       "      <td>Female</td>\n",
       "      <td>60000</td>\n",
       "    </tr>\n",
       "    <tr>\n",
       "      <th>2</th>\n",
       "      <td>Luke</td>\n",
       "      <td>32</td>\n",
       "      <td>Male</td>\n",
       "      <td>70000</td>\n",
       "    </tr>\n",
       "    <tr>\n",
       "      <th>3</th>\n",
       "      <td>Emily</td>\n",
       "      <td>21</td>\n",
       "      <td>Female</td>\n",
       "      <td>55000</td>\n",
       "    </tr>\n",
       "    <tr>\n",
       "      <th>4</th>\n",
       "      <td>Oliver</td>\n",
       "      <td>35</td>\n",
       "      <td>Male</td>\n",
       "      <td>80000</td>\n",
       "    </tr>\n",
       "  </tbody>\n",
       "</table>\n",
       "</div>"
      ],
      "text/plain": [
       "     Name  Age  Gender  Salary\n",
       "0    John   25    Male   50000\n",
       "1    Emma   28  Female   60000\n",
       "2    Luke   32    Male   70000\n",
       "3   Emily   21  Female   55000\n",
       "4  Oliver   35    Male   80000"
      ]
     },
     "execution_count": 8,
     "metadata": {},
     "output_type": "execute_result"
    }
   ],
   "source": [
    "df"
   ]
  },
  {
   "cell_type": "code",
   "execution_count": 9,
   "metadata": {},
   "outputs": [
    {
     "data": {
      "text/html": [
       "<div>\n",
       "<style scoped>\n",
       "    .dataframe tbody tr th:only-of-type {\n",
       "        vertical-align: middle;\n",
       "    }\n",
       "\n",
       "    .dataframe tbody tr th {\n",
       "        vertical-align: top;\n",
       "    }\n",
       "\n",
       "    .dataframe thead th {\n",
       "        text-align: right;\n",
       "    }\n",
       "</style>\n",
       "<table border=\"1\" class=\"dataframe\">\n",
       "  <thead>\n",
       "    <tr style=\"text-align: right;\">\n",
       "      <th></th>\n",
       "      <th>Name</th>\n",
       "      <th>Age</th>\n",
       "      <th>Gender</th>\n",
       "      <th>Salary</th>\n",
       "      <th>bonus</th>\n",
       "    </tr>\n",
       "  </thead>\n",
       "  <tbody>\n",
       "    <tr>\n",
       "      <th>0</th>\n",
       "      <td>John</td>\n",
       "      <td>25</td>\n",
       "      <td>Male</td>\n",
       "      <td>50000</td>\n",
       "      <td>5000.0</td>\n",
       "    </tr>\n",
       "    <tr>\n",
       "      <th>1</th>\n",
       "      <td>Emma</td>\n",
       "      <td>28</td>\n",
       "      <td>Female</td>\n",
       "      <td>60000</td>\n",
       "      <td>6000.0</td>\n",
       "    </tr>\n",
       "    <tr>\n",
       "      <th>2</th>\n",
       "      <td>Luke</td>\n",
       "      <td>32</td>\n",
       "      <td>Male</td>\n",
       "      <td>70000</td>\n",
       "      <td>10500.0</td>\n",
       "    </tr>\n",
       "    <tr>\n",
       "      <th>3</th>\n",
       "      <td>Emily</td>\n",
       "      <td>21</td>\n",
       "      <td>Female</td>\n",
       "      <td>55000</td>\n",
       "      <td>5500.0</td>\n",
       "    </tr>\n",
       "    <tr>\n",
       "      <th>4</th>\n",
       "      <td>Oliver</td>\n",
       "      <td>35</td>\n",
       "      <td>Male</td>\n",
       "      <td>80000</td>\n",
       "      <td>12000.0</td>\n",
       "    </tr>\n",
       "  </tbody>\n",
       "</table>\n",
       "</div>"
      ],
      "text/plain": [
       "     Name  Age  Gender  Salary    bonus\n",
       "0    John   25    Male   50000   5000.0\n",
       "1    Emma   28  Female   60000   6000.0\n",
       "2    Luke   32    Male   70000  10500.0\n",
       "3   Emily   21  Female   55000   5500.0\n",
       "4  Oliver   35    Male   80000  12000.0"
      ]
     },
     "execution_count": 9,
     "metadata": {},
     "output_type": "execute_result"
    }
   ],
   "source": [
    "df[\"bonus\"] = df[[\"Salary\",\"Age\"]].apply(lambda x: 0.1*x[\"Salary\"] if x[\"Age\"]<30 else 0.15*x[\"Salary\"], axis=1)\n",
    "df"
   ]
  },
  {
   "cell_type": "markdown",
   "metadata": {},
   "source": [
    "### 5. Bir dataframede boş değerlerle (missing value) nasıl başa çıkarsınız?"
   ]
  },
  {
   "cell_type": "code",
   "execution_count": 10,
   "metadata": {},
   "outputs": [
    {
     "data": {
      "text/html": [
       "<div>\n",
       "<style scoped>\n",
       "    .dataframe tbody tr th:only-of-type {\n",
       "        vertical-align: middle;\n",
       "    }\n",
       "\n",
       "    .dataframe tbody tr th {\n",
       "        vertical-align: top;\n",
       "    }\n",
       "\n",
       "    .dataframe thead th {\n",
       "        text-align: right;\n",
       "    }\n",
       "</style>\n",
       "<table border=\"1\" class=\"dataframe\">\n",
       "  <thead>\n",
       "    <tr style=\"text-align: right;\">\n",
       "      <th></th>\n",
       "      <th>A</th>\n",
       "      <th>B</th>\n",
       "      <th>C</th>\n",
       "    </tr>\n",
       "  </thead>\n",
       "  <tbody>\n",
       "    <tr>\n",
       "      <th>0</th>\n",
       "      <td>False</td>\n",
       "      <td>False</td>\n",
       "      <td>False</td>\n",
       "    </tr>\n",
       "    <tr>\n",
       "      <th>1</th>\n",
       "      <td>False</td>\n",
       "      <td>True</td>\n",
       "      <td>False</td>\n",
       "    </tr>\n",
       "    <tr>\n",
       "      <th>2</th>\n",
       "      <td>True</td>\n",
       "      <td>False</td>\n",
       "      <td>False</td>\n",
       "    </tr>\n",
       "    <tr>\n",
       "      <th>3</th>\n",
       "      <td>False</td>\n",
       "      <td>False</td>\n",
       "      <td>False</td>\n",
       "    </tr>\n",
       "  </tbody>\n",
       "</table>\n",
       "</div>"
      ],
      "text/plain": [
       "       A      B      C\n",
       "0  False  False  False\n",
       "1  False   True  False\n",
       "2   True  False  False\n",
       "3  False  False  False"
      ]
     },
     "execution_count": 10,
     "metadata": {},
     "output_type": "execute_result"
    }
   ],
   "source": [
    "df = pd.DataFrame({'A': [1, 2, None, 4],\n",
    "                 'B': [5, None, 7, 8],\n",
    "                 'C': [9, 10, 11, 12]})\n",
    "\n",
    "df.isnull() "
   ]
  },
  {
   "cell_type": "code",
   "execution_count": 11,
   "metadata": {},
   "outputs": [
    {
     "data": {
      "text/plain": [
       "A    1\n",
       "B    1\n",
       "C    0\n",
       "dtype: int64"
      ]
     },
     "execution_count": 11,
     "metadata": {},
     "output_type": "execute_result"
    }
   ],
   "source": [
    "# Tespit etme\n",
    "df.isna().sum()"
   ]
  },
  {
   "cell_type": "markdown",
   "metadata": {},
   "source": [
    "Silme (dropping)"
   ]
  },
  {
   "cell_type": "code",
   "execution_count": null,
   "metadata": {},
   "outputs": [],
   "source": [
    "# Boş değer içeren satırları sil\n",
    "df.dropna()\n",
    "\n",
    "# 'B' sütununda boş değer içeren satırları sil\n",
    "df.dropna(subset=['B'])\n",
    "\n",
    "# En az 3 adet null olmayan değere sahip satırları tut\n",
    "df.dropna(thresh=3)"
   ]
  },
  {
   "cell_type": "markdown",
   "metadata": {},
   "source": [
    "Doldurma (Filling)"
   ]
  },
  {
   "cell_type": "code",
   "execution_count": null,
   "metadata": {},
   "outputs": [],
   "source": [
    "# Boş değerleri 0 ile doldur\n",
    "df.fillna(0)\n",
    "\n",
    "# 'A' sütunundaki boş değerleri sütunun ortalaması ile doldur\n",
    "df['A'].fillna(df['A'].mean(), inplace=True)\n",
    "\n",
    "# Her sütundaki boş değerleri o sütunun medyanı ile doldur\n",
    "df.fillna(df.median())\n",
    "\n",
    "# Önceki değerlerle doldur (ileri yönlü)\n",
    "df.fillna(method='ffill')\n",
    "\n",
    "# Sonraki değerlerle doldur (geri yönlü)\n",
    "df.fillna(method='bfill')\n"
   ]
  },
  {
   "cell_type": "markdown",
   "metadata": {},
   "source": [
    "İnterpolasyon (Interpolation)"
   ]
  },
  {
   "cell_type": "markdown",
   "metadata": {},
   "source": [
    "interpolate() fonksiyonu: Boş değerleri komşu değerlerden tahmin etmek için farklı interpolasyon yöntemleri kullanılır."
   ]
  },
  {
   "cell_type": "code",
   "execution_count": null,
   "metadata": {},
   "outputs": [],
   "source": [
    "# Lineer interpolasyon kullanarak boş değerleri doldur\n",
    "df.interpolate(method='linear')"
   ]
  },
  {
   "cell_type": "markdown",
   "metadata": {},
   "source": [
    "Hangi yöntemin en uygun olduğu, verilerin yapısına, boş değerlerin dağılımına ve analiz amacına bağlıdır.\n",
    "\n",
    "Veri setiniz büyükse ve boş değerlerin oranı düşükse, silme yöntemi tercih edilebilir.\n",
    "Boş değerlerin rastgele dağıldığı durumlarda, doldurma yöntemi daha uygun olabilir.\n",
    "Zaman serisi verilerinde ise interpolasyon yöntemi daha iyi sonuçlar verebilir."
   ]
  },
  {
   "cell_type": "markdown",
   "metadata": {},
   "source": [
    "### 6. Pandas'da join ve merge nasıl kullanılır?"
   ]
  },
  {
   "cell_type": "raw",
   "metadata": {
    "vscode": {
     "languageId": "raw"
    }
   },
   "source": [
    "pd.merge(left, right, how='inner', on=None, left_on=None, right_on=None, left_index=False, right_index=False)\n"
   ]
  },
  {
   "cell_type": "markdown",
   "metadata": {},
   "source": [
    "merge() fonksiyonu daha çok kompleks birleştirmeler için tercih edilir.\n",
    "\n",
    "Merge Parametreleri:\n",
    "\n",
    "left: Birleştirilecek sol DataFrame.\n",
    "\n",
    "right: Birleştirilecek sağ DataFrame.\n",
    "\n",
    "how: Birleştirme türünü belirtir. 'left', 'right', 'outer', 'inner' değerlerini alabilir. Varsayılan değer 'inner'dır.\n",
    "\n",
    "-inner: Her iki DataFrame'de de ortak olan satırları döndürür.\n",
    "\n",
    "-left: Sol DataFrame'deki tüm satırları ve sağ DataFrame'de eşleşen satırları döndürür.\n",
    "\n",
    "-right: Sağ DataFrame'deki tüm satırları ve sol DataFrame'de eşleşen satırları döndürür.\n",
    "\n",
    "-outer: Her iki DataFrame'deki tüm satırları döndürür.\n",
    "\n",
    "on: Birleştirme işleminde kullanılacak sütun adını veya adlarını belirtir.\n",
    "\n",
    "left_on: Sol DataFrame'de birleştirme işleminde kullanılacak sütun adını veya adlarını belirtir.\n",
    "\n",
    "right_on: Sağ DataFrame'de birleştirme işleminde kullanılacak sütun adını veya adlarını belirtir.\n",
    "\n",
    "left_index: Sol DataFrame'in indeksini birleştirme işleminde kullanmak için True olarak ayarlanır.\n",
    "\n",
    "right_index: Sağ DataFrame'in indeksini birleştirme işleminde kullanmak için True olarak ayarlanır."
   ]
  },
  {
   "cell_type": "code",
   "execution_count": 48,
   "metadata": {},
   "outputs": [
    {
     "name": "stdout",
     "output_type": "stream",
     "text": [
      "   id  isim soyisim\n",
      "0   2  Veli  Yılmaz\n",
      "1   3  Ayşe    Kaya\n"
     ]
    }
   ],
   "source": [
    "# DataFrame'leri oluşturalım\n",
    "df1 = pd.DataFrame({'id': [1, 2, 3], 'isim': ['Ali', 'Veli', 'Ayşe']})\n",
    "df2 = pd.DataFrame({'id': [2, 3, 4], 'soyisim': ['Yılmaz', 'Kaya', 'Demir']})\n",
    "\n",
    "# 'id' sütununa göre birleştirelim\n",
    "merged_df = pd.merge(df1, df2, on='id')\n",
    "\n",
    "print(merged_df)"
   ]
  },
  {
   "cell_type": "raw",
   "metadata": {
    "vscode": {
     "languageId": "raw"
    }
   },
   "source": [
    "df_left.join(right, how='left', on=None, lsuffix='', rsuffix='')"
   ]
  },
  {
   "cell_type": "markdown",
   "metadata": {},
   "source": [
    "Join Parametreleri:\n",
    "\n",
    "right: Birleştirilecek sağ DataFrame.\n",
    "\n",
    "how: Birleştirme türünü belirtir. 'left', 'right', 'outer', 'inner' değerlerini alabilir. Varsayılan değer 'left'tir.\n",
    "\n",
    "on: Sol DataFrame'de birleştirme işleminde kullanılacak sütun adını veya adlarını belirtir. Varsayılan olarak, indeks kullanılır.\n",
    "\n",
    "lsuffix: Sol DataFrame'deki çakışan sütun adlarına eklenecek soneki belirtir.\n",
    "\n",
    "rsuffix: Sağ DataFrame'deki çakışan sütun adlarına eklenecek soneki belirtir."
   ]
  },
  {
   "cell_type": "code",
   "execution_count": 49,
   "metadata": {},
   "outputs": [
    {
     "name": "stdout",
     "output_type": "stream",
     "text": [
      "   isim soyisim\n",
      "1   Ali     NaN\n",
      "2  Veli  Yılmaz\n",
      "3  Ayşe    Kaya\n"
     ]
    }
   ],
   "source": [
    "# DataFrame'leri oluşturalım\n",
    "df1 = pd.DataFrame({'isim': ['Ali', 'Veli', 'Ayşe']}, index=[1, 2, 3])\n",
    "df2 = pd.DataFrame({'soyisim': ['Yılmaz', 'Kaya', 'Demir']}, index=[2, 3, 4])\n",
    "\n",
    "# İndekslere göre birleştirelim\n",
    "joined_df = df1.join(df2)\n",
    "\n",
    "print(joined_df)"
   ]
  },
  {
   "cell_type": "markdown",
   "metadata": {},
   "source": [
    "### 7. Bir dataframedeki bir sütunun tüm elemanlarına bir fonksiyonu nasıl uygularsınız?"
   ]
  },
  {
   "cell_type": "code",
   "execution_count": 50,
   "metadata": {},
   "outputs": [
    {
     "name": "stdout",
     "output_type": "stream",
     "text": [
      "     isim  yaş  yeni_yaş\n",
      "0     Ali   25        27\n",
      "1    Ayşe   30        32\n",
      "2  Mehmet   28        30\n"
     ]
    }
   ],
   "source": [
    "# Örnek DataFrame\n",
    "data = {'isim': ['Ali', 'Ayşe', 'Mehmet'],\n",
    "        'yaş': [25, 30, 28]}\n",
    "df = pd.DataFrame(data)\n",
    "\n",
    "# Yaş sütunundaki her bir değere 2 ekleyen bir fonksiyon\n",
    "def yasa_iki_ekle(yas):\n",
    "  return yas + 2\n",
    "\n",
    "# Fonksiyonu apply() metodu ile yaş sütununa uygulayalım\n",
    "df['yeni_yaş'] = df['yaş'].apply(yasa_iki_ekle)\n",
    "\n",
    "# Sonucu yazdıralım\n",
    "print(df)"
   ]
  },
  {
   "cell_type": "markdown",
   "metadata": {},
   "source": [
    "Lambda ile yapılışı"
   ]
  },
  {
   "cell_type": "code",
   "execution_count": 51,
   "metadata": {},
   "outputs": [],
   "source": [
    "# Yaş sütunundaki her bir değeri 2 ile çarpma\n",
    "df['iki_kat_yaş'] = df['yaş'].apply(lambda x: x * 2)"
   ]
  },
  {
   "cell_type": "code",
   "execution_count": 52,
   "metadata": {},
   "outputs": [
    {
     "data": {
      "text/html": [
       "<div>\n",
       "<style scoped>\n",
       "    .dataframe tbody tr th:only-of-type {\n",
       "        vertical-align: middle;\n",
       "    }\n",
       "\n",
       "    .dataframe tbody tr th {\n",
       "        vertical-align: top;\n",
       "    }\n",
       "\n",
       "    .dataframe thead th {\n",
       "        text-align: right;\n",
       "    }\n",
       "</style>\n",
       "<table border=\"1\" class=\"dataframe\">\n",
       "  <thead>\n",
       "    <tr style=\"text-align: right;\">\n",
       "      <th></th>\n",
       "      <th>isim</th>\n",
       "      <th>yaş</th>\n",
       "      <th>yeni_yaş</th>\n",
       "      <th>iki_kat_yaş</th>\n",
       "    </tr>\n",
       "  </thead>\n",
       "  <tbody>\n",
       "    <tr>\n",
       "      <th>0</th>\n",
       "      <td>Ali</td>\n",
       "      <td>25</td>\n",
       "      <td>27</td>\n",
       "      <td>50</td>\n",
       "    </tr>\n",
       "    <tr>\n",
       "      <th>1</th>\n",
       "      <td>Ayşe</td>\n",
       "      <td>30</td>\n",
       "      <td>32</td>\n",
       "      <td>60</td>\n",
       "    </tr>\n",
       "    <tr>\n",
       "      <th>2</th>\n",
       "      <td>Mehmet</td>\n",
       "      <td>28</td>\n",
       "      <td>30</td>\n",
       "      <td>56</td>\n",
       "    </tr>\n",
       "  </tbody>\n",
       "</table>\n",
       "</div>"
      ],
      "text/plain": [
       "     isim  yaş  yeni_yaş  iki_kat_yaş\n",
       "0     Ali   25        27           50\n",
       "1    Ayşe   30        32           60\n",
       "2  Mehmet   28        30           56"
      ]
     },
     "execution_count": 52,
     "metadata": {},
     "output_type": "execute_result"
    }
   ],
   "source": [
    "df"
   ]
  },
  {
   "cell_type": "markdown",
   "metadata": {},
   "source": [
    "### 8. Bir dataframedeki tekrarlı verileri nasıl ele alırsınız?"
   ]
  },
  {
   "cell_type": "code",
   "execution_count": 53,
   "metadata": {},
   "outputs": [
    {
     "name": "stdout",
     "output_type": "stream",
     "text": [
      "Tekrarlı Satırlar:\n",
      "0    False\n",
      "1    False\n",
      "2     True\n",
      "3    False\n",
      "4    False\n",
      "5     True\n",
      "dtype: bool\n"
     ]
    }
   ],
   "source": [
    "\n",
    "# Örnek bir DataFrame oluşturma\n",
    "data = {\n",
    "    'A': [1, 2, 2, 3, 4, 4],\n",
    "    'B': ['a', 'b', 'b', 'c', 'd', 'd']\n",
    "}\n",
    "df = pd.DataFrame(data)\n",
    "\n",
    "# Tekrarlı verileri tespit etme\n",
    "duplicates = df.duplicated()\n",
    "print(\"Tekrarlı Satırlar:\")\n",
    "print(duplicates)"
   ]
  },
  {
   "cell_type": "code",
   "execution_count": 54,
   "metadata": {},
   "outputs": [
    {
     "data": {
      "text/plain": [
       "2"
      ]
     },
     "execution_count": 54,
     "metadata": {},
     "output_type": "execute_result"
    }
   ],
   "source": [
    "df.duplicated().sum()"
   ]
  },
  {
   "cell_type": "code",
   "execution_count": 58,
   "metadata": {},
   "outputs": [
    {
     "name": "stdout",
     "output_type": "stream",
     "text": [
      "\n",
      "Tekrarlı Satırlar:\n",
      "   A  B\n",
      "2  2  b\n",
      "5  4  d\n"
     ]
    }
   ],
   "source": [
    "# Tekrarlı satırları inceleme\n",
    "duplicate_rows = df[df.duplicated()]\n",
    "print(\"\\nTekrarlı Satırlar:\")\n",
    "print(duplicate_rows)"
   ]
  },
  {
   "cell_type": "code",
   "execution_count": 55,
   "metadata": {},
   "outputs": [
    {
     "name": "stdout",
     "output_type": "stream",
     "text": [
      "\n",
      "Tekrarsız DataFrame:\n",
      "   A  B\n",
      "0  1  a\n",
      "1  2  b\n",
      "3  3  c\n",
      "4  4  d\n"
     ]
    }
   ],
   "source": [
    "# Tekrarlı satırları kaldırma\n",
    "df_unique = df.drop_duplicates()\n",
    "print(\"\\nTekrarsız DataFrame:\")\n",
    "print(df_unique)"
   ]
  },
  {
   "cell_type": "raw",
   "metadata": {
    "vscode": {
     "languageId": "raw"
    }
   },
   "source": [
    "df_last = df.drop_duplicates(keep='last')   # keep the last occurrence of each duplicate"
   ]
  },
  {
   "cell_type": "code",
   "execution_count": 56,
   "metadata": {},
   "outputs": [
    {
     "name": "stdout",
     "output_type": "stream",
     "text": [
      "\n",
      "'A' Sütununa Göre Tekrarsız DataFrame:\n",
      "   A  B\n",
      "0  1  a\n",
      "1  2  b\n",
      "3  3  c\n",
      "4  4  d\n"
     ]
    }
   ],
   "source": [
    "# Sadece 'A' sütununa göre tekrarlı satırları kaldırma\n",
    "df_unique_subset = df.drop_duplicates(subset=['A'])\n",
    "print(\"\\n'A' Sütununa Göre Tekrarsız DataFrame:\")\n",
    "print(df_unique_subset)"
   ]
  },
  {
   "cell_type": "code",
   "execution_count": 57,
   "metadata": {},
   "outputs": [
    {
     "data": {
      "text/plain": [
       "A  B\n",
       "2  b    2\n",
       "4  d    2\n",
       "1  a    1\n",
       "3  c    1\n",
       "Name: count, dtype: int64"
      ]
     },
     "execution_count": 57,
     "metadata": {},
     "output_type": "execute_result"
    }
   ],
   "source": [
    "df.value_counts()"
   ]
  },
  {
   "cell_type": "markdown",
   "metadata": {},
   "source": [
    "### 9. Pandasta kategorik veriyi numerik formata nasıl çevirirsiniz?"
   ]
  },
  {
   "cell_type": "markdown",
   "metadata": {},
   "source": [
    "Genel olarak kullanılan iki yaklaşım Label Encoding ve One Hot Encoding/get_dummies."
   ]
  },
  {
   "cell_type": "markdown",
   "metadata": {},
   "source": [
    "**Label Encoding**"
   ]
  },
  {
   "cell_type": "code",
   "execution_count": 59,
   "metadata": {},
   "outputs": [
    {
     "name": "stdout",
     "output_type": "stream",
     "text": [
      "Orijinal DataFrame:\n",
      "      Renk  Miktar\n",
      "0  Kırmızı      10\n",
      "1     Mavi      15\n",
      "2    Yeşil      10\n",
      "3  Kırmızı      20\n",
      "4     Mavi      25\n",
      "5     Sarı      30\n"
     ]
    }
   ],
   "source": [
    "import pandas as pd\n",
    "from sklearn.preprocessing import LabelEncoder\n",
    "\n",
    "# Örnek bir DataFrame oluşturma\n",
    "data = {\n",
    "    'Renk': ['Kırmızı', 'Mavi', 'Yeşil', 'Kırmızı', 'Mavi', 'Sarı'],\n",
    "    'Miktar': [10, 15, 10, 20, 25, 30]\n",
    "}\n",
    "df = pd.DataFrame(data)\n",
    "\n",
    "print(\"Orijinal DataFrame:\")\n",
    "print(df)"
   ]
  },
  {
   "cell_type": "code",
   "execution_count": 60,
   "metadata": {},
   "outputs": [
    {
     "name": "stdout",
     "output_type": "stream",
     "text": [
      "\n",
      "Label Encoding Uygulandıktan Sonra DataFrame:\n",
      "      Renk  Miktar  Renk_encoded\n",
      "0  Kırmızı      10             0\n",
      "1     Mavi      15             1\n",
      "2    Yeşil      10             3\n",
      "3  Kırmızı      20             0\n",
      "4     Mavi      25             1\n",
      "5     Sarı      30             2\n",
      "\n",
      "Kategorik Değerlerin Etiketleri:\n",
      "Kırmızı: 0\n",
      "Mavi: 1\n",
      "Sarı: 2\n",
      "Yeşil: 3\n"
     ]
    }
   ],
   "source": [
    "\n",
    "# LabelEncoder nesnesi oluşturma\n",
    "label_encoder = LabelEncoder()\n",
    "\n",
    "# 'Renk' sütununu sayısal verilere dönüştürme\n",
    "df['Renk_encoded'] = label_encoder.fit_transform(df['Renk'])\n",
    "\n",
    "print(\"\\nLabel Encoding Uygulandıktan Sonra DataFrame:\")\n",
    "print(df)\n",
    "\n",
    "# Kategorik değerlerin etiketlerini görüntüleme\n",
    "print(\"\\nKategorik Değerlerin Etiketleri:\")\n",
    "for i, item in enumerate(label_encoder.classes_):\n",
    "    print(f\"{item}: {i}\")"
   ]
  },
  {
   "cell_type": "markdown",
   "metadata": {},
   "source": [
    "**One Hot Encoding / get_dummies**"
   ]
  },
  {
   "cell_type": "code",
   "execution_count": 65,
   "metadata": {},
   "outputs": [
    {
     "name": "stdout",
     "output_type": "stream",
     "text": [
      "Orijinal DataFrame:\n",
      "      Renk  Miktar\n",
      "0  Kırmızı      10\n",
      "1     Mavi      15\n",
      "2    Yeşil      10\n",
      "3  Kırmızı      20\n",
      "4     Mavi      25\n",
      "5     Sarı      30\n",
      "\n",
      "One Hot Encoding Uygulandıktan Sonra DataFrame:\n",
      "\n",
      "   Miktar  Renk_Mavi  Renk_Sarı  Renk_Yeşil\n",
      "0      10      False      False       False\n",
      "1      15       True      False       False\n",
      "2      10      False      False        True\n",
      "3      20      False      False       False\n",
      "4      25       True      False       False\n",
      "5      30      False       True       False\n"
     ]
    }
   ],
   "source": [
    "# Örnek bir DataFrame oluşturma\n",
    "data = {\n",
    "    'Renk': ['Kırmızı', 'Mavi', 'Yeşil', 'Kırmızı', 'Mavi', 'Sarı'],\n",
    "    'Miktar': [10, 15, 10, 20, 25, 30]\n",
    "}\n",
    "df = pd.DataFrame(data)\n",
    "\n",
    "print(\"Orijinal DataFrame:\")\n",
    "print(df)\n",
    "\n",
    "# One Hot Encoding uygulama\n",
    "df_one_hot = pd.get_dummies(df, columns=['Renk'], drop_first=True)\n",
    "\n",
    "print(\"\\nOne Hot Encoding Uygulandıktan Sonra DataFrame:\\n\")\n",
    "print(df_one_hot)"
   ]
  },
  {
   "cell_type": "markdown",
   "metadata": {},
   "source": [
    "### 10. where() metodunu kullanarak sütunlara koşullu mantığın nasıl uygulanacağını gösterin."
   ]
  },
  {
   "cell_type": "code",
   "execution_count": 76,
   "metadata": {},
   "outputs": [
    {
     "data": {
      "text/html": [
       "<div>\n",
       "<style scoped>\n",
       "    .dataframe tbody tr th:only-of-type {\n",
       "        vertical-align: middle;\n",
       "    }\n",
       "\n",
       "    .dataframe tbody tr th {\n",
       "        vertical-align: top;\n",
       "    }\n",
       "\n",
       "    .dataframe thead th {\n",
       "        text-align: right;\n",
       "    }\n",
       "</style>\n",
       "<table border=\"1\" class=\"dataframe\">\n",
       "  <thead>\n",
       "    <tr style=\"text-align: right;\">\n",
       "      <th></th>\n",
       "      <th>Ürün</th>\n",
       "      <th>Fiyat</th>\n",
       "      <th>Stok</th>\n",
       "    </tr>\n",
       "  </thead>\n",
       "  <tbody>\n",
       "    <tr>\n",
       "      <th>0</th>\n",
       "      <td>A</td>\n",
       "      <td>10</td>\n",
       "      <td>50</td>\n",
       "    </tr>\n",
       "    <tr>\n",
       "      <th>1</th>\n",
       "      <td>B</td>\n",
       "      <td>25</td>\n",
       "      <td>30</td>\n",
       "    </tr>\n",
       "    <tr>\n",
       "      <th>2</th>\n",
       "      <td>C</td>\n",
       "      <td>15</td>\n",
       "      <td>20</td>\n",
       "    </tr>\n",
       "    <tr>\n",
       "      <th>3</th>\n",
       "      <td>D</td>\n",
       "      <td>30</td>\n",
       "      <td>10</td>\n",
       "    </tr>\n",
       "    <tr>\n",
       "      <th>4</th>\n",
       "      <td>E</td>\n",
       "      <td>20</td>\n",
       "      <td>40</td>\n",
       "    </tr>\n",
       "  </tbody>\n",
       "</table>\n",
       "</div>"
      ],
      "text/plain": [
       "  Ürün  Fiyat  Stok\n",
       "0    A     10    50\n",
       "1    B     25    30\n",
       "2    C     15    20\n",
       "3    D     30    10\n",
       "4    E     20    40"
      ]
     },
     "execution_count": 76,
     "metadata": {},
     "output_type": "execute_result"
    }
   ],
   "source": [
    "import pandas as pd\n",
    "\n",
    "data = {'Ürün': ['A', 'B', 'C', 'D', 'E'],\n",
    "        'Fiyat': [10, 25, 15, 30, 20],\n",
    "        'Stok': [50, 30, 20, 10, 40]}\n",
    "\n",
    "df = pd.DataFrame(data)\n",
    "df"
   ]
  },
  {
   "cell_type": "code",
   "execution_count": 72,
   "metadata": {},
   "outputs": [
    {
     "data": {
      "text/html": [
       "<div>\n",
       "<style scoped>\n",
       "    .dataframe tbody tr th:only-of-type {\n",
       "        vertical-align: middle;\n",
       "    }\n",
       "\n",
       "    .dataframe tbody tr th {\n",
       "        vertical-align: top;\n",
       "    }\n",
       "\n",
       "    .dataframe thead th {\n",
       "        text-align: right;\n",
       "    }\n",
       "</style>\n",
       "<table border=\"1\" class=\"dataframe\">\n",
       "  <thead>\n",
       "    <tr style=\"text-align: right;\">\n",
       "      <th></th>\n",
       "      <th>Ürün</th>\n",
       "      <th>Fiyat</th>\n",
       "      <th>Stok</th>\n",
       "    </tr>\n",
       "  </thead>\n",
       "  <tbody>\n",
       "    <tr>\n",
       "      <th>0</th>\n",
       "      <td>NaN</td>\n",
       "      <td>NaN</td>\n",
       "      <td>NaN</td>\n",
       "    </tr>\n",
       "    <tr>\n",
       "      <th>1</th>\n",
       "      <td>B</td>\n",
       "      <td>25.0</td>\n",
       "      <td>30.0</td>\n",
       "    </tr>\n",
       "    <tr>\n",
       "      <th>2</th>\n",
       "      <td>NaN</td>\n",
       "      <td>NaN</td>\n",
       "      <td>NaN</td>\n",
       "    </tr>\n",
       "    <tr>\n",
       "      <th>3</th>\n",
       "      <td>D</td>\n",
       "      <td>30.0</td>\n",
       "      <td>10.0</td>\n",
       "    </tr>\n",
       "    <tr>\n",
       "      <th>4</th>\n",
       "      <td>NaN</td>\n",
       "      <td>NaN</td>\n",
       "      <td>NaN</td>\n",
       "    </tr>\n",
       "  </tbody>\n",
       "</table>\n",
       "</div>"
      ],
      "text/plain": [
       "  Ürün  Fiyat  Stok\n",
       "0  NaN    NaN   NaN\n",
       "1    B   25.0  30.0\n",
       "2  NaN    NaN   NaN\n",
       "3    D   30.0  10.0\n",
       "4  NaN    NaN   NaN"
      ]
     },
     "execution_count": 72,
     "metadata": {},
     "output_type": "execute_result"
    }
   ],
   "source": [
    "# Fiyatı 20'den büyük olan ürünleri filtreleme\n",
    "df.where(df['Fiyat'] > 20)"
   ]
  },
  {
   "cell_type": "code",
   "execution_count": 73,
   "metadata": {},
   "outputs": [
    {
     "data": {
      "text/html": [
       "<div>\n",
       "<style scoped>\n",
       "    .dataframe tbody tr th:only-of-type {\n",
       "        vertical-align: middle;\n",
       "    }\n",
       "\n",
       "    .dataframe tbody tr th {\n",
       "        vertical-align: top;\n",
       "    }\n",
       "\n",
       "    .dataframe thead th {\n",
       "        text-align: right;\n",
       "    }\n",
       "</style>\n",
       "<table border=\"1\" class=\"dataframe\">\n",
       "  <thead>\n",
       "    <tr style=\"text-align: right;\">\n",
       "      <th></th>\n",
       "      <th>Ürün</th>\n",
       "      <th>Fiyat</th>\n",
       "      <th>Stok</th>\n",
       "    </tr>\n",
       "  </thead>\n",
       "  <tbody>\n",
       "    <tr>\n",
       "      <th>0</th>\n",
       "      <td>A</td>\n",
       "      <td>10</td>\n",
       "      <td>50</td>\n",
       "    </tr>\n",
       "    <tr>\n",
       "      <th>1</th>\n",
       "      <td>B</td>\n",
       "      <td>25</td>\n",
       "      <td>30</td>\n",
       "    </tr>\n",
       "    <tr>\n",
       "      <th>2</th>\n",
       "      <td>C</td>\n",
       "      <td>0</td>\n",
       "      <td>20</td>\n",
       "    </tr>\n",
       "    <tr>\n",
       "      <th>3</th>\n",
       "      <td>D</td>\n",
       "      <td>0</td>\n",
       "      <td>10</td>\n",
       "    </tr>\n",
       "    <tr>\n",
       "      <th>4</th>\n",
       "      <td>E</td>\n",
       "      <td>20</td>\n",
       "      <td>40</td>\n",
       "    </tr>\n",
       "  </tbody>\n",
       "</table>\n",
       "</div>"
      ],
      "text/plain": [
       "  Ürün  Fiyat  Stok\n",
       "0    A     10    50\n",
       "1    B     25    30\n",
       "2    C      0    20\n",
       "3    D      0    10\n",
       "4    E     20    40"
      ]
     },
     "execution_count": 73,
     "metadata": {},
     "output_type": "execute_result"
    }
   ],
   "source": [
    "# Stoku 25'ten az olan ürünlerin fiyatını 0 yapma\n",
    "df['Fiyat'] = df['Fiyat'].where(df['Stok'] >= 25, other=0)\n",
    "df"
   ]
  },
  {
   "cell_type": "code",
   "execution_count": 82,
   "metadata": {},
   "outputs": [
    {
     "data": {
      "text/html": [
       "<div>\n",
       "<style scoped>\n",
       "    .dataframe tbody tr th:only-of-type {\n",
       "        vertical-align: middle;\n",
       "    }\n",
       "\n",
       "    .dataframe tbody tr th {\n",
       "        vertical-align: top;\n",
       "    }\n",
       "\n",
       "    .dataframe thead th {\n",
       "        text-align: right;\n",
       "    }\n",
       "</style>\n",
       "<table border=\"1\" class=\"dataframe\">\n",
       "  <thead>\n",
       "    <tr style=\"text-align: right;\">\n",
       "      <th></th>\n",
       "      <th>Ürün</th>\n",
       "      <th>Fiyat</th>\n",
       "      <th>Stok</th>\n",
       "    </tr>\n",
       "  </thead>\n",
       "  <tbody>\n",
       "    <tr>\n",
       "      <th>0</th>\n",
       "      <td>Düşük Stok</td>\n",
       "      <td>Düşük Stok</td>\n",
       "      <td>Düşük Stok</td>\n",
       "    </tr>\n",
       "    <tr>\n",
       "      <th>1</th>\n",
       "      <td>B</td>\n",
       "      <td>25</td>\n",
       "      <td>30</td>\n",
       "    </tr>\n",
       "    <tr>\n",
       "      <th>2</th>\n",
       "      <td>Düşük Stok</td>\n",
       "      <td>Düşük Stok</td>\n",
       "      <td>Düşük Stok</td>\n",
       "    </tr>\n",
       "    <tr>\n",
       "      <th>3</th>\n",
       "      <td>Düşük Stok</td>\n",
       "      <td>Düşük Stok</td>\n",
       "      <td>Düşük Stok</td>\n",
       "    </tr>\n",
       "    <tr>\n",
       "      <th>4</th>\n",
       "      <td>E</td>\n",
       "      <td>20</td>\n",
       "      <td>40</td>\n",
       "    </tr>\n",
       "  </tbody>\n",
       "</table>\n",
       "</div>"
      ],
      "text/plain": [
       "         Ürün       Fiyat        Stok\n",
       "0  Düşük Stok  Düşük Stok  Düşük Stok\n",
       "1           B          25          30\n",
       "2  Düşük Stok  Düşük Stok  Düşük Stok\n",
       "3  Düşük Stok  Düşük Stok  Düşük Stok\n",
       "4           E          20          40"
      ]
     },
     "execution_count": 82,
     "metadata": {},
     "output_type": "execute_result"
    }
   ],
   "source": [
    "# Birden fazla koşul kullanma\n",
    "df.where((df['Fiyat'] > 15) & (df['Stok'] > 20), other='Düşük Stok')"
   ]
  },
  {
   "cell_type": "markdown",
   "metadata": {},
   "source": [
    "### 11. Bir DataFrame'deki verileri nasıl pivotlayabilirsiniz?"
   ]
  },
  {
   "cell_type": "markdown",
   "metadata": {},
   "source": [
    "Pandas kütüphanesinde DataFrame'lerdeki verileri pivotlamak için pivot() ve pivot_table() fonksiyonları kullanılabilir. "
   ]
  },
  {
   "cell_type": "markdown",
   "metadata": {},
   "source": [
    "pivot() fonksiyon, verilerinizi yeniden şekillendirmenize ve belirli bir sütunu indeks, başka bir sütunu sütun başlıkları ve üçüncü bir sütunu da değerler olarak kullanarak yeni bir DataFrame oluşturmanıza olanak tanır."
   ]
  },
  {
   "cell_type": "code",
   "execution_count": 84,
   "metadata": {},
   "outputs": [
    {
     "data": {
      "text/html": [
       "<div>\n",
       "<style scoped>\n",
       "    .dataframe tbody tr th:only-of-type {\n",
       "        vertical-align: middle;\n",
       "    }\n",
       "\n",
       "    .dataframe tbody tr th {\n",
       "        vertical-align: top;\n",
       "    }\n",
       "\n",
       "    .dataframe thead th {\n",
       "        text-align: right;\n",
       "    }\n",
       "</style>\n",
       "<table border=\"1\" class=\"dataframe\">\n",
       "  <thead>\n",
       "    <tr style=\"text-align: right;\">\n",
       "      <th></th>\n",
       "      <th>Tarih</th>\n",
       "      <th>Ürün</th>\n",
       "      <th>Satış</th>\n",
       "    </tr>\n",
       "  </thead>\n",
       "  <tbody>\n",
       "    <tr>\n",
       "      <th>0</th>\n",
       "      <td>2023-03-01</td>\n",
       "      <td>A</td>\n",
       "      <td>10</td>\n",
       "    </tr>\n",
       "    <tr>\n",
       "      <th>1</th>\n",
       "      <td>2023-03-01</td>\n",
       "      <td>B</td>\n",
       "      <td>15</td>\n",
       "    </tr>\n",
       "    <tr>\n",
       "      <th>2</th>\n",
       "      <td>2023-03-02</td>\n",
       "      <td>A</td>\n",
       "      <td>12</td>\n",
       "    </tr>\n",
       "    <tr>\n",
       "      <th>3</th>\n",
       "      <td>2023-03-02</td>\n",
       "      <td>B</td>\n",
       "      <td>20</td>\n",
       "    </tr>\n",
       "  </tbody>\n",
       "</table>\n",
       "</div>"
      ],
      "text/plain": [
       "        Tarih Ürün  Satış\n",
       "0  2023-03-01    A     10\n",
       "1  2023-03-01    B     15\n",
       "2  2023-03-02    A     12\n",
       "3  2023-03-02    B     20"
      ]
     },
     "execution_count": 84,
     "metadata": {},
     "output_type": "execute_result"
    }
   ],
   "source": [
    "# Örnek DataFrame\n",
    "data = {'Tarih': ['2023-03-01', '2023-03-01', '2023-03-02', '2023-03-02'],\n",
    "        'Ürün': ['A', 'B', 'A', 'B'],\n",
    "        'Satış': [10, 15, 12, 20]}\n",
    "df = pd.DataFrame(data)\n",
    "\n",
    "df"
   ]
  },
  {
   "cell_type": "code",
   "execution_count": 85,
   "metadata": {},
   "outputs": [
    {
     "name": "stdout",
     "output_type": "stream",
     "text": [
      "Ürün         A   B\n",
      "Tarih             \n",
      "2023-03-01  10  15\n",
      "2023-03-02  12  20\n"
     ]
    }
   ],
   "source": [
    "# DataFrame'i pivotlama\n",
    "pivot_df = df.pivot(index='Tarih', columns='Ürün', values='Satış')\n",
    "\n",
    "print(pivot_df)"
   ]
  },
  {
   "cell_type": "markdown",
   "metadata": {},
   "source": [
    "pivot_table() fonksiyonu aynı indeks ve sütun kombinasyonuna sahip birden fazla değeri işlemenize olanak tanır. Bunu yaparken, belirli bir agregasyon fonksiyonunu (varsayılan olarak mean) kullanarak bu değerleri birleştirir."
   ]
  },
  {
   "cell_type": "code",
   "execution_count": 89,
   "metadata": {},
   "outputs": [
    {
     "name": "stdout",
     "output_type": "stream",
     "text": [
      "Original DataFrame with Duplicates:\n",
      "         Date         City  Temperature\n",
      "0  2023-01-01     New York           30\n",
      "1  2023-01-01  Los Angeles           70\n",
      "2  2023-01-02     New York           32\n",
      "3  2023-01-02  Los Angeles           68\n",
      "4  2023-01-01     New York           28\n",
      "\n",
      "Pivot Table DataFrame:\n",
      "City        Los Angeles  New York\n",
      "Date                             \n",
      "2023-01-01           70        29\n",
      "2023-01-02           68        32\n"
     ]
    }
   ],
   "source": [
    "# Sample DataFrame with duplicate entries\n",
    "data = {\n",
    "    'Date': ['2023-01-01', '2023-01-01', '2023-01-02', '2023-01-02', '2023-01-01'],\n",
    "    'City': ['New York', 'Los Angeles', 'New York', 'Los Angeles', 'New York'],\n",
    "    'Temperature': [30, 70, 32, 68, 28]\n",
    "}\n",
    "df = pd.DataFrame(data)\n",
    "\n",
    "print(\"Original DataFrame with Duplicates:\")\n",
    "print(df)\n",
    "\n",
    "# Pivoting the DataFrame with aggregation\n",
    "pivot_table_df = df.pivot_table(index='Date', columns='City', values='Temperature', aggfunc='mean')\n",
    "\n",
    "print(\"\\nPivot Table DataFrame:\")\n",
    "print(pivot_table_df)"
   ]
  },
  {
   "cell_type": "markdown",
   "metadata": {},
   "source": [
    "### 12. Pandas ile bir dataframe'i csv olarak nasıl kaydedersiniz?"
   ]
  },
  {
   "cell_type": "code",
   "execution_count": null,
   "metadata": {},
   "outputs": [],
   "source": [
    "import pandas as pd\n",
    "\n",
    "# Örnek bir DataFrame oluşturalım\n",
    "data = {'İsim': ['Ali', 'Ayşe', 'Mehmet'],\n",
    "        'Yaş': [25, 30, 28],\n",
    "        'Şehir': ['İstanbul', 'Ankara', 'İzmir']}\n",
    "\n",
    "df = pd.DataFrame(data)\n",
    "\n",
    "# DataFrame'i \"veri.csv\" adlı bir CSV dosyasına kaydedelim\n",
    "df.to_csv('veri.csv', index=False) "
   ]
  },
  {
   "cell_type": "markdown",
   "metadata": {},
   "source": [
    "### 13. Pandas'da slicing ve filtering nedir?"
   ]
  },
  {
   "cell_type": "code",
   "execution_count": null,
   "metadata": {},
   "outputs": [],
   "source": [
    "data = {\n",
    "    'A': [1, 2, 3, 4, 5],\n",
    "    'B': ['a', 'b', 'c', 'd', 'e'],\n",
    "    'C': [10, 20, 30, 40, 50]\n",
    "}\n",
    "df = pd.DataFrame(data)\n",
    "\n",
    "print(\"Original DataFrame:\")\n",
    "print(df)\n",
    "\n",
    "# Slicing the DataFrame to get the first three rows and the first two columns\n",
    "sliced_df = df.iloc[0:3, 0:2]\n",
    "\n",
    "print(\"\\nSliced DataFrame (first 3 rows and first 2 columns):\")\n",
    "print(sliced_df)"
   ]
  },
  {
   "cell_type": "code",
   "execution_count": null,
   "metadata": {},
   "outputs": [],
   "source": [
    "# Filtering the DataFrame to get rows where column 'A' is greater than 2\n",
    "filtered_df = df[df['A'] > 2]\n",
    "\n",
    "print(\"\\nFiltered DataFrame (rows where A > 2):\")\n",
    "print(filtered_df)"
   ]
  },
  {
   "cell_type": "markdown",
   "metadata": {},
   "source": [
    "# <p style=\"background-color:green;font-family:newtimeroman;font-size:100%;color:white;text-align:center;border-radius:20px 20px;\"><b>Faydalı Olması Temennisiyle Teşekkürler</b></p>\n",
    "![](https://www.techproeducation.com/logo/headerlogo.svg)\n",
    "\n",
    "<b>Yeniliklerden ilk siz haberdar olmak istiyorsanız lütfen bizi takip etmeyi unutmayın </b>[YouTube](https://www.youtube.com/c/techproeducation) | [Instagram](https://www.instagram.com/techproeducation) | [Facebook](https://www.facebook.com/techproeducation) | [Telegram](https://t.me/joinchat/HH2qRvA-ulh4OWbb) | [Whatsapp](https://api.whatsapp.com/send/?phone=%2B15853042959&text&type=phone_number&app_absent=0) | [LinkedIn](https://www.linkedin.com/company/techproeducation/mycompany/) |"
   ]
  }
 ],
 "metadata": {
  "kernelspec": {
   "display_name": "Python 3",
   "language": "python",
   "name": "python3"
  },
  "language_info": {
   "codemirror_mode": {
    "name": "ipython",
    "version": 3
   },
   "file_extension": ".py",
   "mimetype": "text/x-python",
   "name": "python",
   "nbconvert_exporter": "python",
   "pygments_lexer": "ipython3",
   "version": "3.11.4"
  }
 },
 "nbformat": 4,
 "nbformat_minor": 2
}

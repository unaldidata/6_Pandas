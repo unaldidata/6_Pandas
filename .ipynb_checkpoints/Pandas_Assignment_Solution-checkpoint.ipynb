{
 "cells": [
  {
   "attachments": {
    "logo.png": {
     "image/png": "[encoded data removed]"
    }
   },
   "cell_type": "markdown",
   "id": "61f0657b",
   "metadata": {},
   "source": [
    "![logo.png](attachment:logo.png)"
   ]
  },
  {
   "cell_type": "markdown",
   "id": "95f61b17-f2e4-41cb-9318-8154c4cfba00",
   "metadata": {},
   "source": [
    "# PANDAS ASSIGMENT"
   ]
  },
  {
   "cell_type": "code",
   "execution_count": 5,
   "id": "4f6bd27d",
   "metadata": {
    "ExecuteTime": {
     "end_time": "2023-12-01T17:05:34.259370Z",
     "start_time": "2023-12-01T17:05:33.138490Z"
    }
   },
   "outputs": [],
   "source": [
    "import pandas as pd\n",
    "import numpy as np\n",
    "\n",
    "import warnings\n",
    "warnings.filterwarnings(\"ignore\") "
   ]
  },
  {
   "cell_type": "markdown",
   "id": "0b956e8b-c012-4b7d-9fe1-be68fe668606",
   "metadata": {},
   "source": [
    "## After reading the dataset, assign it named \"df\""
   ]
  },
  {
   "cell_type": "markdown",
   "id": "7f2d4e46",
   "metadata": {},
   "source": [
    "- **encoding** parametresi, veri dosyasının hangi karakter kodlamasıyla kodlandığını belirtir. \n",
    "\n",
    "- **unicode_escape**, veri dosyasının Unicode karakter kodlamasını kullanarak kodlandığını belirtir. Bu kodlama, veri dosyasındaki Unicode karakterlerin doğru bir şekilde okunmasını sağlar.\n",
    "\n",
    "**Bu bir perakende satış veri seti**\n",
    "\n",
    "1. **InvoiceNo**: Fatura numarası. Her satış işlemi için benzersiz bir numara olmalıdır. İade edilen ürünler için bu numaranın genellikle bir harfle (örn. \"C\" gibi) başladığına dair bilgilere rastlanabilmektedir.\n",
    "\n",
    "2. **StockCode**: Ürünün stok kodu ya da benzersiz tanımlayıcısı. Her ürün için farklı olmalıdır.\n",
    "\n",
    "3. **Description**: Ürünün açıklaması. Ürünün ne olduğunu belirten metin.\n",
    "\n",
    "4. **Quantity**: Satılan ya da iade edilen ürün miktarı. İade edilen ürünler için bu değer genellikle negatif olacaktır.\n",
    "\n",
    "5. **InvoiceDate**: Faturanın tarihi. Bu, satışın ya da iadenin gerçekleştiği tarihi gösterir.\n",
    "\n",
    "6. **UnitPrice**: Ürünün birim fiyatı. Genellikle bir ürünün tek bir birim için ne kadar olduğunu gösterir.\n",
    "\n",
    "7. **CustomerID**: Müşterinin benzersiz tanımlayıcısı. Her müşteri için farklı olmalıdır. Bu, müşterilere özgü analizler yapabilmek için kullanılır.\n",
    "\n",
    "8. **Country**: Müşterinin bulunduğu ülke. Satışın hangi ülkede gerçekleştiğini gösterir.\n",
    "\n",
    "Bu tür bir veri seti, genellikle perakende sektöründe satış analizi yapmak, müşteri davranışlarına dair içgörü kazanmak, envanter yönetimi yapmak ve birçok diğer iş analitiği uygulamalarında kullanılır. "
   ]
  },
  {
   "cell_type": "markdown",
   "id": "10dc16f2",
   "metadata": {},
   "source": [
    "`pd.read_csv(\"data.csv\", encoding='unicode_escape')` ifadesinde `encoding='unicode_escape'` kullanılmasının nedeni, bazen CSV dosyalarının içerdiği metinlerde standart karakter kodlamalarıyla uyumsuz karakterler bulunabilmesidir. Özellikle, farklı dillerdeki metinler veya özel karakterler içeren dosyalar bu tür sorunlara neden olabilir.\n",
    "\n",
    "Standart karakter kodlamaları (örneğin, UTF-8) bazı durumlarda bu özel karakterleri düzgün bir şekilde işleyemez ve veri okuma sırasında hata verir. Bu durumda, `encoding='unicode_escape'` seçeneği devreye girer. Bu kodlama, Unicode karakterlerini kaçış dizileri olarak okur ve böylece hata olmadan dosyayı okumanıza olanak tanır.\n",
    "\n",
    "`unicode_escape`, Python tarafından sağlanan özel bir kodlama şemasıdır ve Unicode karakterlerini temsil eden kaçış dizilerini çözümlemek için kullanılır. Bu yöntem, CSV dosyasının içeriği ile ilgili önceden bilgi sahibi olmadığınız durumlarda veya standart kodlamaların başarısız olduğu durumlarda kullanışlı olabilir.\n",
    "\n",
    "Kısacası, `encoding='unicode_escape'` kullanmak, karakter kodlama sorunları nedeniyle veri okuma işleminde karşılaşılan hataları önlemek için bir çözüm yoludur. Ancak, bu yöntem her zaman ideal değildir ve orijinal veri içeriğinin doğru bir şekilde yorumlanıp yorumlanmadığını kontrol etmek önemlidir."
   ]
  },
  {
   "cell_type": "markdown",
   "id": "52bd5e56-9824-4d83-8868-312fc2506d55",
   "metadata": {},
   "source": [
    "### Kaggle link:\n",
    "\n",
    "https://www.kaggle.com/datasets/carrie1/ecommerce-data"
   ]
  },
  {
   "cell_type": "code",
   "execution_count": 6,
   "id": "668e8221",
   "metadata": {
    "ExecuteTime": {
     "end_time": "2023-12-01T17:05:35.253882Z",
     "start_time": "2023-12-01T17:05:34.264370Z"
    }
   },
   "outputs": [
    {
     "data": {
      "text/html": [
       "<div>\n",
       "<style scoped>\n",
       "    .dataframe tbody tr th:only-of-type {\n",
       "        vertical-align: middle;\n",
       "    }\n",
       "\n",
       "    .dataframe tbody tr th {\n",
       "        vertical-align: top;\n",
       "    }\n",
       "\n",
       "    .dataframe thead th {\n",
       "        text-align: right;\n",
       "    }\n",
       "</style>\n",
       "<table border=\"1\" class=\"dataframe\">\n",
       "  <thead>\n",
       "    <tr style=\"text-align: right;\">\n",
       "      <th></th>\n",
       "      <th>InvoiceNo</th>\n",
       "      <th>StockCode</th>\n",
       "      <th>Description</th>\n",
       "      <th>Quantity</th>\n",
       "      <th>InvoiceDate</th>\n",
       "      <th>UnitPrice</th>\n",
       "      <th>CustomerID</th>\n",
       "      <th>Country</th>\n",
       "    </tr>\n",
       "  </thead>\n",
       "  <tbody>\n",
       "    <tr>\n",
       "      <th>0</th>\n",
       "      <td>536365</td>\n",
       "      <td>85123A</td>\n",
       "      <td>WHITE HANGING HEART T-LIGHT HOLDER</td>\n",
       "      <td>6</td>\n",
       "      <td>12/1/2010 8:26</td>\n",
       "      <td>2.55</td>\n",
       "      <td>17850.0</td>\n",
       "      <td>United Kingdom</td>\n",
       "    </tr>\n",
       "    <tr>\n",
       "      <th>1</th>\n",
       "      <td>536365</td>\n",
       "      <td>71053</td>\n",
       "      <td>WHITE METAL LANTERN</td>\n",
       "      <td>6</td>\n",
       "      <td>12/1/2010 8:26</td>\n",
       "      <td>3.39</td>\n",
       "      <td>17850.0</td>\n",
       "      <td>United Kingdom</td>\n",
       "    </tr>\n",
       "    <tr>\n",
       "      <th>2</th>\n",
       "      <td>536365</td>\n",
       "      <td>84406B</td>\n",
       "      <td>CREAM CUPID HEARTS COAT HANGER</td>\n",
       "      <td>8</td>\n",
       "      <td>12/1/2010 8:26</td>\n",
       "      <td>2.75</td>\n",
       "      <td>17850.0</td>\n",
       "      <td>United Kingdom</td>\n",
       "    </tr>\n",
       "    <tr>\n",
       "      <th>3</th>\n",
       "      <td>536365</td>\n",
       "      <td>84029G</td>\n",
       "      <td>KNITTED UNION FLAG HOT WATER BOTTLE</td>\n",
       "      <td>6</td>\n",
       "      <td>12/1/2010 8:26</td>\n",
       "      <td>3.39</td>\n",
       "      <td>17850.0</td>\n",
       "      <td>United Kingdom</td>\n",
       "    </tr>\n",
       "    <tr>\n",
       "      <th>4</th>\n",
       "      <td>536365</td>\n",
       "      <td>84029E</td>\n",
       "      <td>RED WOOLLY HOTTIE WHITE HEART.</td>\n",
       "      <td>6</td>\n",
       "      <td>12/1/2010 8:26</td>\n",
       "      <td>3.39</td>\n",
       "      <td>17850.0</td>\n",
       "      <td>United Kingdom</td>\n",
       "    </tr>\n",
       "    <tr>\n",
       "      <th>...</th>\n",
       "      <td>...</td>\n",
       "      <td>...</td>\n",
       "      <td>...</td>\n",
       "      <td>...</td>\n",
       "      <td>...</td>\n",
       "      <td>...</td>\n",
       "      <td>...</td>\n",
       "      <td>...</td>\n",
       "    </tr>\n",
       "    <tr>\n",
       "      <th>541904</th>\n",
       "      <td>581587</td>\n",
       "      <td>22613</td>\n",
       "      <td>PACK OF 20 SPACEBOY NAPKINS</td>\n",
       "      <td>12</td>\n",
       "      <td>12/9/2011 12:50</td>\n",
       "      <td>0.85</td>\n",
       "      <td>12680.0</td>\n",
       "      <td>France</td>\n",
       "    </tr>\n",
       "    <tr>\n",
       "      <th>541905</th>\n",
       "      <td>581587</td>\n",
       "      <td>22899</td>\n",
       "      <td>CHILDREN'S APRON DOLLY GIRL</td>\n",
       "      <td>6</td>\n",
       "      <td>12/9/2011 12:50</td>\n",
       "      <td>2.10</td>\n",
       "      <td>12680.0</td>\n",
       "      <td>France</td>\n",
       "    </tr>\n",
       "    <tr>\n",
       "      <th>541906</th>\n",
       "      <td>581587</td>\n",
       "      <td>23254</td>\n",
       "      <td>CHILDRENS CUTLERY DOLLY GIRL</td>\n",
       "      <td>4</td>\n",
       "      <td>12/9/2011 12:50</td>\n",
       "      <td>4.15</td>\n",
       "      <td>12680.0</td>\n",
       "      <td>France</td>\n",
       "    </tr>\n",
       "    <tr>\n",
       "      <th>541907</th>\n",
       "      <td>581587</td>\n",
       "      <td>23255</td>\n",
       "      <td>CHILDRENS CUTLERY CIRCUS PARADE</td>\n",
       "      <td>4</td>\n",
       "      <td>12/9/2011 12:50</td>\n",
       "      <td>4.15</td>\n",
       "      <td>12680.0</td>\n",
       "      <td>France</td>\n",
       "    </tr>\n",
       "    <tr>\n",
       "      <th>541908</th>\n",
       "      <td>581587</td>\n",
       "      <td>22138</td>\n",
       "      <td>BAKING SET 9 PIECE RETROSPOT</td>\n",
       "      <td>3</td>\n",
       "      <td>12/9/2011 12:50</td>\n",
       "      <td>4.95</td>\n",
       "      <td>12680.0</td>\n",
       "      <td>France</td>\n",
       "    </tr>\n",
       "  </tbody>\n",
       "</table>\n",
       "<p>541909 rows × 8 columns</p>\n",
       "</div>"
      ],
      "text/plain": [
       "       InvoiceNo StockCode                          Description  Quantity  \\\n",
       "0         536365    85123A   WHITE HANGING HEART T-LIGHT HOLDER         6   \n",
       "1         536365     71053                  WHITE METAL LANTERN         6   \n",
       "2         536365    84406B       CREAM CUPID HEARTS COAT HANGER         8   \n",
       "3         536365    84029G  KNITTED UNION FLAG HOT WATER BOTTLE         6   \n",
       "4         536365    84029E       RED WOOLLY HOTTIE WHITE HEART.         6   \n",
       "...          ...       ...                                  ...       ...   \n",
       "541904    581587     22613          PACK OF 20 SPACEBOY NAPKINS        12   \n",
       "541905    581587     22899         CHILDREN'S APRON DOLLY GIRL          6   \n",
       "541906    581587     23254        CHILDRENS CUTLERY DOLLY GIRL          4   \n",
       "541907    581587     23255      CHILDRENS CUTLERY CIRCUS PARADE         4   \n",
       "541908    581587     22138        BAKING SET 9 PIECE RETROSPOT          3   \n",
       "\n",
       "            InvoiceDate  UnitPrice  CustomerID         Country  \n",
       "0        12/1/2010 8:26       2.55     17850.0  United Kingdom  \n",
       "1        12/1/2010 8:26       3.39     17850.0  United Kingdom  \n",
       "2        12/1/2010 8:26       2.75     17850.0  United Kingdom  \n",
       "3        12/1/2010 8:26       3.39     17850.0  United Kingdom  \n",
       "4        12/1/2010 8:26       3.39     17850.0  United Kingdom  \n",
       "...                 ...        ...         ...             ...  \n",
       "541904  12/9/2011 12:50       0.85     12680.0          France  \n",
       "541905  12/9/2011 12:50       2.10     12680.0          France  \n",
       "541906  12/9/2011 12:50       4.15     12680.0          France  \n",
       "541907  12/9/2011 12:50       4.15     12680.0          France  \n",
       "541908  12/9/2011 12:50       4.95     12680.0          France  \n",
       "\n",
       "[541909 rows x 8 columns]"
      ]
     },
     "execution_count": 6,
     "metadata": {},
     "output_type": "execute_result"
    }
   ],
   "source": [
    "df = pd.read_csv(\"data.csv\", encoding= 'unicode_escape')\n",
    "df  "
   ]
  },
  {
   "cell_type": "markdown",
   "id": "8c171220-e212-4057-ad4c-e809ba8961fd",
   "metadata": {},
   "source": [
    "## Check the Head of the DataFrame"
   ]
  },
  {
   "cell_type": "code",
   "execution_count": 7,
   "id": "107c7c3b",
   "metadata": {
    "ExecuteTime": {
     "end_time": "2023-12-01T17:05:35.275639Z",
     "start_time": "2023-12-01T17:05:35.256884Z"
    }
   },
   "outputs": [
    {
     "data": {
      "text/html": [
       "<div>\n",
       "<style scoped>\n",
       "    .dataframe tbody tr th:only-of-type {\n",
       "        vertical-align: middle;\n",
       "    }\n",
       "\n",
       "    .dataframe tbody tr th {\n",
       "        vertical-align: top;\n",
       "    }\n",
       "\n",
       "    .dataframe thead th {\n",
       "        text-align: right;\n",
       "    }\n",
       "</style>\n",
       "<table border=\"1\" class=\"dataframe\">\n",
       "  <thead>\n",
       "    <tr style=\"text-align: right;\">\n",
       "      <th></th>\n",
       "      <th>InvoiceNo</th>\n",
       "      <th>StockCode</th>\n",
       "      <th>Description</th>\n",
       "      <th>Quantity</th>\n",
       "      <th>InvoiceDate</th>\n",
       "      <th>UnitPrice</th>\n",
       "      <th>CustomerID</th>\n",
       "      <th>Country</th>\n",
       "    </tr>\n",
       "  </thead>\n",
       "  <tbody>\n",
       "    <tr>\n",
       "      <th>0</th>\n",
       "      <td>536365</td>\n",
       "      <td>85123A</td>\n",
       "      <td>WHITE HANGING HEART T-LIGHT HOLDER</td>\n",
       "      <td>6</td>\n",
       "      <td>12/1/2010 8:26</td>\n",
       "      <td>2.55</td>\n",
       "      <td>17850.0</td>\n",
       "      <td>United Kingdom</td>\n",
       "    </tr>\n",
       "    <tr>\n",
       "      <th>1</th>\n",
       "      <td>536365</td>\n",
       "      <td>71053</td>\n",
       "      <td>WHITE METAL LANTERN</td>\n",
       "      <td>6</td>\n",
       "      <td>12/1/2010 8:26</td>\n",
       "      <td>3.39</td>\n",
       "      <td>17850.0</td>\n",
       "      <td>United Kingdom</td>\n",
       "    </tr>\n",
       "    <tr>\n",
       "      <th>2</th>\n",
       "      <td>536365</td>\n",
       "      <td>84406B</td>\n",
       "      <td>CREAM CUPID HEARTS COAT HANGER</td>\n",
       "      <td>8</td>\n",
       "      <td>12/1/2010 8:26</td>\n",
       "      <td>2.75</td>\n",
       "      <td>17850.0</td>\n",
       "      <td>United Kingdom</td>\n",
       "    </tr>\n",
       "    <tr>\n",
       "      <th>3</th>\n",
       "      <td>536365</td>\n",
       "      <td>84029G</td>\n",
       "      <td>KNITTED UNION FLAG HOT WATER BOTTLE</td>\n",
       "      <td>6</td>\n",
       "      <td>12/1/2010 8:26</td>\n",
       "      <td>3.39</td>\n",
       "      <td>17850.0</td>\n",
       "      <td>United Kingdom</td>\n",
       "    </tr>\n",
       "    <tr>\n",
       "      <th>4</th>\n",
       "      <td>536365</td>\n",
       "      <td>84029E</td>\n",
       "      <td>RED WOOLLY HOTTIE WHITE HEART.</td>\n",
       "      <td>6</td>\n",
       "      <td>12/1/2010 8:26</td>\n",
       "      <td>3.39</td>\n",
       "      <td>17850.0</td>\n",
       "      <td>United Kingdom</td>\n",
       "    </tr>\n",
       "    <tr>\n",
       "      <th>5</th>\n",
       "      <td>536365</td>\n",
       "      <td>22752</td>\n",
       "      <td>SET 7 BABUSHKA NESTING BOXES</td>\n",
       "      <td>2</td>\n",
       "      <td>12/1/2010 8:26</td>\n",
       "      <td>7.65</td>\n",
       "      <td>17850.0</td>\n",
       "      <td>United Kingdom</td>\n",
       "    </tr>\n",
       "    <tr>\n",
       "      <th>6</th>\n",
       "      <td>536365</td>\n",
       "      <td>21730</td>\n",
       "      <td>GLASS STAR FROSTED T-LIGHT HOLDER</td>\n",
       "      <td>6</td>\n",
       "      <td>12/1/2010 8:26</td>\n",
       "      <td>4.25</td>\n",
       "      <td>17850.0</td>\n",
       "      <td>United Kingdom</td>\n",
       "    </tr>\n",
       "    <tr>\n",
       "      <th>7</th>\n",
       "      <td>536366</td>\n",
       "      <td>22633</td>\n",
       "      <td>HAND WARMER UNION JACK</td>\n",
       "      <td>6</td>\n",
       "      <td>12/1/2010 8:28</td>\n",
       "      <td>1.85</td>\n",
       "      <td>17850.0</td>\n",
       "      <td>United Kingdom</td>\n",
       "    </tr>\n",
       "    <tr>\n",
       "      <th>8</th>\n",
       "      <td>536366</td>\n",
       "      <td>22632</td>\n",
       "      <td>HAND WARMER RED POLKA DOT</td>\n",
       "      <td>6</td>\n",
       "      <td>12/1/2010 8:28</td>\n",
       "      <td>1.85</td>\n",
       "      <td>17850.0</td>\n",
       "      <td>United Kingdom</td>\n",
       "    </tr>\n",
       "    <tr>\n",
       "      <th>9</th>\n",
       "      <td>536367</td>\n",
       "      <td>84879</td>\n",
       "      <td>ASSORTED COLOUR BIRD ORNAMENT</td>\n",
       "      <td>32</td>\n",
       "      <td>12/1/2010 8:34</td>\n",
       "      <td>1.69</td>\n",
       "      <td>13047.0</td>\n",
       "      <td>United Kingdom</td>\n",
       "    </tr>\n",
       "  </tbody>\n",
       "</table>\n",
       "</div>"
      ],
      "text/plain": [
       "  InvoiceNo StockCode                          Description  Quantity  \\\n",
       "0    536365    85123A   WHITE HANGING HEART T-LIGHT HOLDER         6   \n",
       "1    536365     71053                  WHITE METAL LANTERN         6   \n",
       "2    536365    84406B       CREAM CUPID HEARTS COAT HANGER         8   \n",
       "3    536365    84029G  KNITTED UNION FLAG HOT WATER BOTTLE         6   \n",
       "4    536365    84029E       RED WOOLLY HOTTIE WHITE HEART.         6   \n",
       "5    536365     22752         SET 7 BABUSHKA NESTING BOXES         2   \n",
       "6    536365     21730    GLASS STAR FROSTED T-LIGHT HOLDER         6   \n",
       "7    536366     22633               HAND WARMER UNION JACK         6   \n",
       "8    536366     22632            HAND WARMER RED POLKA DOT         6   \n",
       "9    536367     84879        ASSORTED COLOUR BIRD ORNAMENT        32   \n",
       "\n",
       "      InvoiceDate  UnitPrice  CustomerID         Country  \n",
       "0  12/1/2010 8:26       2.55     17850.0  United Kingdom  \n",
       "1  12/1/2010 8:26       3.39     17850.0  United Kingdom  \n",
       "2  12/1/2010 8:26       2.75     17850.0  United Kingdom  \n",
       "3  12/1/2010 8:26       3.39     17850.0  United Kingdom  \n",
       "4  12/1/2010 8:26       3.39     17850.0  United Kingdom  \n",
       "5  12/1/2010 8:26       7.65     17850.0  United Kingdom  \n",
       "6  12/1/2010 8:26       4.25     17850.0  United Kingdom  \n",
       "7  12/1/2010 8:28       1.85     17850.0  United Kingdom  \n",
       "8  12/1/2010 8:28       1.85     17850.0  United Kingdom  \n",
       "9  12/1/2010 8:34       1.69     13047.0  United Kingdom  "
      ]
     },
     "execution_count": 7,
     "metadata": {},
     "output_type": "execute_result"
    }
   ],
   "source": [
    "df.head(10)"
   ]
  },
  {
   "cell_type": "markdown",
   "id": "2891b252-a1db-4ab4-a164-47c9cce9a271",
   "metadata": {},
   "source": [
    "## Find out the describe and info attributes of the dataframe"
   ]
  },
  {
   "cell_type": "code",
   "execution_count": 8,
   "id": "51e58682",
   "metadata": {
    "ExecuteTime": {
     "end_time": "2023-12-01T17:05:35.438481Z",
     "start_time": "2023-12-01T17:05:35.281640Z"
    }
   },
   "outputs": [
    {
     "name": "stdout",
     "output_type": "stream",
     "text": [
      "<class 'pandas.core.frame.DataFrame'>\n",
      "RangeIndex: 541909 entries, 0 to 541908\n",
      "Data columns (total 8 columns):\n",
      " #   Column       Non-Null Count   Dtype  \n",
      "---  ------       --------------   -----  \n",
      " 0   InvoiceNo    541909 non-null  object \n",
      " 1   StockCode    541909 non-null  object \n",
      " 2   Description  540455 non-null  object \n",
      " 3   Quantity     541909 non-null  int64  \n",
      " 4   InvoiceDate  541909 non-null  object \n",
      " 5   UnitPrice    541909 non-null  float64\n",
      " 6   CustomerID   406829 non-null  float64\n",
      " 7   Country      541909 non-null  object \n",
      "dtypes: float64(2), int64(1), object(5)\n",
      "memory usage: 33.1+ MB\n"
     ]
    }
   ],
   "source": [
    "df.info()"
   ]
  },
  {
   "cell_type": "code",
   "execution_count": 9,
   "id": "58b98826",
   "metadata": {
    "ExecuteTime": {
     "end_time": "2023-12-01T17:05:35.904658Z",
     "start_time": "2023-12-01T17:05:35.441169Z"
    }
   },
   "outputs": [
    {
     "data": {
      "text/html": [
       "<div>\n",
       "<style scoped>\n",
       "    .dataframe tbody tr th:only-of-type {\n",
       "        vertical-align: middle;\n",
       "    }\n",
       "\n",
       "    .dataframe tbody tr th {\n",
       "        vertical-align: top;\n",
       "    }\n",
       "\n",
       "    .dataframe thead th {\n",
       "        text-align: right;\n",
       "    }\n",
       "</style>\n",
       "<table border=\"1\" class=\"dataframe\">\n",
       "  <thead>\n",
       "    <tr style=\"text-align: right;\">\n",
       "      <th></th>\n",
       "      <th>count</th>\n",
       "      <th>unique</th>\n",
       "      <th>top</th>\n",
       "      <th>freq</th>\n",
       "      <th>mean</th>\n",
       "      <th>std</th>\n",
       "      <th>min</th>\n",
       "      <th>25%</th>\n",
       "      <th>50%</th>\n",
       "      <th>75%</th>\n",
       "      <th>max</th>\n",
       "    </tr>\n",
       "  </thead>\n",
       "  <tbody>\n",
       "    <tr>\n",
       "      <th>InvoiceNo</th>\n",
       "      <td>541909</td>\n",
       "      <td>25900</td>\n",
       "      <td>573585</td>\n",
       "      <td>1114</td>\n",
       "      <td>NaN</td>\n",
       "      <td>NaN</td>\n",
       "      <td>NaN</td>\n",
       "      <td>NaN</td>\n",
       "      <td>NaN</td>\n",
       "      <td>NaN</td>\n",
       "      <td>NaN</td>\n",
       "    </tr>\n",
       "    <tr>\n",
       "      <th>StockCode</th>\n",
       "      <td>541909</td>\n",
       "      <td>4070</td>\n",
       "      <td>85123A</td>\n",
       "      <td>2313</td>\n",
       "      <td>NaN</td>\n",
       "      <td>NaN</td>\n",
       "      <td>NaN</td>\n",
       "      <td>NaN</td>\n",
       "      <td>NaN</td>\n",
       "      <td>NaN</td>\n",
       "      <td>NaN</td>\n",
       "    </tr>\n",
       "    <tr>\n",
       "      <th>Description</th>\n",
       "      <td>540455</td>\n",
       "      <td>4223</td>\n",
       "      <td>WHITE HANGING HEART T-LIGHT HOLDER</td>\n",
       "      <td>2369</td>\n",
       "      <td>NaN</td>\n",
       "      <td>NaN</td>\n",
       "      <td>NaN</td>\n",
       "      <td>NaN</td>\n",
       "      <td>NaN</td>\n",
       "      <td>NaN</td>\n",
       "      <td>NaN</td>\n",
       "    </tr>\n",
       "    <tr>\n",
       "      <th>Quantity</th>\n",
       "      <td>541909.0</td>\n",
       "      <td>NaN</td>\n",
       "      <td>NaN</td>\n",
       "      <td>NaN</td>\n",
       "      <td>9.55225</td>\n",
       "      <td>218.081158</td>\n",
       "      <td>-80995.0</td>\n",
       "      <td>1.0</td>\n",
       "      <td>3.0</td>\n",
       "      <td>10.0</td>\n",
       "      <td>80995.0</td>\n",
       "    </tr>\n",
       "    <tr>\n",
       "      <th>InvoiceDate</th>\n",
       "      <td>541909</td>\n",
       "      <td>23260</td>\n",
       "      <td>10/31/2011 14:41</td>\n",
       "      <td>1114</td>\n",
       "      <td>NaN</td>\n",
       "      <td>NaN</td>\n",
       "      <td>NaN</td>\n",
       "      <td>NaN</td>\n",
       "      <td>NaN</td>\n",
       "      <td>NaN</td>\n",
       "      <td>NaN</td>\n",
       "    </tr>\n",
       "    <tr>\n",
       "      <th>UnitPrice</th>\n",
       "      <td>541909.0</td>\n",
       "      <td>NaN</td>\n",
       "      <td>NaN</td>\n",
       "      <td>NaN</td>\n",
       "      <td>4.611114</td>\n",
       "      <td>96.759853</td>\n",
       "      <td>-11062.06</td>\n",
       "      <td>1.25</td>\n",
       "      <td>2.08</td>\n",
       "      <td>4.13</td>\n",
       "      <td>38970.0</td>\n",
       "    </tr>\n",
       "    <tr>\n",
       "      <th>CustomerID</th>\n",
       "      <td>406829.0</td>\n",
       "      <td>NaN</td>\n",
       "      <td>NaN</td>\n",
       "      <td>NaN</td>\n",
       "      <td>15287.69057</td>\n",
       "      <td>1713.600303</td>\n",
       "      <td>12346.0</td>\n",
       "      <td>13953.0</td>\n",
       "      <td>15152.0</td>\n",
       "      <td>16791.0</td>\n",
       "      <td>18287.0</td>\n",
       "    </tr>\n",
       "    <tr>\n",
       "      <th>Country</th>\n",
       "      <td>541909</td>\n",
       "      <td>38</td>\n",
       "      <td>United Kingdom</td>\n",
       "      <td>495478</td>\n",
       "      <td>NaN</td>\n",
       "      <td>NaN</td>\n",
       "      <td>NaN</td>\n",
       "      <td>NaN</td>\n",
       "      <td>NaN</td>\n",
       "      <td>NaN</td>\n",
       "      <td>NaN</td>\n",
       "    </tr>\n",
       "  </tbody>\n",
       "</table>\n",
       "</div>"
      ],
      "text/plain": [
       "                count unique                                 top    freq  \\\n",
       "InvoiceNo      541909  25900                              573585    1114   \n",
       "StockCode      541909   4070                              85123A    2313   \n",
       "Description    540455   4223  WHITE HANGING HEART T-LIGHT HOLDER    2369   \n",
       "Quantity     541909.0    NaN                                 NaN     NaN   \n",
       "InvoiceDate    541909  23260                    10/31/2011 14:41    1114   \n",
       "UnitPrice    541909.0    NaN                                 NaN     NaN   \n",
       "CustomerID   406829.0    NaN                                 NaN     NaN   \n",
       "Country        541909     38                      United Kingdom  495478   \n",
       "\n",
       "                    mean          std       min      25%      50%      75%  \\\n",
       "InvoiceNo            NaN          NaN       NaN      NaN      NaN      NaN   \n",
       "StockCode            NaN          NaN       NaN      NaN      NaN      NaN   \n",
       "Description          NaN          NaN       NaN      NaN      NaN      NaN   \n",
       "Quantity         9.55225   218.081158  -80995.0      1.0      3.0     10.0   \n",
       "InvoiceDate          NaN          NaN       NaN      NaN      NaN      NaN   \n",
       "UnitPrice       4.611114    96.759853 -11062.06     1.25     2.08     4.13   \n",
       "CustomerID   15287.69057  1713.600303   12346.0  13953.0  15152.0  16791.0   \n",
       "Country              NaN          NaN       NaN      NaN      NaN      NaN   \n",
       "\n",
       "                 max  \n",
       "InvoiceNo        NaN  \n",
       "StockCode        NaN  \n",
       "Description      NaN  \n",
       "Quantity     80995.0  \n",
       "InvoiceDate      NaN  \n",
       "UnitPrice    38970.0  \n",
       "CustomerID   18287.0  \n",
       "Country          NaN  "
      ]
     },
     "execution_count": 9,
     "metadata": {},
     "output_type": "execute_result"
    }
   ],
   "source": [
    "df.describe(include=\"all\").T"
   ]
  },
  {
   "cell_type": "code",
   "execution_count": 10,
   "id": "564172ce",
   "metadata": {
    "ExecuteTime": {
     "end_time": "2023-12-01T17:05:35.911837Z",
     "start_time": "2023-12-01T17:05:35.907660Z"
    }
   },
   "outputs": [
    {
     "data": {
      "text/html": [
       "<div>\n",
       "<style scoped>\n",
       "    .dataframe tbody tr th:only-of-type {\n",
       "        vertical-align: middle;\n",
       "    }\n",
       "\n",
       "    .dataframe tbody tr th {\n",
       "        vertical-align: top;\n",
       "    }\n",
       "\n",
       "    .dataframe thead th {\n",
       "        text-align: right;\n",
       "    }\n",
       "</style>\n",
       "<table border=\"1\" class=\"dataframe\">\n",
       "  <thead>\n",
       "    <tr style=\"text-align: right;\">\n",
       "      <th></th>\n",
       "      <th>count</th>\n",
       "      <th>unique</th>\n",
       "      <th>top</th>\n",
       "      <th>freq</th>\n",
       "    </tr>\n",
       "  </thead>\n",
       "  <tbody>\n",
       "    <tr>\n",
       "      <th>InvoiceNo</th>\n",
       "      <td>541909</td>\n",
       "      <td>25900</td>\n",
       "      <td>573585</td>\n",
       "      <td>1114</td>\n",
       "    </tr>\n",
       "    <tr>\n",
       "      <th>StockCode</th>\n",
       "      <td>541909</td>\n",
       "      <td>4070</td>\n",
       "      <td>85123A</td>\n",
       "      <td>2313</td>\n",
       "    </tr>\n",
       "    <tr>\n",
       "      <th>Description</th>\n",
       "      <td>540455</td>\n",
       "      <td>4223</td>\n",
       "      <td>WHITE HANGING HEART T-LIGHT HOLDER</td>\n",
       "      <td>2369</td>\n",
       "    </tr>\n",
       "    <tr>\n",
       "      <th>InvoiceDate</th>\n",
       "      <td>541909</td>\n",
       "      <td>23260</td>\n",
       "      <td>10/31/2011 14:41</td>\n",
       "      <td>1114</td>\n",
       "    </tr>\n",
       "    <tr>\n",
       "      <th>Country</th>\n",
       "      <td>541909</td>\n",
       "      <td>38</td>\n",
       "      <td>United Kingdom</td>\n",
       "      <td>495478</td>\n",
       "    </tr>\n",
       "  </tbody>\n",
       "</table>\n",
       "</div>"
      ],
      "text/plain": [
       "              count unique                                 top    freq\n",
       "InvoiceNo    541909  25900                              573585    1114\n",
       "StockCode    541909   4070                              85123A    2313\n",
       "Description  540455   4223  WHITE HANGING HEART T-LIGHT HOLDER    2369\n",
       "InvoiceDate  541909  23260                    10/31/2011 14:41    1114\n",
       "Country      541909     38                      United Kingdom  495478"
      ]
     },
     "execution_count": 10,
     "metadata": {},
     "output_type": "execute_result"
    }
   ],
   "source": [
    "df.describe(include=\"object\").T"
   ]
  },
  {
   "cell_type": "code",
   "execution_count": 11,
   "id": "38b95975",
   "metadata": {
    "ExecuteTime": {
     "end_time": "2023-12-01T17:05:35.921397Z",
     "start_time": "2023-12-01T17:05:35.916839Z"
    }
   },
   "outputs": [
    {
     "data": {
      "text/html": [
       "<div>\n",
       "<style scoped>\n",
       "    .dataframe tbody tr th:only-of-type {\n",
       "        vertical-align: middle;\n",
       "    }\n",
       "\n",
       "    .dataframe tbody tr th {\n",
       "        vertical-align: top;\n",
       "    }\n",
       "\n",
       "    .dataframe thead th {\n",
       "        text-align: right;\n",
       "    }\n",
       "</style>\n",
       "<table border=\"1\" class=\"dataframe\">\n",
       "  <thead>\n",
       "    <tr style=\"text-align: right;\">\n",
       "      <th></th>\n",
       "      <th>count</th>\n",
       "      <th>mean</th>\n",
       "      <th>std</th>\n",
       "      <th>min</th>\n",
       "      <th>25%</th>\n",
       "      <th>50%</th>\n",
       "      <th>75%</th>\n",
       "      <th>max</th>\n",
       "    </tr>\n",
       "  </thead>\n",
       "  <tbody>\n",
       "    <tr>\n",
       "      <th>Quantity</th>\n",
       "      <td>541909.0</td>\n",
       "      <td>9.552250</td>\n",
       "      <td>218.081158</td>\n",
       "      <td>-80995.00</td>\n",
       "      <td>1.00</td>\n",
       "      <td>3.00</td>\n",
       "      <td>10.00</td>\n",
       "      <td>80995.0</td>\n",
       "    </tr>\n",
       "    <tr>\n",
       "      <th>UnitPrice</th>\n",
       "      <td>541909.0</td>\n",
       "      <td>4.611114</td>\n",
       "      <td>96.759853</td>\n",
       "      <td>-11062.06</td>\n",
       "      <td>1.25</td>\n",
       "      <td>2.08</td>\n",
       "      <td>4.13</td>\n",
       "      <td>38970.0</td>\n",
       "    </tr>\n",
       "    <tr>\n",
       "      <th>CustomerID</th>\n",
       "      <td>406829.0</td>\n",
       "      <td>15287.690570</td>\n",
       "      <td>1713.600303</td>\n",
       "      <td>12346.00</td>\n",
       "      <td>13953.00</td>\n",
       "      <td>15152.00</td>\n",
       "      <td>16791.00</td>\n",
       "      <td>18287.0</td>\n",
       "    </tr>\n",
       "  </tbody>\n",
       "</table>\n",
       "</div>"
      ],
      "text/plain": [
       "               count          mean          std       min       25%       50%  \\\n",
       "Quantity    541909.0      9.552250   218.081158 -80995.00      1.00      3.00   \n",
       "UnitPrice   541909.0      4.611114    96.759853 -11062.06      1.25      2.08   \n",
       "CustomerID  406829.0  15287.690570  1713.600303  12346.00  13953.00  15152.00   \n",
       "\n",
       "                 75%      max  \n",
       "Quantity       10.00  80995.0  \n",
       "UnitPrice       4.13  38970.0  \n",
       "CustomerID  16791.00  18287.0  "
      ]
     },
     "execution_count": 11,
     "metadata": {},
     "output_type": "execute_result"
    }
   ],
   "source": [
    "df.describe(include=\"number\").T"
   ]
  },
  {
   "cell_type": "markdown",
   "id": "491e5318-b216-48d8-8f35-82cd66594408",
   "metadata": {},
   "source": [
    "## Find out the shape and size info of the dataset"
   ]
  },
  {
   "cell_type": "code",
   "execution_count": 12,
   "id": "36253df9",
   "metadata": {
    "ExecuteTime": {
     "end_time": "2023-12-01T17:05:35.934349Z",
     "start_time": "2023-12-01T17:05:35.925400Z"
    }
   },
   "outputs": [
    {
     "data": {
      "text/plain": [
       "(541909, 8)"
      ]
     },
     "execution_count": 12,
     "metadata": {},
     "output_type": "execute_result"
    }
   ],
   "source": [
    "df.shape"
   ]
  },
  {
   "cell_type": "code",
   "execution_count": 13,
   "id": "c4e217c8",
   "metadata": {
    "ExecuteTime": {
     "end_time": "2023-12-01T17:05:35.945215Z",
     "start_time": "2023-12-01T17:05:35.937352Z"
    }
   },
   "outputs": [
    {
     "data": {
      "text/plain": [
       "4335272"
      ]
     },
     "execution_count": 13,
     "metadata": {},
     "output_type": "execute_result"
    }
   ],
   "source": [
    "df.size"
   ]
  },
  {
   "cell_type": "markdown",
   "id": "4bee4267",
   "metadata": {},
   "source": [
    "## Find out the types values of the columns"
   ]
  },
  {
   "cell_type": "code",
   "execution_count": 14,
   "id": "8ad814c9",
   "metadata": {
    "ExecuteTime": {
     "end_time": "2023-12-01T17:05:35.965624Z",
     "start_time": "2023-12-01T17:05:35.954665Z"
    },
    "scrolled": true
   },
   "outputs": [
    {
     "data": {
      "text/plain": [
       "InvoiceNo       object\n",
       "StockCode       object\n",
       "Description     object\n",
       "Quantity         int64\n",
       "InvoiceDate     object\n",
       "UnitPrice      float64\n",
       "CustomerID     float64\n",
       "Country         object\n",
       "dtype: object"
      ]
     },
     "execution_count": 14,
     "metadata": {},
     "output_type": "execute_result"
    }
   ],
   "source": [
    "dtype = df.dtypes\n",
    "dtype"
   ]
  },
  {
   "cell_type": "code",
   "execution_count": 16,
   "id": "ea570de8",
   "metadata": {
    "ExecuteTime": {
     "end_time": "2023-12-01T17:05:35.977702Z",
     "start_time": "2023-12-01T17:05:35.966034Z"
    }
   },
   "outputs": [
    {
     "data": {
      "text/html": [
       "<div>\n",
       "<style scoped>\n",
       "    .dataframe tbody tr th:only-of-type {\n",
       "        vertical-align: middle;\n",
       "    }\n",
       "\n",
       "    .dataframe tbody tr th {\n",
       "        vertical-align: top;\n",
       "    }\n",
       "\n",
       "    .dataframe thead th {\n",
       "        text-align: right;\n",
       "    }\n",
       "</style>\n",
       "<table border=\"1\" class=\"dataframe\">\n",
       "  <thead>\n",
       "    <tr style=\"text-align: right;\">\n",
       "      <th></th>\n",
       "      <th>Quantity</th>\n",
       "      <th>UnitPrice</th>\n",
       "      <th>CustomerID</th>\n",
       "    </tr>\n",
       "  </thead>\n",
       "  <tbody>\n",
       "    <tr>\n",
       "      <th>0</th>\n",
       "      <td>6</td>\n",
       "      <td>2.55</td>\n",
       "      <td>17850.0</td>\n",
       "    </tr>\n",
       "    <tr>\n",
       "      <th>1</th>\n",
       "      <td>6</td>\n",
       "      <td>3.39</td>\n",
       "      <td>17850.0</td>\n",
       "    </tr>\n",
       "    <tr>\n",
       "      <th>2</th>\n",
       "      <td>8</td>\n",
       "      <td>2.75</td>\n",
       "      <td>17850.0</td>\n",
       "    </tr>\n",
       "    <tr>\n",
       "      <th>3</th>\n",
       "      <td>6</td>\n",
       "      <td>3.39</td>\n",
       "      <td>17850.0</td>\n",
       "    </tr>\n",
       "    <tr>\n",
       "      <th>4</th>\n",
       "      <td>6</td>\n",
       "      <td>3.39</td>\n",
       "      <td>17850.0</td>\n",
       "    </tr>\n",
       "    <tr>\n",
       "      <th>...</th>\n",
       "      <td>...</td>\n",
       "      <td>...</td>\n",
       "      <td>...</td>\n",
       "    </tr>\n",
       "    <tr>\n",
       "      <th>541904</th>\n",
       "      <td>12</td>\n",
       "      <td>0.85</td>\n",
       "      <td>12680.0</td>\n",
       "    </tr>\n",
       "    <tr>\n",
       "      <th>541905</th>\n",
       "      <td>6</td>\n",
       "      <td>2.10</td>\n",
       "      <td>12680.0</td>\n",
       "    </tr>\n",
       "    <tr>\n",
       "      <th>541906</th>\n",
       "      <td>4</td>\n",
       "      <td>4.15</td>\n",
       "      <td>12680.0</td>\n",
       "    </tr>\n",
       "    <tr>\n",
       "      <th>541907</th>\n",
       "      <td>4</td>\n",
       "      <td>4.15</td>\n",
       "      <td>12680.0</td>\n",
       "    </tr>\n",
       "    <tr>\n",
       "      <th>541908</th>\n",
       "      <td>3</td>\n",
       "      <td>4.95</td>\n",
       "      <td>12680.0</td>\n",
       "    </tr>\n",
       "  </tbody>\n",
       "</table>\n",
       "<p>541909 rows × 3 columns</p>\n",
       "</div>"
      ],
      "text/plain": [
       "        Quantity  UnitPrice  CustomerID\n",
       "0              6       2.55     17850.0\n",
       "1              6       3.39     17850.0\n",
       "2              8       2.75     17850.0\n",
       "3              6       3.39     17850.0\n",
       "4              6       3.39     17850.0\n",
       "...          ...        ...         ...\n",
       "541904        12       0.85     12680.0\n",
       "541905         6       2.10     12680.0\n",
       "541906         4       4.15     12680.0\n",
       "541907         4       4.15     12680.0\n",
       "541908         3       4.95     12680.0\n",
       "\n",
       "[541909 rows x 3 columns]"
      ]
     },
     "execution_count": 16,
     "metadata": {},
     "output_type": "execute_result"
    }
   ],
   "source": [
    "# EKSTRA\n",
    "df.select_dtypes(include=['int64', 'float64'])"
   ]
  },
  {
   "cell_type": "markdown",
   "id": "b7818669-03a5-4f61-b08f-b85b8dd94372",
   "metadata": {},
   "source": [
    "## Find out the non-null counts of the columns"
   ]
  },
  {
   "cell_type": "code",
   "execution_count": 18,
   "id": "0a9b4a3a-ab36-40f8-ae1d-9e7e5d137277",
   "metadata": {},
   "outputs": [
    {
     "data": {
      "text/plain": [
       "InvoiceNo      541909\n",
       "StockCode      541909\n",
       "Quantity       541909\n",
       "InvoiceDate    541909\n",
       "UnitPrice      541909\n",
       "Country        541909\n",
       "Description    540455\n",
       "CustomerID     406829\n",
       "dtype: int64"
      ]
     },
     "execution_count": 18,
     "metadata": {},
     "output_type": "execute_result"
    }
   ],
   "source": [
    "# eksik olmayan yani tamamen dolu hücre sayısı\n",
    "df.notnull().sum().sort_values(ascending = False)"
   ]
  },
  {
   "cell_type": "code",
   "execution_count": 19,
   "id": "8985958e",
   "metadata": {
    "ExecuteTime": {
     "end_time": "2023-12-01T17:05:36.182210Z",
     "start_time": "2023-12-01T17:05:35.982848Z"
    }
   },
   "outputs": [
    {
     "data": {
      "text/plain": [
       "InvoiceNo      541909\n",
       "StockCode      541909\n",
       "Quantity       541909\n",
       "InvoiceDate    541909\n",
       "UnitPrice      541909\n",
       "Country        541909\n",
       "Description    540455\n",
       "CustomerID     406829\n",
       "dtype: int64"
      ]
     },
     "execution_count": 19,
     "metadata": {},
     "output_type": "execute_result"
    }
   ],
   "source": [
    "nonnull_count = df.notnull().sum().sort_values(ascending = False)\n",
    "\n",
    "nonnull_count"
   ]
  },
  {
   "cell_type": "markdown",
   "id": "5f4a94e4-596a-4c85-8356-7eb86d6cacbe",
   "metadata": {},
   "source": [
    "## Find out the null counts of the columns"
   ]
  },
  {
   "cell_type": "code",
   "execution_count": 20,
   "id": "0fbb2027-b76a-4c3a-a569-635a2720a507",
   "metadata": {},
   "outputs": [
    {
     "data": {
      "text/plain": [
       "CustomerID     135080\n",
       "Description      1454\n",
       "InvoiceNo           0\n",
       "StockCode           0\n",
       "Quantity            0\n",
       "InvoiceDate         0\n",
       "UnitPrice           0\n",
       "Country             0\n",
       "dtype: int64"
      ]
     },
     "execution_count": 20,
     "metadata": {},
     "output_type": "execute_result"
    }
   ],
   "source": [
    "# eksik değerlerin sayısı\n",
    "df.isnull().sum().sort_values(ascending = False)"
   ]
  },
  {
   "cell_type": "code",
   "execution_count": 21,
   "id": "6bc73f48",
   "metadata": {
    "ExecuteTime": {
     "end_time": "2023-12-01T17:05:36.330047Z",
     "start_time": "2023-12-01T17:05:36.185213Z"
    }
   },
   "outputs": [
    {
     "data": {
      "text/plain": [
       "CustomerID     135080\n",
       "Description      1454\n",
       "InvoiceNo           0\n",
       "StockCode           0\n",
       "Quantity            0\n",
       "InvoiceDate         0\n",
       "UnitPrice           0\n",
       "Country             0\n",
       "dtype: int64"
      ]
     },
     "execution_count": 21,
     "metadata": {},
     "output_type": "execute_result"
    }
   ],
   "source": [
    "null_count = df.isnull().sum().sort_values(ascending = False)\n",
    "null_count"
   ]
  },
  {
   "cell_type": "markdown",
   "id": "0df95fd1-f316-4976-849b-756f927f382c",
   "metadata": {},
   "source": [
    "## Find out the unique counts of the columns"
   ]
  },
  {
   "cell_type": "code",
   "execution_count": 22,
   "id": "5562d829-82a9-4756-b63b-cecd1e30077d",
   "metadata": {},
   "outputs": [
    {
     "data": {
      "text/plain": [
       "InvoiceNo      25900\n",
       "InvoiceDate    23260\n",
       "CustomerID      4372\n",
       "Description     4223\n",
       "StockCode       4070\n",
       "UnitPrice       1630\n",
       "Quantity         722\n",
       "Country           38\n",
       "dtype: int64"
      ]
     },
     "execution_count": 22,
     "metadata": {},
     "output_type": "execute_result"
    }
   ],
   "source": [
    "# unique değerlerin sayısı\n",
    "df.nunique().sort_values(ascending = False)"
   ]
  },
  {
   "cell_type": "code",
   "execution_count": 23,
   "id": "95edf755",
   "metadata": {
    "ExecuteTime": {
     "end_time": "2023-12-01T17:05:36.652434Z",
     "start_time": "2023-12-01T17:05:36.333050Z"
    }
   },
   "outputs": [
    {
     "data": {
      "text/plain": [
       "InvoiceNo      25900\n",
       "InvoiceDate    23260\n",
       "CustomerID      4372\n",
       "Description     4223\n",
       "StockCode       4070\n",
       "UnitPrice       1630\n",
       "Quantity         722\n",
       "Country           38\n",
       "dtype: int64"
      ]
     },
     "execution_count": 23,
     "metadata": {},
     "output_type": "execute_result"
    }
   ],
   "source": [
    "unique_count = df.nunique().sort_values(ascending = False)\n",
    "unique_count"
   ]
  },
  {
   "cell_type": "markdown",
   "id": "efc45ac3-9297-4ea0-9fd8-8534c46935e4",
   "metadata": {},
   "source": [
    "## Combine the dataframes you created in questions 5-6-7-8"
   ]
  },
  {
   "cell_type": "code",
   "execution_count": 24,
   "id": "96eca2b0",
   "metadata": {
    "ExecuteTime": {
     "end_time": "2023-12-01T17:05:36.674048Z",
     "start_time": "2023-12-01T17:05:36.655436Z"
    }
   },
   "outputs": [
    {
     "data": {
      "text/html": [
       "<div>\n",
       "<style scoped>\n",
       "    .dataframe tbody tr th:only-of-type {\n",
       "        vertical-align: middle;\n",
       "    }\n",
       "\n",
       "    .dataframe tbody tr th {\n",
       "        vertical-align: top;\n",
       "    }\n",
       "\n",
       "    .dataframe thead th {\n",
       "        text-align: right;\n",
       "    }\n",
       "</style>\n",
       "<table border=\"1\" class=\"dataframe\">\n",
       "  <thead>\n",
       "    <tr style=\"text-align: right;\">\n",
       "      <th></th>\n",
       "      <th>0</th>\n",
       "      <th>1</th>\n",
       "      <th>2</th>\n",
       "      <th>3</th>\n",
       "    </tr>\n",
       "  </thead>\n",
       "  <tbody>\n",
       "    <tr>\n",
       "      <th>InvoiceNo</th>\n",
       "      <td>object</td>\n",
       "      <td>541909</td>\n",
       "      <td>0</td>\n",
       "      <td>25900</td>\n",
       "    </tr>\n",
       "    <tr>\n",
       "      <th>StockCode</th>\n",
       "      <td>object</td>\n",
       "      <td>541909</td>\n",
       "      <td>0</td>\n",
       "      <td>4070</td>\n",
       "    </tr>\n",
       "    <tr>\n",
       "      <th>Description</th>\n",
       "      <td>object</td>\n",
       "      <td>540455</td>\n",
       "      <td>1454</td>\n",
       "      <td>4223</td>\n",
       "    </tr>\n",
       "    <tr>\n",
       "      <th>Quantity</th>\n",
       "      <td>int64</td>\n",
       "      <td>541909</td>\n",
       "      <td>0</td>\n",
       "      <td>722</td>\n",
       "    </tr>\n",
       "    <tr>\n",
       "      <th>InvoiceDate</th>\n",
       "      <td>object</td>\n",
       "      <td>541909</td>\n",
       "      <td>0</td>\n",
       "      <td>23260</td>\n",
       "    </tr>\n",
       "    <tr>\n",
       "      <th>UnitPrice</th>\n",
       "      <td>float64</td>\n",
       "      <td>541909</td>\n",
       "      <td>0</td>\n",
       "      <td>1630</td>\n",
       "    </tr>\n",
       "    <tr>\n",
       "      <th>CustomerID</th>\n",
       "      <td>float64</td>\n",
       "      <td>406829</td>\n",
       "      <td>135080</td>\n",
       "      <td>4372</td>\n",
       "    </tr>\n",
       "    <tr>\n",
       "      <th>Country</th>\n",
       "      <td>object</td>\n",
       "      <td>541909</td>\n",
       "      <td>0</td>\n",
       "      <td>38</td>\n",
       "    </tr>\n",
       "  </tbody>\n",
       "</table>\n",
       "</div>"
      ],
      "text/plain": [
       "                   0       1       2      3\n",
       "InvoiceNo     object  541909       0  25900\n",
       "StockCode     object  541909       0   4070\n",
       "Description   object  540455    1454   4223\n",
       "Quantity       int64  541909       0    722\n",
       "InvoiceDate   object  541909       0  23260\n",
       "UnitPrice    float64  541909       0   1630\n",
       "CustomerID   float64  406829  135080   4372\n",
       "Country       object  541909       0     38"
      ]
     },
     "execution_count": 24,
     "metadata": {},
     "output_type": "execute_result"
    }
   ],
   "source": [
    "mylist = [dtype, nonnull_count, null_count, unique_count]\n",
    "\n",
    "new_df = pd.concat(mylist,axis=1)\n",
    "\n",
    "new_df"
   ]
  },
  {
   "cell_type": "code",
   "execution_count": 25,
   "id": "600278a9-6cf2-4ed7-b371-356af483c591",
   "metadata": {},
   "outputs": [
    {
     "data": {
      "text/html": [
       "<div>\n",
       "<style scoped>\n",
       "    .dataframe tbody tr th:only-of-type {\n",
       "        vertical-align: middle;\n",
       "    }\n",
       "\n",
       "    .dataframe tbody tr th {\n",
       "        vertical-align: top;\n",
       "    }\n",
       "\n",
       "    .dataframe thead th {\n",
       "        text-align: right;\n",
       "    }\n",
       "</style>\n",
       "<table border=\"1\" class=\"dataframe\">\n",
       "  <thead>\n",
       "    <tr style=\"text-align: right;\">\n",
       "      <th></th>\n",
       "      <th>dtype</th>\n",
       "      <th>notnull</th>\n",
       "      <th>isnull</th>\n",
       "      <th>unique</th>\n",
       "    </tr>\n",
       "  </thead>\n",
       "  <tbody>\n",
       "    <tr>\n",
       "      <th>InvoiceNo</th>\n",
       "      <td>object</td>\n",
       "      <td>541909</td>\n",
       "      <td>0</td>\n",
       "      <td>25900</td>\n",
       "    </tr>\n",
       "    <tr>\n",
       "      <th>StockCode</th>\n",
       "      <td>object</td>\n",
       "      <td>541909</td>\n",
       "      <td>0</td>\n",
       "      <td>4070</td>\n",
       "    </tr>\n",
       "    <tr>\n",
       "      <th>Description</th>\n",
       "      <td>object</td>\n",
       "      <td>540455</td>\n",
       "      <td>1454</td>\n",
       "      <td>4223</td>\n",
       "    </tr>\n",
       "    <tr>\n",
       "      <th>Quantity</th>\n",
       "      <td>int64</td>\n",
       "      <td>541909</td>\n",
       "      <td>0</td>\n",
       "      <td>722</td>\n",
       "    </tr>\n",
       "    <tr>\n",
       "      <th>InvoiceDate</th>\n",
       "      <td>object</td>\n",
       "      <td>541909</td>\n",
       "      <td>0</td>\n",
       "      <td>23260</td>\n",
       "    </tr>\n",
       "    <tr>\n",
       "      <th>UnitPrice</th>\n",
       "      <td>float64</td>\n",
       "      <td>541909</td>\n",
       "      <td>0</td>\n",
       "      <td>1630</td>\n",
       "    </tr>\n",
       "    <tr>\n",
       "      <th>CustomerID</th>\n",
       "      <td>float64</td>\n",
       "      <td>406829</td>\n",
       "      <td>135080</td>\n",
       "      <td>4372</td>\n",
       "    </tr>\n",
       "    <tr>\n",
       "      <th>Country</th>\n",
       "      <td>object</td>\n",
       "      <td>541909</td>\n",
       "      <td>0</td>\n",
       "      <td>38</td>\n",
       "    </tr>\n",
       "  </tbody>\n",
       "</table>\n",
       "</div>"
      ],
      "text/plain": [
       "               dtype  notnull  isnull  unique\n",
       "InvoiceNo     object   541909       0   25900\n",
       "StockCode     object   541909       0    4070\n",
       "Description   object   540455    1454    4223\n",
       "Quantity       int64   541909       0     722\n",
       "InvoiceDate   object   541909       0   23260\n",
       "UnitPrice    float64   541909       0    1630\n",
       "CustomerID   float64   406829  135080    4372\n",
       "Country       object   541909       0      38"
      ]
     },
     "execution_count": 25,
     "metadata": {},
     "output_type": "execute_result"
    }
   ],
   "source": [
    "new_df.columns=[ \"dtype\", \"notnull\" ,\"isnull\", \"unique\"]\n",
    "\n",
    "new_df"
   ]
  },
  {
   "cell_type": "markdown",
   "id": "aa19488a-0613-48f3-8604-4499afe134e8",
   "metadata": {},
   "source": [
    "## Uppercase all column names"
   ]
  },
  {
   "cell_type": "code",
   "execution_count": 26,
   "id": "941230ce",
   "metadata": {
    "ExecuteTime": {
     "end_time": "2023-12-01T17:05:36.712618Z",
     "start_time": "2023-12-01T17:05:36.677243Z"
    }
   },
   "outputs": [],
   "source": [
    "df1 = df.copy()"
   ]
  },
  {
   "cell_type": "code",
   "execution_count": 27,
   "id": "0465ead9",
   "metadata": {
    "ExecuteTime": {
     "end_time": "2023-12-01T17:05:36.731557Z",
     "start_time": "2023-12-01T17:05:36.715620Z"
    }
   },
   "outputs": [
    {
     "data": {
      "text/html": [
       "<div>\n",
       "<style scoped>\n",
       "    .dataframe tbody tr th:only-of-type {\n",
       "        vertical-align: middle;\n",
       "    }\n",
       "\n",
       "    .dataframe tbody tr th {\n",
       "        vertical-align: top;\n",
       "    }\n",
       "\n",
       "    .dataframe thead th {\n",
       "        text-align: right;\n",
       "    }\n",
       "</style>\n",
       "<table border=\"1\" class=\"dataframe\">\n",
       "  <thead>\n",
       "    <tr style=\"text-align: right;\">\n",
       "      <th></th>\n",
       "      <th>INVOICENO</th>\n",
       "      <th>STOCKCODE</th>\n",
       "      <th>DESCRIPTION</th>\n",
       "      <th>QUANTITY</th>\n",
       "      <th>INVOICEDATE</th>\n",
       "      <th>UNITPRICE</th>\n",
       "      <th>CUSTOMERID</th>\n",
       "      <th>COUNTRY</th>\n",
       "    </tr>\n",
       "  </thead>\n",
       "  <tbody>\n",
       "    <tr>\n",
       "      <th>0</th>\n",
       "      <td>536365</td>\n",
       "      <td>85123A</td>\n",
       "      <td>WHITE HANGING HEART T-LIGHT HOLDER</td>\n",
       "      <td>6</td>\n",
       "      <td>12/1/2010 8:26</td>\n",
       "      <td>2.55</td>\n",
       "      <td>17850.0</td>\n",
       "      <td>United Kingdom</td>\n",
       "    </tr>\n",
       "    <tr>\n",
       "      <th>1</th>\n",
       "      <td>536365</td>\n",
       "      <td>71053</td>\n",
       "      <td>WHITE METAL LANTERN</td>\n",
       "      <td>6</td>\n",
       "      <td>12/1/2010 8:26</td>\n",
       "      <td>3.39</td>\n",
       "      <td>17850.0</td>\n",
       "      <td>United Kingdom</td>\n",
       "    </tr>\n",
       "    <tr>\n",
       "      <th>2</th>\n",
       "      <td>536365</td>\n",
       "      <td>84406B</td>\n",
       "      <td>CREAM CUPID HEARTS COAT HANGER</td>\n",
       "      <td>8</td>\n",
       "      <td>12/1/2010 8:26</td>\n",
       "      <td>2.75</td>\n",
       "      <td>17850.0</td>\n",
       "      <td>United Kingdom</td>\n",
       "    </tr>\n",
       "    <tr>\n",
       "      <th>3</th>\n",
       "      <td>536365</td>\n",
       "      <td>84029G</td>\n",
       "      <td>KNITTED UNION FLAG HOT WATER BOTTLE</td>\n",
       "      <td>6</td>\n",
       "      <td>12/1/2010 8:26</td>\n",
       "      <td>3.39</td>\n",
       "      <td>17850.0</td>\n",
       "      <td>United Kingdom</td>\n",
       "    </tr>\n",
       "    <tr>\n",
       "      <th>4</th>\n",
       "      <td>536365</td>\n",
       "      <td>84029E</td>\n",
       "      <td>RED WOOLLY HOTTIE WHITE HEART.</td>\n",
       "      <td>6</td>\n",
       "      <td>12/1/2010 8:26</td>\n",
       "      <td>3.39</td>\n",
       "      <td>17850.0</td>\n",
       "      <td>United Kingdom</td>\n",
       "    </tr>\n",
       "  </tbody>\n",
       "</table>\n",
       "</div>"
      ],
      "text/plain": [
       "  INVOICENO STOCKCODE                          DESCRIPTION  QUANTITY  \\\n",
       "0    536365    85123A   WHITE HANGING HEART T-LIGHT HOLDER         6   \n",
       "1    536365     71053                  WHITE METAL LANTERN         6   \n",
       "2    536365    84406B       CREAM CUPID HEARTS COAT HANGER         8   \n",
       "3    536365    84029G  KNITTED UNION FLAG HOT WATER BOTTLE         6   \n",
       "4    536365    84029E       RED WOOLLY HOTTIE WHITE HEART.         6   \n",
       "\n",
       "      INVOICEDATE  UNITPRICE  CUSTOMERID         COUNTRY  \n",
       "0  12/1/2010 8:26       2.55     17850.0  United Kingdom  \n",
       "1  12/1/2010 8:26       3.39     17850.0  United Kingdom  \n",
       "2  12/1/2010 8:26       2.75     17850.0  United Kingdom  \n",
       "3  12/1/2010 8:26       3.39     17850.0  United Kingdom  \n",
       "4  12/1/2010 8:26       3.39     17850.0  United Kingdom  "
      ]
     },
     "execution_count": 27,
     "metadata": {},
     "output_type": "execute_result"
    }
   ],
   "source": [
    "df1.columns= df1.columns.str.upper()\n",
    "df1.head()\n"
   ]
  },
  {
   "cell_type": "markdown",
   "id": "456bd772-149a-410a-9c86-04f1b19c6ae1",
   "metadata": {},
   "source": [
    "## What is the average of Product sold and the average price of Product per unit?"
   ]
  },
  {
   "cell_type": "markdown",
   "id": "0e414d71",
   "metadata": {},
   "source": [
    "**Satılan Ürün ortalaması ve birim başına Ürün fiyatı nedir?**"
   ]
  },
  {
   "cell_type": "code",
   "execution_count": 28,
   "id": "a7dbe24c",
   "metadata": {
    "ExecuteTime": {
     "end_time": "2023-12-01T17:05:36.760800Z",
     "start_time": "2023-12-01T17:05:36.734560Z"
    }
   },
   "outputs": [
    {
     "data": {
      "text/plain": [
       "UnitPrice    4.611114\n",
       "Quantity     9.552250\n",
       "dtype: float64"
      ]
     },
     "execution_count": 28,
     "metadata": {},
     "output_type": "execute_result"
    }
   ],
   "source": [
    "df[[\"UnitPrice\", \"Quantity\"]].mean()\n",
    "\n",
    "# np.mean(df[['UnitPrice', \"Quantity\"]])"
   ]
  },
  {
   "cell_type": "markdown",
   "id": "8cbf0c5f-e2dd-4418-b923-a52bbda70b7e",
   "metadata": {},
   "source": [
    "## What are the highest and lowest purchase prices?"
   ]
  },
  {
   "cell_type": "markdown",
   "id": "c997fd7b",
   "metadata": {},
   "source": [
    "**En yüksek ve en düşük satın alma fiyatları-unitprice nelerdir?**"
   ]
  },
  {
   "cell_type": "code",
   "execution_count": 29,
   "id": "89887da7-1f8a-43e1-a285-8b176020eb70",
   "metadata": {},
   "outputs": [
    {
     "data": {
      "text/plain": [
       "38970.0"
      ]
     },
     "execution_count": 29,
     "metadata": {},
     "output_type": "execute_result"
    }
   ],
   "source": [
    "df['UnitPrice'].max()"
   ]
  },
  {
   "cell_type": "code",
   "execution_count": 30,
   "id": "0314aff1-ee41-4a44-86b9-9d6bf159913b",
   "metadata": {},
   "outputs": [
    {
     "data": {
      "text/plain": [
       "-11062.06"
      ]
     },
     "execution_count": 30,
     "metadata": {},
     "output_type": "execute_result"
    }
   ],
   "source": [
    "df['UnitPrice'].min()"
   ]
  },
  {
   "cell_type": "code",
   "execution_count": 31,
   "id": "8f7cc661",
   "metadata": {
    "ExecuteTime": {
     "end_time": "2023-12-01T17:05:36.775736Z",
     "start_time": "2023-12-01T17:05:36.766801Z"
    }
   },
   "outputs": [
    {
     "name": "stdout",
     "output_type": "stream",
     "text": [
      "38970.0\n",
      "-11062.06\n"
     ]
    }
   ],
   "source": [
    "print(df['UnitPrice'].max())\n",
    "print(df['UnitPrice'].min())"
   ]
  },
  {
   "cell_type": "markdown",
   "id": "7cc5ba2a-7b21-4c76-9d9c-cd84ecb98875",
   "metadata": {},
   "source": [
    "## List the country names and number of their records belongs to each country"
   ]
  },
  {
   "cell_type": "markdown",
   "id": "01939796",
   "metadata": {},
   "source": [
    "**Her ülkeye ait kaç gözlem var**"
   ]
  },
  {
   "cell_type": "code",
   "execution_count": 32,
   "id": "e3fe120f",
   "metadata": {
    "ExecuteTime": {
     "end_time": "2023-12-01T17:05:36.856708Z",
     "start_time": "2023-12-01T17:05:36.782735Z"
    },
    "scrolled": true
   },
   "outputs": [
    {
     "data": {
      "text/plain": [
       "Country\n",
       "United Kingdom          495478\n",
       "Germany                   9495\n",
       "France                    8557\n",
       "EIRE                      8196\n",
       "Spain                     2533\n",
       "Netherlands               2371\n",
       "Belgium                   2069\n",
       "Switzerland               2002\n",
       "Portugal                  1519\n",
       "Australia                 1259\n",
       "Norway                    1086\n",
       "Italy                      803\n",
       "Channel Islands            758\n",
       "Finland                    695\n",
       "Cyprus                     622\n",
       "Sweden                     462\n",
       "Unspecified                446\n",
       "Austria                    401\n",
       "Denmark                    389\n",
       "Japan                      358\n",
       "Poland                     341\n",
       "Israel                     297\n",
       "USA                        291\n",
       "Hong Kong                  288\n",
       "Singapore                  229\n",
       "Iceland                    182\n",
       "Canada                     151\n",
       "Greece                     146\n",
       "Malta                      127\n",
       "United Arab Emirates        68\n",
       "European Community          61\n",
       "RSA                         58\n",
       "Lebanon                     45\n",
       "Lithuania                   35\n",
       "Brazil                      32\n",
       "Czech Republic              30\n",
       "Bahrain                     19\n",
       "Saudi Arabia                10\n",
       "Name: count, dtype: int64"
      ]
     },
     "execution_count": 32,
     "metadata": {},
     "output_type": "execute_result"
    }
   ],
   "source": [
    "df.Country.value_counts()"
   ]
  },
  {
   "cell_type": "markdown",
   "id": "b0b05e7c-7eb0-486d-8b17-2a1f48b392a6",
   "metadata": {},
   "source": [
    "## How many records are there in the Germany?"
   ]
  },
  {
   "cell_type": "code",
   "execution_count": 68,
   "id": "89db7cb3-91e1-4d0e-b3ba-8bf089ef2ab1",
   "metadata": {},
   "outputs": [
    {
     "data": {
      "text/plain": [
       "9495"
      ]
     },
     "execution_count": 68,
     "metadata": {},
     "output_type": "execute_result"
    }
   ],
   "source": [
    "len(df[df['Country']=='Germany'])"
   ]
  },
  {
   "cell_type": "code",
   "execution_count": 33,
   "id": "7612fc7d",
   "metadata": {
    "ExecuteTime": {
     "end_time": "2023-12-01T17:05:36.926586Z",
     "start_time": "2023-12-01T17:05:36.859712Z"
    }
   },
   "outputs": [
    {
     "data": {
      "text/plain": [
       "InvoiceNo      9495\n",
       "StockCode      9495\n",
       "Description    9495\n",
       "Quantity       9495\n",
       "InvoiceDate    9495\n",
       "UnitPrice      9495\n",
       "CustomerID     9495\n",
       "Country        9495\n",
       "dtype: int64"
      ]
     },
     "execution_count": 33,
     "metadata": {},
     "output_type": "execute_result"
    }
   ],
   "source": [
    "df[df['Country']=='Germany'].count()\n"
   ]
  },
  {
   "cell_type": "markdown",
   "id": "f22a8d4f-4061-46dc-96c5-f963eba56d40",
   "metadata": {},
   "source": [
    "## Create a column named \"Total\" which shows the total amount of spend using UnitPrice and Quantity"
   ]
  },
  {
   "cell_type": "markdown",
   "id": "412faeed",
   "metadata": {},
   "source": [
    "**UnitPrice ve Quantity kullanarak toplam harcama miktarını gösteren 'Total' adlı bir sütun oluşturun.**"
   ]
  },
  {
   "cell_type": "code",
   "execution_count": 34,
   "id": "160416ac",
   "metadata": {
    "ExecuteTime": {
     "end_time": "2023-12-01T17:05:36.953493Z",
     "start_time": "2023-12-01T17:05:36.932076Z"
    }
   },
   "outputs": [
    {
     "data": {
      "text/html": [
       "<div>\n",
       "<style scoped>\n",
       "    .dataframe tbody tr th:only-of-type {\n",
       "        vertical-align: middle;\n",
       "    }\n",
       "\n",
       "    .dataframe tbody tr th {\n",
       "        vertical-align: top;\n",
       "    }\n",
       "\n",
       "    .dataframe thead th {\n",
       "        text-align: right;\n",
       "    }\n",
       "</style>\n",
       "<table border=\"1\" class=\"dataframe\">\n",
       "  <thead>\n",
       "    <tr style=\"text-align: right;\">\n",
       "      <th></th>\n",
       "      <th>InvoiceNo</th>\n",
       "      <th>StockCode</th>\n",
       "      <th>Description</th>\n",
       "      <th>Quantity</th>\n",
       "      <th>InvoiceDate</th>\n",
       "      <th>UnitPrice</th>\n",
       "      <th>CustomerID</th>\n",
       "      <th>Country</th>\n",
       "      <th>Total</th>\n",
       "    </tr>\n",
       "  </thead>\n",
       "  <tbody>\n",
       "    <tr>\n",
       "      <th>0</th>\n",
       "      <td>536365</td>\n",
       "      <td>85123A</td>\n",
       "      <td>WHITE HANGING HEART T-LIGHT HOLDER</td>\n",
       "      <td>6</td>\n",
       "      <td>12/1/2010 8:26</td>\n",
       "      <td>2.55</td>\n",
       "      <td>17850.0</td>\n",
       "      <td>United Kingdom</td>\n",
       "      <td>15.30</td>\n",
       "    </tr>\n",
       "    <tr>\n",
       "      <th>1</th>\n",
       "      <td>536365</td>\n",
       "      <td>71053</td>\n",
       "      <td>WHITE METAL LANTERN</td>\n",
       "      <td>6</td>\n",
       "      <td>12/1/2010 8:26</td>\n",
       "      <td>3.39</td>\n",
       "      <td>17850.0</td>\n",
       "      <td>United Kingdom</td>\n",
       "      <td>20.34</td>\n",
       "    </tr>\n",
       "    <tr>\n",
       "      <th>2</th>\n",
       "      <td>536365</td>\n",
       "      <td>84406B</td>\n",
       "      <td>CREAM CUPID HEARTS COAT HANGER</td>\n",
       "      <td>8</td>\n",
       "      <td>12/1/2010 8:26</td>\n",
       "      <td>2.75</td>\n",
       "      <td>17850.0</td>\n",
       "      <td>United Kingdom</td>\n",
       "      <td>22.00</td>\n",
       "    </tr>\n",
       "    <tr>\n",
       "      <th>3</th>\n",
       "      <td>536365</td>\n",
       "      <td>84029G</td>\n",
       "      <td>KNITTED UNION FLAG HOT WATER BOTTLE</td>\n",
       "      <td>6</td>\n",
       "      <td>12/1/2010 8:26</td>\n",
       "      <td>3.39</td>\n",
       "      <td>17850.0</td>\n",
       "      <td>United Kingdom</td>\n",
       "      <td>20.34</td>\n",
       "    </tr>\n",
       "    <tr>\n",
       "      <th>4</th>\n",
       "      <td>536365</td>\n",
       "      <td>84029E</td>\n",
       "      <td>RED WOOLLY HOTTIE WHITE HEART.</td>\n",
       "      <td>6</td>\n",
       "      <td>12/1/2010 8:26</td>\n",
       "      <td>3.39</td>\n",
       "      <td>17850.0</td>\n",
       "      <td>United Kingdom</td>\n",
       "      <td>20.34</td>\n",
       "    </tr>\n",
       "  </tbody>\n",
       "</table>\n",
       "</div>"
      ],
      "text/plain": [
       "  InvoiceNo StockCode                          Description  Quantity  \\\n",
       "0    536365    85123A   WHITE HANGING HEART T-LIGHT HOLDER         6   \n",
       "1    536365     71053                  WHITE METAL LANTERN         6   \n",
       "2    536365    84406B       CREAM CUPID HEARTS COAT HANGER         8   \n",
       "3    536365    84029G  KNITTED UNION FLAG HOT WATER BOTTLE         6   \n",
       "4    536365    84029E       RED WOOLLY HOTTIE WHITE HEART.         6   \n",
       "\n",
       "      InvoiceDate  UnitPrice  CustomerID         Country  Total  \n",
       "0  12/1/2010 8:26       2.55     17850.0  United Kingdom  15.30  \n",
       "1  12/1/2010 8:26       3.39     17850.0  United Kingdom  20.34  \n",
       "2  12/1/2010 8:26       2.75     17850.0  United Kingdom  22.00  \n",
       "3  12/1/2010 8:26       3.39     17850.0  United Kingdom  20.34  \n",
       "4  12/1/2010 8:26       3.39     17850.0  United Kingdom  20.34  "
      ]
     },
     "execution_count": 34,
     "metadata": {},
     "output_type": "execute_result"
    }
   ],
   "source": [
    "# vektörel yapıda olmanın avantajları\n",
    "df[\"Total\"] = df[\"UnitPrice\"] * df[\"Quantity\"]\n",
    "df.head()"
   ]
  },
  {
   "cell_type": "markdown",
   "id": "b2c92c26-fa3b-4022-9c71-88a27064ba1b",
   "metadata": {},
   "source": [
    "## Show total spending amount according to the Countries and their percentages."
   ]
  },
  {
   "cell_type": "markdown",
   "id": "0bd2f1ac",
   "metadata": {},
   "source": [
    "**Ülkelere göre toplam harcama tutarını ve bu tutarın yüzdesel ifadesini göster**"
   ]
  },
  {
   "cell_type": "code",
   "execution_count": 35,
   "id": "4efb7312",
   "metadata": {
    "ExecuteTime": {
     "end_time": "2023-12-01T17:05:37.043834Z",
     "start_time": "2023-12-01T17:05:36.966349Z"
    },
    "scrolled": true
   },
   "outputs": [
    {
     "data": {
      "text/plain": [
       "Country\n",
       "United Kingdom          8187806.364\n",
       "Netherlands              284661.540\n",
       "EIRE                     263276.820\n",
       "Germany                  221698.210\n",
       "France                   197403.900\n",
       "Australia                137077.270\n",
       "Switzerland               56385.350\n",
       "Spain                     54774.580\n",
       "Belgium                   40910.960\n",
       "Sweden                    36595.910\n",
       "Japan                     35340.620\n",
       "Norway                    35163.460\n",
       "Portugal                  29367.020\n",
       "Finland                   22326.740\n",
       "Channel Islands           20086.290\n",
       "Denmark                   18768.140\n",
       "Italy                     16890.510\n",
       "Cyprus                    12946.290\n",
       "Austria                   10154.320\n",
       "Hong Kong                 10117.040\n",
       "Singapore                  9120.390\n",
       "Israel                     7907.820\n",
       "Poland                     7213.140\n",
       "Unspecified                4749.790\n",
       "Greece                     4710.520\n",
       "Iceland                    4310.000\n",
       "Canada                     3666.380\n",
       "Malta                      2505.470\n",
       "United Arab Emirates       1902.280\n",
       "USA                        1730.920\n",
       "Lebanon                    1693.880\n",
       "Lithuania                  1661.060\n",
       "European Community         1291.750\n",
       "Brazil                     1143.600\n",
       "RSA                        1002.310\n",
       "Czech Republic              707.720\n",
       "Bahrain                     548.400\n",
       "Saudi Arabia                131.170\n",
       "Name: Total, dtype: float64"
      ]
     },
     "execution_count": 35,
     "metadata": {},
     "output_type": "execute_result"
    }
   ],
   "source": [
    "df.groupby('Country')['Total'].sum().sort_values(ascending=False)"
   ]
  },
  {
   "cell_type": "code",
   "execution_count": 36,
   "id": "2bd19507",
   "metadata": {
    "ExecuteTime": {
     "end_time": "2023-12-01T17:05:37.128009Z",
     "start_time": "2023-12-01T17:05:37.048624Z"
    },
    "scrolled": true
   },
   "outputs": [
    {
     "data": {
      "text/plain": [
       "Country\n",
       "United Kingdom          83.996903\n",
       "Netherlands              2.920280\n",
       "EIRE                     2.700899\n",
       "Germany                  2.274353\n",
       "France                   2.025123\n",
       "Australia                1.406246\n",
       "Switzerland              0.578445\n",
       "Spain                    0.561920\n",
       "Belgium                  0.419697\n",
       "Sweden                   0.375429\n",
       "Japan                    0.362552\n",
       "Norway                   0.360734\n",
       "Portugal                 0.301270\n",
       "Finland                  0.229045\n",
       "Channel Islands          0.206061\n",
       "Denmark                  0.192538\n",
       "Italy                    0.173276\n",
       "Cyprus                   0.132813\n",
       "Austria                  0.104171\n",
       "Hong Kong                0.103788\n",
       "Singapore                0.093564\n",
       "Israel                   0.081125\n",
       "Poland                   0.073998\n",
       "Unspecified              0.048727\n",
       "Greece                   0.048324\n",
       "Iceland                  0.044215\n",
       "Canada                   0.037613\n",
       "Malta                    0.025703\n",
       "United Arab Emirates     0.019515\n",
       "USA                      0.017757\n",
       "Lebanon                  0.017377\n",
       "Lithuania                0.017040\n",
       "European Community       0.013252\n",
       "Brazil                   0.011732\n",
       "RSA                      0.010282\n",
       "Czech Republic           0.007260\n",
       "Bahrain                  0.005626\n",
       "Saudi Arabia             0.001346\n",
       "Name: Total, dtype: float64"
      ]
     },
     "execution_count": 36,
     "metadata": {},
     "output_type": "execute_result"
    }
   ],
   "source": [
    "result = (df.groupby(\"Country\")[\"Total\"].sum() / df[\"Total\"].sum() * 100) \n",
    "result = result.sort_values(ascending=False)\n",
    "result\n",
    "\n",
    "# Gruplama sonuçlarını hesapla ve yüzdelik olarak oranla"
   ]
  },
  {
   "cell_type": "markdown",
   "id": "7d1e507f-a32d-4ed4-9235-8c1c77b45e90",
   "metadata": {},
   "source": [
    "## Which Country spend least?\n",
    "\n",
    "**En az harcama yapan ülke hangisi?**"
   ]
  },
  {
   "cell_type": "code",
   "execution_count": 37,
   "id": "d529a6c4",
   "metadata": {
    "ExecuteTime": {
     "end_time": "2023-12-01T17:05:37.236309Z",
     "start_time": "2023-12-01T17:05:37.139859Z"
    }
   },
   "outputs": [
    {
     "data": {
      "text/plain": [
       "Country\n",
       "Saudi Arabia    131.17\n",
       "Name: Total, dtype: float64"
      ]
     },
     "execution_count": 37,
     "metadata": {},
     "output_type": "execute_result"
    }
   ],
   "source": [
    "# belirtilen sütundan ya da seriden en küçük 'n' değeri hızlı bir şekilde almanızı sağlar\n",
    "\n",
    "df.groupby(\"Country\").Total.sum().nsmallest(1)"
   ]
  },
  {
   "cell_type": "code",
   "execution_count": 38,
   "id": "d12a2986",
   "metadata": {
    "ExecuteTime": {
     "end_time": "2023-12-01T17:05:37.253968Z",
     "start_time": "2023-12-01T17:05:37.249442Z"
    }
   },
   "outputs": [
    {
     "data": {
      "text/plain": [
       "Country\n",
       "Saudi Arabia    131.17\n",
       "Name: Total, dtype: float64"
      ]
     },
     "execution_count": 38,
     "metadata": {},
     "output_type": "execute_result"
    }
   ],
   "source": [
    "df.groupby(\"Country\").Total.sum().sort_values().head(1)"
   ]
  },
  {
   "cell_type": "markdown",
   "id": "a8c8aab5",
   "metadata": {},
   "source": [
    "## Which Country spend least?\n",
    "**En az harcama yapan ülke hangisi?**"
   ]
  },
  {
   "cell_type": "code",
   "execution_count": 39,
   "id": "2ca204a9",
   "metadata": {
    "ExecuteTime": {
     "end_time": "2023-12-01T17:05:37.404066Z",
     "start_time": "2023-12-01T17:05:37.292772Z"
    }
   },
   "outputs": [
    {
     "data": {
      "text/plain": [
       "Country\n",
       "United Kingdom    8187806.364\n",
       "Name: Total, dtype: float64"
      ]
     },
     "execution_count": 39,
     "metadata": {},
     "output_type": "execute_result"
    }
   ],
   "source": [
    "df.groupby(\"Country\").Total.sum().nlargest(1)"
   ]
  },
  {
   "cell_type": "code",
   "execution_count": 40,
   "id": "140aaead-02c0-485d-9c16-c32eb83100c8",
   "metadata": {},
   "outputs": [
    {
     "data": {
      "text/plain": [
       "Country\n",
       "United Kingdom    8187806.364\n",
       "Name: Total, dtype: float64"
      ]
     },
     "execution_count": 40,
     "metadata": {},
     "output_type": "execute_result"
    }
   ],
   "source": [
    "df.groupby(\"Country\").Total.sum().sort_values().tail(1)"
   ]
  },
  {
   "cell_type": "markdown",
   "id": "dcdb4e96",
   "metadata": {},
   "source": [
    "## Calculate the average of spending according to country with apply function and create a new feature named \"Average_Spend\""
   ]
  },
  {
   "cell_type": "markdown",
   "id": "4e2e393c",
   "metadata": {},
   "source": [
    "**Apply fonksiyonu ile ülkeye göre harcama ortalamasını hesaplayın ve 'Average_Spend' isimli yeni bir sütun oluşturun.**"
   ]
  },
  {
   "cell_type": "code",
   "execution_count": 83,
   "id": "876fb0b3-c804-47f9-96a5-07afd42ee8ce",
   "metadata": {},
   "outputs": [
    {
     "data": {
      "text/plain": [
       "Country\n",
       "Australia               108.877895\n",
       "Austria                  25.322494\n",
       "Bahrain                  28.863158\n",
       "Belgium                  19.773301\n",
       "Brazil                   35.737500\n",
       "Canada                   24.280662\n",
       "Channel Islands          26.499063\n",
       "Cyprus                   20.813971\n",
       "Czech Republic           23.590667\n",
       "Denmark                  48.247147\n",
       "EIRE                     32.122599\n",
       "European Community       21.176230\n",
       "Finland                  32.124806\n",
       "France                   23.069288\n",
       "Germany                  23.348943\n",
       "Greece                   32.263836\n",
       "Hong Kong                35.128611\n",
       "Iceland                  23.681319\n",
       "Israel                   26.625657\n",
       "Italy                    21.034259\n",
       "Japan                    98.716816\n",
       "Lebanon                  37.641778\n",
       "Lithuania                47.458857\n",
       "Malta                    19.728110\n",
       "Netherlands             120.059696\n",
       "Norway                   32.378877\n",
       "Poland                   21.152903\n",
       "Portugal                 19.333127\n",
       "RSA                      17.281207\n",
       "Saudi Arabia             13.117000\n",
       "Singapore                39.827031\n",
       "Spain                    21.624390\n",
       "Sweden                   79.211926\n",
       "Switzerland              28.164510\n",
       "USA                       5.948179\n",
       "United Arab Emirates     27.974706\n",
       "United Kingdom           16.525065\n",
       "Unspecified              10.649753\n",
       "Name: Total, dtype: float64"
      ]
     },
     "execution_count": 83,
     "metadata": {},
     "output_type": "execute_result"
    }
   ],
   "source": [
    "df.groupby(\"Country\").Total.mean()"
   ]
  },
  {
   "cell_type": "code",
   "execution_count": 84,
   "id": "d113ff03",
   "metadata": {
    "ExecuteTime": {
     "end_time": "2023-12-01T17:05:37.551039Z",
     "start_time": "2023-12-01T17:05:37.425508Z"
    }
   },
   "outputs": [
    {
     "data": {
      "text/plain": [
       "Country\n",
       "Australia               108.877895\n",
       "Austria                  25.322494\n",
       "Bahrain                  28.863158\n",
       "Belgium                  19.773301\n",
       "Brazil                   35.737500\n",
       "Canada                   24.280662\n",
       "Channel Islands          26.499063\n",
       "Cyprus                   20.813971\n",
       "Czech Republic           23.590667\n",
       "Denmark                  48.247147\n",
       "EIRE                     32.122599\n",
       "European Community       21.176230\n",
       "Finland                  32.124806\n",
       "France                   23.069288\n",
       "Germany                  23.348943\n",
       "Greece                   32.263836\n",
       "Hong Kong                35.128611\n",
       "Iceland                  23.681319\n",
       "Israel                   26.625657\n",
       "Italy                    21.034259\n",
       "Japan                    98.716816\n",
       "Lebanon                  37.641778\n",
       "Lithuania                47.458857\n",
       "Malta                    19.728110\n",
       "Netherlands             120.059696\n",
       "Norway                   32.378877\n",
       "Poland                   21.152903\n",
       "Portugal                 19.333127\n",
       "RSA                      17.281207\n",
       "Saudi Arabia             13.117000\n",
       "Singapore                39.827031\n",
       "Spain                    21.624390\n",
       "Sweden                   79.211926\n",
       "Switzerland              28.164510\n",
       "USA                       5.948179\n",
       "United Arab Emirates     27.974706\n",
       "United Kingdom           16.525065\n",
       "Unspecified              10.649753\n",
       "Name: Total, dtype: float64"
      ]
     },
     "execution_count": 84,
     "metadata": {},
     "output_type": "execute_result"
    }
   ],
   "source": [
    "df.groupby(\"Country\").Total.apply(np.mean)  \n",
    "# yukarıda ki ile aynı"
   ]
  },
  {
   "cell_type": "code",
   "execution_count": 85,
   "id": "209dcdb7",
   "metadata": {
    "ExecuteTime": {
     "end_time": "2023-12-01T17:05:37.716652Z",
     "start_time": "2023-12-01T17:05:37.555040Z"
    }
   },
   "outputs": [
    {
     "data": {
      "text/html": [
       "<div>\n",
       "<style scoped>\n",
       "    .dataframe tbody tr th:only-of-type {\n",
       "        vertical-align: middle;\n",
       "    }\n",
       "\n",
       "    .dataframe tbody tr th {\n",
       "        vertical-align: top;\n",
       "    }\n",
       "\n",
       "    .dataframe thead th {\n",
       "        text-align: right;\n",
       "    }\n",
       "</style>\n",
       "<table border=\"1\" class=\"dataframe\">\n",
       "  <thead>\n",
       "    <tr style=\"text-align: right;\">\n",
       "      <th></th>\n",
       "      <th>InvoiceNo</th>\n",
       "      <th>StockCode</th>\n",
       "      <th>Description</th>\n",
       "      <th>Quantity</th>\n",
       "      <th>InvoiceDate</th>\n",
       "      <th>UnitPrice</th>\n",
       "      <th>CustomerID</th>\n",
       "      <th>Country</th>\n",
       "      <th>Total</th>\n",
       "      <th>Average_Spend</th>\n",
       "    </tr>\n",
       "  </thead>\n",
       "  <tbody>\n",
       "    <tr>\n",
       "      <th>393926</th>\n",
       "      <td>570861</td>\n",
       "      <td>23191</td>\n",
       "      <td>BUNDLE OF 3 RETRO NOTE BOOKS</td>\n",
       "      <td>12</td>\n",
       "      <td>10/12/2011 15:27</td>\n",
       "      <td>1.65</td>\n",
       "      <td>14775.0</td>\n",
       "      <td>United Kingdom</td>\n",
       "      <td>19.80</td>\n",
       "      <td>16.525065</td>\n",
       "    </tr>\n",
       "    <tr>\n",
       "      <th>146918</th>\n",
       "      <td>549023</td>\n",
       "      <td>22996</td>\n",
       "      <td>TRAVEL CARD WALLET VINTAGE TICKET</td>\n",
       "      <td>2</td>\n",
       "      <td>4/5/2011 16:27</td>\n",
       "      <td>0.83</td>\n",
       "      <td>NaN</td>\n",
       "      <td>United Kingdom</td>\n",
       "      <td>1.66</td>\n",
       "      <td>16.525065</td>\n",
       "    </tr>\n",
       "    <tr>\n",
       "      <th>371842</th>\n",
       "      <td>569228</td>\n",
       "      <td>22318</td>\n",
       "      <td>FIVE HEART HANGING DECORATION</td>\n",
       "      <td>2</td>\n",
       "      <td>10/2/2011 14:47</td>\n",
       "      <td>2.95</td>\n",
       "      <td>15547.0</td>\n",
       "      <td>United Kingdom</td>\n",
       "      <td>5.90</td>\n",
       "      <td>16.525065</td>\n",
       "    </tr>\n",
       "    <tr>\n",
       "      <th>229242</th>\n",
       "      <td>557020</td>\n",
       "      <td>22982</td>\n",
       "      <td>PANTRY PASTRY BRUSH</td>\n",
       "      <td>1</td>\n",
       "      <td>6/16/2011 12:51</td>\n",
       "      <td>1.25</td>\n",
       "      <td>13246.0</td>\n",
       "      <td>United Kingdom</td>\n",
       "      <td>1.25</td>\n",
       "      <td>16.525065</td>\n",
       "    </tr>\n",
       "    <tr>\n",
       "      <th>218615</th>\n",
       "      <td>556056</td>\n",
       "      <td>85099C</td>\n",
       "      <td>JUMBO  BAG BAROQUE BLACK WHITE</td>\n",
       "      <td>1</td>\n",
       "      <td>6/8/2011 13:35</td>\n",
       "      <td>2.08</td>\n",
       "      <td>17841.0</td>\n",
       "      <td>United Kingdom</td>\n",
       "      <td>2.08</td>\n",
       "      <td>16.525065</td>\n",
       "    </tr>\n",
       "    <tr>\n",
       "      <th>142519</th>\n",
       "      <td>548612</td>\n",
       "      <td>21448</td>\n",
       "      <td>12 DAISY PEGS IN WOOD BOX</td>\n",
       "      <td>10</td>\n",
       "      <td>4/1/2011 11:34</td>\n",
       "      <td>1.65</td>\n",
       "      <td>13137.0</td>\n",
       "      <td>United Kingdom</td>\n",
       "      <td>16.50</td>\n",
       "      <td>16.525065</td>\n",
       "    </tr>\n",
       "    <tr>\n",
       "      <th>531506</th>\n",
       "      <td>580956</td>\n",
       "      <td>22604</td>\n",
       "      <td>SET OF 4 NAPKIN CHARMS CUTLERY</td>\n",
       "      <td>2</td>\n",
       "      <td>12/6/2011 14:23</td>\n",
       "      <td>2.55</td>\n",
       "      <td>17841.0</td>\n",
       "      <td>United Kingdom</td>\n",
       "      <td>5.10</td>\n",
       "      <td>16.525065</td>\n",
       "    </tr>\n",
       "    <tr>\n",
       "      <th>299395</th>\n",
       "      <td>563097</td>\n",
       "      <td>23203</td>\n",
       "      <td>JUMBO BAG VINTAGE DOILY</td>\n",
       "      <td>20</td>\n",
       "      <td>8/12/2011 9:11</td>\n",
       "      <td>2.08</td>\n",
       "      <td>17642.0</td>\n",
       "      <td>United Kingdom</td>\n",
       "      <td>41.60</td>\n",
       "      <td>16.525065</td>\n",
       "    </tr>\n",
       "    <tr>\n",
       "      <th>376447</th>\n",
       "      <td>569524</td>\n",
       "      <td>23408</td>\n",
       "      <td>PHOTO FRAME LINEN AND LACE SMALL</td>\n",
       "      <td>2</td>\n",
       "      <td>10/4/2011 14:42</td>\n",
       "      <td>2.08</td>\n",
       "      <td>14506.0</td>\n",
       "      <td>United Kingdom</td>\n",
       "      <td>4.16</td>\n",
       "      <td>16.525065</td>\n",
       "    </tr>\n",
       "    <tr>\n",
       "      <th>522817</th>\n",
       "      <td>580469</td>\n",
       "      <td>23583</td>\n",
       "      <td>LUNCH BAG PAISLEY PARK</td>\n",
       "      <td>1</td>\n",
       "      <td>12/4/2011 12:32</td>\n",
       "      <td>1.65</td>\n",
       "      <td>14583.0</td>\n",
       "      <td>United Kingdom</td>\n",
       "      <td>1.65</td>\n",
       "      <td>16.525065</td>\n",
       "    </tr>\n",
       "  </tbody>\n",
       "</table>\n",
       "</div>"
      ],
      "text/plain": [
       "       InvoiceNo StockCode                        Description  Quantity  \\\n",
       "393926    570861     23191       BUNDLE OF 3 RETRO NOTE BOOKS        12   \n",
       "146918    549023     22996  TRAVEL CARD WALLET VINTAGE TICKET         2   \n",
       "371842    569228     22318      FIVE HEART HANGING DECORATION         2   \n",
       "229242    557020     22982                PANTRY PASTRY BRUSH         1   \n",
       "218615    556056    85099C     JUMBO  BAG BAROQUE BLACK WHITE         1   \n",
       "142519    548612     21448          12 DAISY PEGS IN WOOD BOX        10   \n",
       "531506    580956     22604     SET OF 4 NAPKIN CHARMS CUTLERY         2   \n",
       "299395    563097     23203           JUMBO BAG VINTAGE DOILY         20   \n",
       "376447    569524     23408   PHOTO FRAME LINEN AND LACE SMALL         2   \n",
       "522817    580469     23583           LUNCH BAG PAISLEY PARK           1   \n",
       "\n",
       "             InvoiceDate  UnitPrice  CustomerID         Country  Total  \\\n",
       "393926  10/12/2011 15:27       1.65     14775.0  United Kingdom  19.80   \n",
       "146918    4/5/2011 16:27       0.83         NaN  United Kingdom   1.66   \n",
       "371842   10/2/2011 14:47       2.95     15547.0  United Kingdom   5.90   \n",
       "229242   6/16/2011 12:51       1.25     13246.0  United Kingdom   1.25   \n",
       "218615    6/8/2011 13:35       2.08     17841.0  United Kingdom   2.08   \n",
       "142519    4/1/2011 11:34       1.65     13137.0  United Kingdom  16.50   \n",
       "531506   12/6/2011 14:23       2.55     17841.0  United Kingdom   5.10   \n",
       "299395    8/12/2011 9:11       2.08     17642.0  United Kingdom  41.60   \n",
       "376447   10/4/2011 14:42       2.08     14506.0  United Kingdom   4.16   \n",
       "522817   12/4/2011 12:32       1.65     14583.0  United Kingdom   1.65   \n",
       "\n",
       "        Average_Spend  \n",
       "393926      16.525065  \n",
       "146918      16.525065  \n",
       "371842      16.525065  \n",
       "229242      16.525065  \n",
       "218615      16.525065  \n",
       "142519      16.525065  \n",
       "531506      16.525065  \n",
       "299395      16.525065  \n",
       "376447      16.525065  \n",
       "522817      16.525065  "
      ]
     },
     "execution_count": 85,
     "metadata": {},
     "output_type": "execute_result"
    }
   ],
   "source": [
    "df[\"Average_Spend\"] = df.groupby(\"Country\").Total.transform(\"mean\")\n",
    "df.sample(10)\n",
    "\n",
    "# Apply yöntemi ile group by üzerinden çıktı alırız eğer yeni sütun için kullanırsak hata veririr \n",
    "# yeni sütunda transform ile oluşturup tek tek satır bazında çıktı almalıyız \n",
    "# bu yöntem sonuç olarak orijinal DataFrame uzunluğunda bir seriyi döndürür. "
   ]
  },
  {
   "cell_type": "markdown",
   "id": "b1854b8f-fa9e-492e-9d76-8ee86416e163",
   "metadata": {},
   "source": [
    "## Calculate average, min, max of spending according to country with agg() function and create new features named \"Max_Spend\", \"Min_Spend\" and \"Mean_Spend\"\n",
    "**agg() fonksiyonu ile ülkeye göre ortalama, minimum, maksimum harcamaları hesaplayın ve 'Max_Spend', 'Min_Spend' ve 'Mean_Spend' isimli yeni özellikler oluşturun**"
   ]
  },
  {
   "cell_type": "code",
   "execution_count": 91,
   "id": "18c24046",
   "metadata": {
    "ExecuteTime": {
     "end_time": "2023-12-01T17:05:38.131455Z",
     "start_time": "2023-12-01T17:05:37.989433Z"
    },
    "scrolled": true
   },
   "outputs": [
    {
     "data": {
      "text/html": [
       "<div>\n",
       "<style scoped>\n",
       "    .dataframe tbody tr th:only-of-type {\n",
       "        vertical-align: middle;\n",
       "    }\n",
       "\n",
       "    .dataframe tbody tr th {\n",
       "        vertical-align: top;\n",
       "    }\n",
       "\n",
       "    .dataframe thead th {\n",
       "        text-align: right;\n",
       "    }\n",
       "</style>\n",
       "<table border=\"1\" class=\"dataframe\">\n",
       "  <thead>\n",
       "    <tr style=\"text-align: right;\">\n",
       "      <th></th>\n",
       "      <th>min</th>\n",
       "      <th>max</th>\n",
       "      <th>mean</th>\n",
       "    </tr>\n",
       "    <tr>\n",
       "      <th>Country</th>\n",
       "      <th></th>\n",
       "      <th></th>\n",
       "      <th></th>\n",
       "    </tr>\n",
       "  </thead>\n",
       "  <tbody>\n",
       "    <tr>\n",
       "      <th>Australia</th>\n",
       "      <td>-425.00</td>\n",
       "      <td>1718.40</td>\n",
       "      <td>108.877895</td>\n",
       "    </tr>\n",
       "    <tr>\n",
       "      <th>Austria</th>\n",
       "      <td>-21.25</td>\n",
       "      <td>360.00</td>\n",
       "      <td>25.322494</td>\n",
       "    </tr>\n",
       "    <tr>\n",
       "      <th>Bahrain</th>\n",
       "      <td>-205.74</td>\n",
       "      <td>205.74</td>\n",
       "      <td>28.863158</td>\n",
       "    </tr>\n",
       "    <tr>\n",
       "      <th>Belgium</th>\n",
       "      <td>-19.95</td>\n",
       "      <td>165.00</td>\n",
       "      <td>19.773301</td>\n",
       "    </tr>\n",
       "    <tr>\n",
       "      <th>Brazil</th>\n",
       "      <td>15.00</td>\n",
       "      <td>175.20</td>\n",
       "      <td>35.737500</td>\n",
       "    </tr>\n",
       "    <tr>\n",
       "      <th>Canada</th>\n",
       "      <td>2.50</td>\n",
       "      <td>550.94</td>\n",
       "      <td>24.280662</td>\n",
       "    </tr>\n",
       "    <tr>\n",
       "      <th>Channel Islands</th>\n",
       "      <td>-293.00</td>\n",
       "      <td>408.00</td>\n",
       "      <td>26.499063</td>\n",
       "    </tr>\n",
       "    <tr>\n",
       "      <th>Cyprus</th>\n",
       "      <td>-320.69</td>\n",
       "      <td>320.69</td>\n",
       "      <td>20.813971</td>\n",
       "    </tr>\n",
       "    <tr>\n",
       "      <th>Czech Republic</th>\n",
       "      <td>-35.76</td>\n",
       "      <td>70.80</td>\n",
       "      <td>23.590667</td>\n",
       "    </tr>\n",
       "    <tr>\n",
       "      <th>Denmark</th>\n",
       "      <td>-59.80</td>\n",
       "      <td>428.40</td>\n",
       "      <td>48.247147</td>\n",
       "    </tr>\n",
       "    <tr>\n",
       "      <th>EIRE</th>\n",
       "      <td>-1917.00</td>\n",
       "      <td>2365.20</td>\n",
       "      <td>32.122599</td>\n",
       "    </tr>\n",
       "    <tr>\n",
       "      <th>European Community</th>\n",
       "      <td>-8.50</td>\n",
       "      <td>60.00</td>\n",
       "      <td>21.176230</td>\n",
       "    </tr>\n",
       "    <tr>\n",
       "      <th>Finland</th>\n",
       "      <td>-80.00</td>\n",
       "      <td>551.20</td>\n",
       "      <td>32.124806</td>\n",
       "    </tr>\n",
       "    <tr>\n",
       "      <th>France</th>\n",
       "      <td>-8322.12</td>\n",
       "      <td>4161.06</td>\n",
       "      <td>23.069288</td>\n",
       "    </tr>\n",
       "    <tr>\n",
       "      <th>Germany</th>\n",
       "      <td>-599.50</td>\n",
       "      <td>876.00</td>\n",
       "      <td>23.348943</td>\n",
       "    </tr>\n",
       "    <tr>\n",
       "      <th>Greece</th>\n",
       "      <td>-50.00</td>\n",
       "      <td>175.20</td>\n",
       "      <td>32.263836</td>\n",
       "    </tr>\n",
       "    <tr>\n",
       "      <th>Hong Kong</th>\n",
       "      <td>-2653.95</td>\n",
       "      <td>2653.95</td>\n",
       "      <td>35.128611</td>\n",
       "    </tr>\n",
       "    <tr>\n",
       "      <th>Iceland</th>\n",
       "      <td>5.04</td>\n",
       "      <td>249.60</td>\n",
       "      <td>23.681319</td>\n",
       "    </tr>\n",
       "    <tr>\n",
       "      <th>Israel</th>\n",
       "      <td>-136.00</td>\n",
       "      <td>350.40</td>\n",
       "      <td>26.625657</td>\n",
       "    </tr>\n",
       "    <tr>\n",
       "      <th>Italy</th>\n",
       "      <td>-89.55</td>\n",
       "      <td>300.00</td>\n",
       "      <td>21.034259</td>\n",
       "    </tr>\n",
       "    <tr>\n",
       "      <th>Japan</th>\n",
       "      <td>-1591.20</td>\n",
       "      <td>3794.40</td>\n",
       "      <td>98.716816</td>\n",
       "    </tr>\n",
       "    <tr>\n",
       "      <th>Lebanon</th>\n",
       "      <td>10.20</td>\n",
       "      <td>153.00</td>\n",
       "      <td>37.641778</td>\n",
       "    </tr>\n",
       "    <tr>\n",
       "      <th>Lithuania</th>\n",
       "      <td>13.20</td>\n",
       "      <td>122.40</td>\n",
       "      <td>47.458857</td>\n",
       "    </tr>\n",
       "    <tr>\n",
       "      <th>Malta</th>\n",
       "      <td>-130.00</td>\n",
       "      <td>455.00</td>\n",
       "      <td>19.728110</td>\n",
       "    </tr>\n",
       "    <tr>\n",
       "      <th>Netherlands</th>\n",
       "      <td>-266.40</td>\n",
       "      <td>4992.00</td>\n",
       "      <td>120.059696</td>\n",
       "    </tr>\n",
       "    <tr>\n",
       "      <th>Norway</th>\n",
       "      <td>-376.50</td>\n",
       "      <td>700.00</td>\n",
       "      <td>32.378877</td>\n",
       "    </tr>\n",
       "    <tr>\n",
       "      <th>Poland</th>\n",
       "      <td>-39.80</td>\n",
       "      <td>120.00</td>\n",
       "      <td>21.152903</td>\n",
       "    </tr>\n",
       "    <tr>\n",
       "      <th>Portugal</th>\n",
       "      <td>-1241.98</td>\n",
       "      <td>1241.98</td>\n",
       "      <td>19.333127</td>\n",
       "    </tr>\n",
       "    <tr>\n",
       "      <th>RSA</th>\n",
       "      <td>0.00</td>\n",
       "      <td>38.25</td>\n",
       "      <td>17.281207</td>\n",
       "    </tr>\n",
       "    <tr>\n",
       "      <th>Saudi Arabia</th>\n",
       "      <td>-14.75</td>\n",
       "      <td>19.80</td>\n",
       "      <td>13.117000</td>\n",
       "    </tr>\n",
       "    <tr>\n",
       "      <th>Singapore</th>\n",
       "      <td>-3949.32</td>\n",
       "      <td>3949.32</td>\n",
       "      <td>39.827031</td>\n",
       "    </tr>\n",
       "    <tr>\n",
       "      <th>Spain</th>\n",
       "      <td>-1715.85</td>\n",
       "      <td>1350.00</td>\n",
       "      <td>21.624390</td>\n",
       "    </tr>\n",
       "    <tr>\n",
       "      <th>Sweden</th>\n",
       "      <td>-1188.00</td>\n",
       "      <td>1188.00</td>\n",
       "      <td>79.211926</td>\n",
       "    </tr>\n",
       "    <tr>\n",
       "      <th>Switzerland</th>\n",
       "      <td>-179.00</td>\n",
       "      <td>360.00</td>\n",
       "      <td>28.164510</td>\n",
       "    </tr>\n",
       "    <tr>\n",
       "      <th>USA</th>\n",
       "      <td>-74.88</td>\n",
       "      <td>81.36</td>\n",
       "      <td>5.948179</td>\n",
       "    </tr>\n",
       "    <tr>\n",
       "      <th>United Arab Emirates</th>\n",
       "      <td>3.48</td>\n",
       "      <td>153.00</td>\n",
       "      <td>27.974706</td>\n",
       "    </tr>\n",
       "    <tr>\n",
       "      <th>United Kingdom</th>\n",
       "      <td>-168469.60</td>\n",
       "      <td>168469.60</td>\n",
       "      <td>16.525065</td>\n",
       "    </tr>\n",
       "    <tr>\n",
       "      <th>Unspecified</th>\n",
       "      <td>0.19</td>\n",
       "      <td>69.36</td>\n",
       "      <td>10.649753</td>\n",
       "    </tr>\n",
       "  </tbody>\n",
       "</table>\n",
       "</div>"
      ],
      "text/plain": [
       "                            min        max        mean\n",
       "Country                                               \n",
       "Australia               -425.00    1718.40  108.877895\n",
       "Austria                  -21.25     360.00   25.322494\n",
       "Bahrain                 -205.74     205.74   28.863158\n",
       "Belgium                  -19.95     165.00   19.773301\n",
       "Brazil                    15.00     175.20   35.737500\n",
       "Canada                     2.50     550.94   24.280662\n",
       "Channel Islands         -293.00     408.00   26.499063\n",
       "Cyprus                  -320.69     320.69   20.813971\n",
       "Czech Republic           -35.76      70.80   23.590667\n",
       "Denmark                  -59.80     428.40   48.247147\n",
       "EIRE                   -1917.00    2365.20   32.122599\n",
       "European Community        -8.50      60.00   21.176230\n",
       "Finland                  -80.00     551.20   32.124806\n",
       "France                 -8322.12    4161.06   23.069288\n",
       "Germany                 -599.50     876.00   23.348943\n",
       "Greece                   -50.00     175.20   32.263836\n",
       "Hong Kong              -2653.95    2653.95   35.128611\n",
       "Iceland                    5.04     249.60   23.681319\n",
       "Israel                  -136.00     350.40   26.625657\n",
       "Italy                    -89.55     300.00   21.034259\n",
       "Japan                  -1591.20    3794.40   98.716816\n",
       "Lebanon                   10.20     153.00   37.641778\n",
       "Lithuania                 13.20     122.40   47.458857\n",
       "Malta                   -130.00     455.00   19.728110\n",
       "Netherlands             -266.40    4992.00  120.059696\n",
       "Norway                  -376.50     700.00   32.378877\n",
       "Poland                   -39.80     120.00   21.152903\n",
       "Portugal               -1241.98    1241.98   19.333127\n",
       "RSA                        0.00      38.25   17.281207\n",
       "Saudi Arabia             -14.75      19.80   13.117000\n",
       "Singapore              -3949.32    3949.32   39.827031\n",
       "Spain                  -1715.85    1350.00   21.624390\n",
       "Sweden                 -1188.00    1188.00   79.211926\n",
       "Switzerland             -179.00     360.00   28.164510\n",
       "USA                      -74.88      81.36    5.948179\n",
       "United Arab Emirates       3.48     153.00   27.974706\n",
       "United Kingdom       -168469.60  168469.60   16.525065\n",
       "Unspecified                0.19      69.36   10.649753"
      ]
     },
     "execution_count": 91,
     "metadata": {},
     "output_type": "execute_result"
    }
   ],
   "source": [
    "df.groupby(\"Country\").Total.agg([\"min\", \"max\", \"mean\"])"
   ]
  },
  {
   "cell_type": "code",
   "execution_count": 92,
   "id": "81a2c0a6",
   "metadata": {
    "ExecuteTime": {
     "end_time": "2023-12-01T17:05:38.139867Z",
     "start_time": "2023-12-01T17:05:38.135457Z"
    }
   },
   "outputs": [],
   "source": [
    "# df.groupby(\"Country\").Total.apply(lambda x: {'min': x.min(), 'mean': x.mean(), 'max': x.max()})"
   ]
  },
  {
   "cell_type": "code",
   "execution_count": 42,
   "id": "8dca3314",
   "metadata": {
    "ExecuteTime": {
     "end_time": "2023-12-01T17:05:38.368268Z",
     "start_time": "2023-12-01T17:05:38.143869Z"
    },
    "scrolled": true
   },
   "outputs": [
    {
     "data": {
      "text/html": [
       "<div>\n",
       "<style scoped>\n",
       "    .dataframe tbody tr th:only-of-type {\n",
       "        vertical-align: middle;\n",
       "    }\n",
       "\n",
       "    .dataframe tbody tr th {\n",
       "        vertical-align: top;\n",
       "    }\n",
       "\n",
       "    .dataframe thead th {\n",
       "        text-align: right;\n",
       "    }\n",
       "</style>\n",
       "<table border=\"1\" class=\"dataframe\">\n",
       "  <thead>\n",
       "    <tr style=\"text-align: right;\">\n",
       "      <th></th>\n",
       "      <th>InvoiceNo</th>\n",
       "      <th>StockCode</th>\n",
       "      <th>Description</th>\n",
       "      <th>Quantity</th>\n",
       "      <th>InvoiceDate</th>\n",
       "      <th>UnitPrice</th>\n",
       "      <th>CustomerID</th>\n",
       "      <th>Country</th>\n",
       "      <th>Total</th>\n",
       "      <th>Max_Spend</th>\n",
       "      <th>Min_Spend</th>\n",
       "      <th>Mean_Spend</th>\n",
       "    </tr>\n",
       "  </thead>\n",
       "  <tbody>\n",
       "    <tr>\n",
       "      <th>0</th>\n",
       "      <td>536365</td>\n",
       "      <td>85123A</td>\n",
       "      <td>WHITE HANGING HEART T-LIGHT HOLDER</td>\n",
       "      <td>6</td>\n",
       "      <td>12/1/2010 8:26</td>\n",
       "      <td>2.55</td>\n",
       "      <td>17850.0</td>\n",
       "      <td>United Kingdom</td>\n",
       "      <td>15.30</td>\n",
       "      <td>168469.6</td>\n",
       "      <td>-168469.6</td>\n",
       "      <td>16.525065</td>\n",
       "    </tr>\n",
       "    <tr>\n",
       "      <th>1</th>\n",
       "      <td>536365</td>\n",
       "      <td>71053</td>\n",
       "      <td>WHITE METAL LANTERN</td>\n",
       "      <td>6</td>\n",
       "      <td>12/1/2010 8:26</td>\n",
       "      <td>3.39</td>\n",
       "      <td>17850.0</td>\n",
       "      <td>United Kingdom</td>\n",
       "      <td>20.34</td>\n",
       "      <td>168469.6</td>\n",
       "      <td>-168469.6</td>\n",
       "      <td>16.525065</td>\n",
       "    </tr>\n",
       "    <tr>\n",
       "      <th>2</th>\n",
       "      <td>536365</td>\n",
       "      <td>84406B</td>\n",
       "      <td>CREAM CUPID HEARTS COAT HANGER</td>\n",
       "      <td>8</td>\n",
       "      <td>12/1/2010 8:26</td>\n",
       "      <td>2.75</td>\n",
       "      <td>17850.0</td>\n",
       "      <td>United Kingdom</td>\n",
       "      <td>22.00</td>\n",
       "      <td>168469.6</td>\n",
       "      <td>-168469.6</td>\n",
       "      <td>16.525065</td>\n",
       "    </tr>\n",
       "    <tr>\n",
       "      <th>3</th>\n",
       "      <td>536365</td>\n",
       "      <td>84029G</td>\n",
       "      <td>KNITTED UNION FLAG HOT WATER BOTTLE</td>\n",
       "      <td>6</td>\n",
       "      <td>12/1/2010 8:26</td>\n",
       "      <td>3.39</td>\n",
       "      <td>17850.0</td>\n",
       "      <td>United Kingdom</td>\n",
       "      <td>20.34</td>\n",
       "      <td>168469.6</td>\n",
       "      <td>-168469.6</td>\n",
       "      <td>16.525065</td>\n",
       "    </tr>\n",
       "    <tr>\n",
       "      <th>4</th>\n",
       "      <td>536365</td>\n",
       "      <td>84029E</td>\n",
       "      <td>RED WOOLLY HOTTIE WHITE HEART.</td>\n",
       "      <td>6</td>\n",
       "      <td>12/1/2010 8:26</td>\n",
       "      <td>3.39</td>\n",
       "      <td>17850.0</td>\n",
       "      <td>United Kingdom</td>\n",
       "      <td>20.34</td>\n",
       "      <td>168469.6</td>\n",
       "      <td>-168469.6</td>\n",
       "      <td>16.525065</td>\n",
       "    </tr>\n",
       "  </tbody>\n",
       "</table>\n",
       "</div>"
      ],
      "text/plain": [
       "  InvoiceNo StockCode                          Description  Quantity  \\\n",
       "0    536365    85123A   WHITE HANGING HEART T-LIGHT HOLDER         6   \n",
       "1    536365     71053                  WHITE METAL LANTERN         6   \n",
       "2    536365    84406B       CREAM CUPID HEARTS COAT HANGER         8   \n",
       "3    536365    84029G  KNITTED UNION FLAG HOT WATER BOTTLE         6   \n",
       "4    536365    84029E       RED WOOLLY HOTTIE WHITE HEART.         6   \n",
       "\n",
       "      InvoiceDate  UnitPrice  CustomerID         Country  Total  Max_Spend  \\\n",
       "0  12/1/2010 8:26       2.55     17850.0  United Kingdom  15.30   168469.6   \n",
       "1  12/1/2010 8:26       3.39     17850.0  United Kingdom  20.34   168469.6   \n",
       "2  12/1/2010 8:26       2.75     17850.0  United Kingdom  22.00   168469.6   \n",
       "3  12/1/2010 8:26       3.39     17850.0  United Kingdom  20.34   168469.6   \n",
       "4  12/1/2010 8:26       3.39     17850.0  United Kingdom  20.34   168469.6   \n",
       "\n",
       "   Min_Spend  Mean_Spend  \n",
       "0  -168469.6   16.525065  \n",
       "1  -168469.6   16.525065  \n",
       "2  -168469.6   16.525065  \n",
       "3  -168469.6   16.525065  \n",
       "4  -168469.6   16.525065  "
      ]
     },
     "execution_count": 42,
     "metadata": {},
     "output_type": "execute_result"
    }
   ],
   "source": [
    "df[\"Max_Spend\"] =df.groupby(\"Country\").Total.transform(\"max\")\n",
    "df[\"Min_Spend\"] =df.groupby(\"Country\").Total.transform(\"min\")\n",
    "df[\"Mean_Spend\"] =df.groupby(\"Country\").Total.transform(\"mean\")\n",
    "df.head()\n",
    "\n",
    "# df[\"Max_Spend\"] = df.groupby(\"Country\")[\"Total\"].transform(lambda x: x.max())\n",
    "# df[\"Min_Spend\"] = df.groupby(\"Country\")[\"Total\"].transform(lambda x: x.min())\n",
    "# df[\"Mean_Spend\"] = df.groupby(\"Country\")[\"Total\"].transform(lambda x: x.mean())\n"
   ]
  },
  {
   "cell_type": "markdown",
   "id": "afc74cce-1589-434f-929e-d4f809eac34d",
   "metadata": {},
   "source": [
    "## What is the max Total spending in whole dataset and show all records of that spending?"
   ]
  },
  {
   "cell_type": "markdown",
   "id": "902b84af",
   "metadata": {},
   "source": [
    "**Tüm veri kümesindeki maksimum Toplam harcama nedir?**"
   ]
  },
  {
   "cell_type": "code",
   "execution_count": 94,
   "id": "f77f64cd",
   "metadata": {
    "ExecuteTime": {
     "end_time": "2023-12-01T17:05:38.381669Z",
     "start_time": "2023-12-01T17:05:38.372270Z"
    }
   },
   "outputs": [
    {
     "data": {
      "text/plain": [
       "168469.6"
      ]
     },
     "execution_count": 94,
     "metadata": {},
     "output_type": "execute_result"
    }
   ],
   "source": [
    "df.Total.max()"
   ]
  },
  {
   "cell_type": "code",
   "execution_count": 95,
   "id": "8e3503f4-f9b7-4456-9a8e-5cf68e7f6f09",
   "metadata": {},
   "outputs": [],
   "source": [
    "# birden fazla yolu var"
   ]
  },
  {
   "cell_type": "code",
   "execution_count": 43,
   "id": "42c62481",
   "metadata": {
    "ExecuteTime": {
     "end_time": "2023-12-01T17:05:38.606611Z",
     "start_time": "2023-12-01T17:05:38.384671Z"
    }
   },
   "outputs": [
    {
     "data": {
      "text/html": [
       "<div>\n",
       "<style scoped>\n",
       "    .dataframe tbody tr th:only-of-type {\n",
       "        vertical-align: middle;\n",
       "    }\n",
       "\n",
       "    .dataframe tbody tr th {\n",
       "        vertical-align: top;\n",
       "    }\n",
       "\n",
       "    .dataframe thead th {\n",
       "        text-align: right;\n",
       "    }\n",
       "</style>\n",
       "<table border=\"1\" class=\"dataframe\">\n",
       "  <thead>\n",
       "    <tr style=\"text-align: right;\">\n",
       "      <th></th>\n",
       "      <th>InvoiceNo</th>\n",
       "      <th>StockCode</th>\n",
       "      <th>Description</th>\n",
       "      <th>Quantity</th>\n",
       "      <th>InvoiceDate</th>\n",
       "      <th>UnitPrice</th>\n",
       "      <th>CustomerID</th>\n",
       "      <th>Country</th>\n",
       "      <th>Total</th>\n",
       "      <th>Max_Spend</th>\n",
       "      <th>Min_Spend</th>\n",
       "      <th>Mean_Spend</th>\n",
       "    </tr>\n",
       "  </thead>\n",
       "  <tbody>\n",
       "    <tr>\n",
       "      <th>540421</th>\n",
       "      <td>581483</td>\n",
       "      <td>23843</td>\n",
       "      <td>PAPER CRAFT , LITTLE BIRDIE</td>\n",
       "      <td>80995</td>\n",
       "      <td>12/9/2011 9:15</td>\n",
       "      <td>2.08</td>\n",
       "      <td>16446.0</td>\n",
       "      <td>United Kingdom</td>\n",
       "      <td>168469.6</td>\n",
       "      <td>168469.6</td>\n",
       "      <td>-168469.6</td>\n",
       "      <td>16.525065</td>\n",
       "    </tr>\n",
       "  </tbody>\n",
       "</table>\n",
       "</div>"
      ],
      "text/plain": [
       "       InvoiceNo StockCode                  Description  Quantity  \\\n",
       "540421    581483     23843  PAPER CRAFT , LITTLE BIRDIE     80995   \n",
       "\n",
       "           InvoiceDate  UnitPrice  CustomerID         Country     Total  \\\n",
       "540421  12/9/2011 9:15       2.08     16446.0  United Kingdom  168469.6   \n",
       "\n",
       "        Max_Spend  Min_Spend  Mean_Spend  \n",
       "540421   168469.6  -168469.6   16.525065  "
      ]
     },
     "execution_count": 43,
     "metadata": {},
     "output_type": "execute_result"
    }
   ],
   "source": [
    "df.nlargest(1, 'Total')"
   ]
  },
  {
   "cell_type": "code",
   "execution_count": 44,
   "id": "5cb20c7f",
   "metadata": {
    "ExecuteTime": {
     "end_time": "2023-12-01T17:05:38.641801Z",
     "start_time": "2023-12-01T17:05:38.609613Z"
    }
   },
   "outputs": [
    {
     "data": {
      "text/html": [
       "<div>\n",
       "<style scoped>\n",
       "    .dataframe tbody tr th:only-of-type {\n",
       "        vertical-align: middle;\n",
       "    }\n",
       "\n",
       "    .dataframe tbody tr th {\n",
       "        vertical-align: top;\n",
       "    }\n",
       "\n",
       "    .dataframe thead th {\n",
       "        text-align: right;\n",
       "    }\n",
       "</style>\n",
       "<table border=\"1\" class=\"dataframe\">\n",
       "  <thead>\n",
       "    <tr style=\"text-align: right;\">\n",
       "      <th></th>\n",
       "      <th>InvoiceNo</th>\n",
       "      <th>StockCode</th>\n",
       "      <th>Description</th>\n",
       "      <th>Quantity</th>\n",
       "      <th>InvoiceDate</th>\n",
       "      <th>UnitPrice</th>\n",
       "      <th>CustomerID</th>\n",
       "      <th>Country</th>\n",
       "      <th>Total</th>\n",
       "      <th>Max_Spend</th>\n",
       "      <th>Min_Spend</th>\n",
       "      <th>Mean_Spend</th>\n",
       "    </tr>\n",
       "  </thead>\n",
       "  <tbody>\n",
       "    <tr>\n",
       "      <th>540421</th>\n",
       "      <td>581483</td>\n",
       "      <td>23843</td>\n",
       "      <td>PAPER CRAFT , LITTLE BIRDIE</td>\n",
       "      <td>80995</td>\n",
       "      <td>12/9/2011 9:15</td>\n",
       "      <td>2.08</td>\n",
       "      <td>16446.0</td>\n",
       "      <td>United Kingdom</td>\n",
       "      <td>168469.6</td>\n",
       "      <td>168469.6</td>\n",
       "      <td>-168469.6</td>\n",
       "      <td>16.525065</td>\n",
       "    </tr>\n",
       "  </tbody>\n",
       "</table>\n",
       "</div>"
      ],
      "text/plain": [
       "       InvoiceNo StockCode                  Description  Quantity  \\\n",
       "540421    581483     23843  PAPER CRAFT , LITTLE BIRDIE     80995   \n",
       "\n",
       "           InvoiceDate  UnitPrice  CustomerID         Country     Total  \\\n",
       "540421  12/9/2011 9:15       2.08     16446.0  United Kingdom  168469.6   \n",
       "\n",
       "        Max_Spend  Min_Spend  Mean_Spend  \n",
       "540421   168469.6  -168469.6   16.525065  "
      ]
     },
     "execution_count": 44,
     "metadata": {},
     "output_type": "execute_result"
    }
   ],
   "source": [
    "max_index = df['Total'].idxmax()\n",
    "df.loc[[max_index]]"
   ]
  },
  {
   "cell_type": "code",
   "execution_count": 45,
   "id": "f661170b",
   "metadata": {
    "ExecuteTime": {
     "end_time": "2023-12-01T17:05:39.120484Z",
     "start_time": "2023-12-01T17:05:38.645802Z"
    }
   },
   "outputs": [
    {
     "data": {
      "text/html": [
       "<div>\n",
       "<style scoped>\n",
       "    .dataframe tbody tr th:only-of-type {\n",
       "        vertical-align: middle;\n",
       "    }\n",
       "\n",
       "    .dataframe tbody tr th {\n",
       "        vertical-align: top;\n",
       "    }\n",
       "\n",
       "    .dataframe thead th {\n",
       "        text-align: right;\n",
       "    }\n",
       "</style>\n",
       "<table border=\"1\" class=\"dataframe\">\n",
       "  <thead>\n",
       "    <tr style=\"text-align: right;\">\n",
       "      <th></th>\n",
       "      <th>InvoiceNo</th>\n",
       "      <th>StockCode</th>\n",
       "      <th>Description</th>\n",
       "      <th>Quantity</th>\n",
       "      <th>InvoiceDate</th>\n",
       "      <th>UnitPrice</th>\n",
       "      <th>CustomerID</th>\n",
       "      <th>Country</th>\n",
       "      <th>Total</th>\n",
       "      <th>Max_Spend</th>\n",
       "      <th>Min_Spend</th>\n",
       "      <th>Mean_Spend</th>\n",
       "    </tr>\n",
       "  </thead>\n",
       "  <tbody>\n",
       "    <tr>\n",
       "      <th>540421</th>\n",
       "      <td>581483</td>\n",
       "      <td>23843</td>\n",
       "      <td>PAPER CRAFT , LITTLE BIRDIE</td>\n",
       "      <td>80995</td>\n",
       "      <td>12/9/2011 9:15</td>\n",
       "      <td>2.08</td>\n",
       "      <td>16446.0</td>\n",
       "      <td>United Kingdom</td>\n",
       "      <td>168469.6</td>\n",
       "      <td>168469.6</td>\n",
       "      <td>-168469.6</td>\n",
       "      <td>16.525065</td>\n",
       "    </tr>\n",
       "  </tbody>\n",
       "</table>\n",
       "</div>"
      ],
      "text/plain": [
       "       InvoiceNo StockCode                  Description  Quantity  \\\n",
       "540421    581483     23843  PAPER CRAFT , LITTLE BIRDIE     80995   \n",
       "\n",
       "           InvoiceDate  UnitPrice  CustomerID         Country     Total  \\\n",
       "540421  12/9/2011 9:15       2.08     16446.0  United Kingdom  168469.6   \n",
       "\n",
       "        Max_Spend  Min_Spend  Mean_Spend  \n",
       "540421   168469.6  -168469.6   16.525065  "
      ]
     },
     "execution_count": 45,
     "metadata": {},
     "output_type": "execute_result"
    }
   ],
   "source": [
    "df.sort_values('Total', ascending=False).head(1)"
   ]
  },
  {
   "cell_type": "code",
   "execution_count": 46,
   "id": "522397f4",
   "metadata": {
    "ExecuteTime": {
     "end_time": "2023-12-01T17:05:39.149400Z",
     "start_time": "2023-12-01T17:05:39.123485Z"
    }
   },
   "outputs": [
    {
     "data": {
      "text/html": [
       "<div>\n",
       "<style scoped>\n",
       "    .dataframe tbody tr th:only-of-type {\n",
       "        vertical-align: middle;\n",
       "    }\n",
       "\n",
       "    .dataframe tbody tr th {\n",
       "        vertical-align: top;\n",
       "    }\n",
       "\n",
       "    .dataframe thead th {\n",
       "        text-align: right;\n",
       "    }\n",
       "</style>\n",
       "<table border=\"1\" class=\"dataframe\">\n",
       "  <thead>\n",
       "    <tr style=\"text-align: right;\">\n",
       "      <th></th>\n",
       "      <th>InvoiceNo</th>\n",
       "      <th>StockCode</th>\n",
       "      <th>Description</th>\n",
       "      <th>Quantity</th>\n",
       "      <th>InvoiceDate</th>\n",
       "      <th>UnitPrice</th>\n",
       "      <th>CustomerID</th>\n",
       "      <th>Country</th>\n",
       "      <th>Total</th>\n",
       "      <th>Max_Spend</th>\n",
       "      <th>Min_Spend</th>\n",
       "      <th>Mean_Spend</th>\n",
       "    </tr>\n",
       "  </thead>\n",
       "  <tbody>\n",
       "    <tr>\n",
       "      <th>540421</th>\n",
       "      <td>581483</td>\n",
       "      <td>23843</td>\n",
       "      <td>PAPER CRAFT , LITTLE BIRDIE</td>\n",
       "      <td>80995</td>\n",
       "      <td>12/9/2011 9:15</td>\n",
       "      <td>2.08</td>\n",
       "      <td>16446.0</td>\n",
       "      <td>United Kingdom</td>\n",
       "      <td>168469.6</td>\n",
       "      <td>168469.6</td>\n",
       "      <td>-168469.6</td>\n",
       "      <td>16.525065</td>\n",
       "    </tr>\n",
       "  </tbody>\n",
       "</table>\n",
       "</div>"
      ],
      "text/plain": [
       "       InvoiceNo StockCode                  Description  Quantity  \\\n",
       "540421    581483     23843  PAPER CRAFT , LITTLE BIRDIE     80995   \n",
       "\n",
       "           InvoiceDate  UnitPrice  CustomerID         Country     Total  \\\n",
       "540421  12/9/2011 9:15       2.08     16446.0  United Kingdom  168469.6   \n",
       "\n",
       "        Max_Spend  Min_Spend  Mean_Spend  \n",
       "540421   168469.6  -168469.6   16.525065  "
      ]
     },
     "execution_count": 46,
     "metadata": {},
     "output_type": "execute_result"
    }
   ],
   "source": [
    "df[df.Total == df.Total.max()]"
   ]
  },
  {
   "cell_type": "markdown",
   "id": "e75c520c",
   "metadata": {},
   "source": [
    "`df.Total.max()` ve `df[df.Total == df.Total.max()]` ifadeleri, DataFrame'de 'Total' sütununun maksimum değerini bulur ve bu maksimum değere sahip tüm satırları seçer. Bu işlemi gerçekleştirmenin başka yolları da vardır. İşte bazı alternatif yöntemler:\n",
    "\n",
    "1. **`idxmax()` Kullanarak:**\n",
    "   `idxmax()` fonksiyonu, maksimum değere sahip elemanın indeksini döndürür. Bu indeksi kullanarak ilgili satırları seçebilirsiniz.\n",
    "   ```python\n",
    "   max_index = df['Total'].idxmax()\n",
    "   df.loc[[max_index]]\n",
    "   ```\n",
    "\n",
    "2. **`nlargest()` Kullanarak:**\n",
    "   `nlargest()` fonksiyonu, belirli bir sütunda en büyük n değeri alır. Bu durumda, sadece en büyük değeri almak için n=1 kullanabilirsiniz.\n",
    "   ```python\n",
    "   df.nlargest(1, 'Total')\n",
    "   ```\n",
    "\n",
    "3. **`sort_values()` ve `head()` Kullanarak:**\n",
    "   Önce 'Total' sütununa göre veriyi azalan sırada sıralayabilir ve sonra `head(1)` ile en üstteki satırı seçebilirsiniz.\n",
    "   ```python\n",
    "   df.sort_values('Total', ascending=False).head(1)\n",
    "   ```\n",
    "\n",
    "Bu yöntemlerden herhangi biri, DataFrame'de 'Total' sütununun maksimum değerine sahip satırı/satırları bulmak için kullanılabilir. Hangi yöntemin kullanılacağı, verinin yapısına ve kişisel tercihlere bağlıdır."
   ]
  },
  {
   "cell_type": "markdown",
   "id": "cbea287c-b2ef-4c94-b4bc-e047ee69abd1",
   "metadata": {},
   "source": [
    "## How many people who live in France spend more than average Total?"
   ]
  },
  {
   "cell_type": "markdown",
   "id": "27eb1f5f",
   "metadata": {},
   "source": [
    "**Fransa'da yaşayan kaç kişi ortalamanın üzerinde harcama yapıyor**"
   ]
  },
  {
   "cell_type": "code",
   "execution_count": 48,
   "id": "b6caf3c4",
   "metadata": {
    "ExecuteTime": {
     "end_time": "2023-12-01T17:05:39.259256Z",
     "start_time": "2023-12-01T17:05:39.152492Z"
    }
   },
   "outputs": [
    {
     "data": {
      "text/plain": [
       "InvoiceNo      3397\n",
       "StockCode      3397\n",
       "Description    3397\n",
       "Quantity       3397\n",
       "InvoiceDate    3397\n",
       "UnitPrice      3397\n",
       "CustomerID     3383\n",
       "Country        3397\n",
       "Total          3397\n",
       "Max_Spend      3397\n",
       "Min_Spend      3397\n",
       "Mean_Spend     3397\n",
       "dtype: int64"
      ]
     },
     "execution_count": 48,
     "metadata": {},
     "output_type": "execute_result"
    }
   ],
   "source": [
    "df[(df.Total > df.Total.mean()) & (df.Country == 'France')].count()\n"
   ]
  },
  {
   "cell_type": "markdown",
   "id": "1dc7d714-45a5-4bc7-a52e-37abe31bfb1f",
   "metadata": {},
   "source": [
    "## Convert datatype of \"InvoiceDate\" to datetime and assign it to new column name \"InvoiceDate2\"\n",
    "**'InvoiceDate' veri türünü datetime dönüştürün ve yeni 'InvoiceDate2' sütun adına atayın**"
   ]
  },
  {
   "cell_type": "code",
   "execution_count": 49,
   "id": "08bfd539",
   "metadata": {
    "ExecuteTime": {
     "end_time": "2023-12-01T17:05:39.894803Z",
     "start_time": "2023-12-01T17:05:39.262121Z"
    }
   },
   "outputs": [
    {
     "name": "stdout",
     "output_type": "stream",
     "text": [
      "<class 'pandas.core.frame.DataFrame'>\n",
      "RangeIndex: 541909 entries, 0 to 541908\n",
      "Data columns (total 13 columns):\n",
      " #   Column        Non-Null Count   Dtype         \n",
      "---  ------        --------------   -----         \n",
      " 0   InvoiceNo     541909 non-null  object        \n",
      " 1   StockCode     541909 non-null  object        \n",
      " 2   Description   540455 non-null  object        \n",
      " 3   Quantity      541909 non-null  int64         \n",
      " 4   InvoiceDate   541909 non-null  object        \n",
      " 5   UnitPrice     541909 non-null  float64       \n",
      " 6   CustomerID    406829 non-null  float64       \n",
      " 7   Country       541909 non-null  object        \n",
      " 8   Total         541909 non-null  float64       \n",
      " 9   Max_Spend     541909 non-null  float64       \n",
      " 10  Min_Spend     541909 non-null  float64       \n",
      " 11  Mean_Spend    541909 non-null  float64       \n",
      " 12  InvoiceDate2  541909 non-null  datetime64[ns]\n",
      "dtypes: datetime64[ns](1), float64(6), int64(1), object(5)\n",
      "memory usage: 53.7+ MB\n"
     ]
    }
   ],
   "source": [
    "df['InvoiceDate2'] = pd.to_datetime(df.InvoiceDate)\n",
    "df.info()\n",
    "\n",
    "# df['InvoiceDate2'] = df['InvoiceDate'].astype('datetime64')"
   ]
  },
  {
   "cell_type": "markdown",
   "id": "0d58bab8-cab1-4318-9405-6e54a17ac346",
   "metadata": {},
   "source": [
    "## Take only date values (year-month-day) from InvoiceDate2 and assign it to a new column named date\n",
    "**InvoiceDate2'den yalnızca tarih değerlerini (yıl-ay-gün) alın ve bunu date adlı yeni bir sütuna atayın**"
   ]
  },
  {
   "cell_type": "code",
   "execution_count": 51,
   "id": "5ab8b42c",
   "metadata": {
    "ExecuteTime": {
     "end_time": "2023-12-01T17:05:40.104371Z",
     "start_time": "2023-12-01T17:05:39.910974Z"
    }
   },
   "outputs": [
    {
     "data": {
      "text/plain": [
       "0         2010-12-01\n",
       "1         2010-12-01\n",
       "2         2010-12-01\n",
       "3         2010-12-01\n",
       "4         2010-12-01\n",
       "             ...    \n",
       "541904    2011-12-09\n",
       "541905    2011-12-09\n",
       "541906    2011-12-09\n",
       "541907    2011-12-09\n",
       "541908    2011-12-09\n",
       "Name: InvoiceDate2, Length: 541909, dtype: period[D]"
      ]
     },
     "execution_count": 51,
     "metadata": {},
     "output_type": "execute_result"
    }
   ],
   "source": [
    "df[\"InvoiceDate2\"].dt.to_period('D')   # Y - D - M"
   ]
  },
  {
   "cell_type": "code",
   "execution_count": 53,
   "id": "54d7a573-afd0-4437-9bb5-7da2c8d2d0f0",
   "metadata": {},
   "outputs": [
    {
     "data": {
      "text/plain": [
       "0         2010-12\n",
       "1         2010-12\n",
       "2         2010-12\n",
       "3         2010-12\n",
       "4         2010-12\n",
       "           ...   \n",
       "541904    2011-12\n",
       "541905    2011-12\n",
       "541906    2011-12\n",
       "541907    2011-12\n",
       "541908    2011-12\n",
       "Name: InvoiceDate2, Length: 541909, dtype: period[M]"
      ]
     },
     "execution_count": 53,
     "metadata": {},
     "output_type": "execute_result"
    }
   ],
   "source": [
    "df[\"InvoiceDate2\"].dt.to_period(\"M\")"
   ]
  },
  {
   "cell_type": "code",
   "execution_count": 52,
   "id": "988f6da0-f5b3-4c76-b847-6c2b1a0491a2",
   "metadata": {},
   "outputs": [
    {
     "data": {
      "text/plain": [
       "0         2010\n",
       "1         2010\n",
       "2         2010\n",
       "3         2010\n",
       "4         2010\n",
       "          ... \n",
       "541904    2011\n",
       "541905    2011\n",
       "541906    2011\n",
       "541907    2011\n",
       "541908    2011\n",
       "Name: InvoiceDate2, Length: 541909, dtype: period[Y-DEC]"
      ]
     },
     "execution_count": 52,
     "metadata": {},
     "output_type": "execute_result"
    }
   ],
   "source": [
    "df[\"InvoiceDate2\"].dt.to_period(\"Y\")"
   ]
  },
  {
   "cell_type": "code",
   "execution_count": 54,
   "id": "00d715da-c83f-4f64-9b57-09b311284098",
   "metadata": {},
   "outputs": [
    {
     "data": {
      "text/plain": [
       "0         2010-12-01\n",
       "1         2010-12-01\n",
       "2         2010-12-01\n",
       "3         2010-12-01\n",
       "4         2010-12-01\n",
       "             ...    \n",
       "541904    2011-12-09\n",
       "541905    2011-12-09\n",
       "541906    2011-12-09\n",
       "541907    2011-12-09\n",
       "541908    2011-12-09\n",
       "Name: InvoiceDate2, Length: 541909, dtype: period[D]"
      ]
     },
     "execution_count": 54,
     "metadata": {},
     "output_type": "execute_result"
    }
   ],
   "source": [
    "df[\"InvoiceDate2\"].dt.to_period(\"D\")"
   ]
  },
  {
   "cell_type": "code",
   "execution_count": 55,
   "id": "4e4375fe",
   "metadata": {
    "ExecuteTime": {
     "end_time": "2023-12-01T17:05:40.266702Z",
     "start_time": "2023-12-01T17:05:40.107374Z"
    }
   },
   "outputs": [
    {
     "data": {
      "text/html": [
       "<div>\n",
       "<style scoped>\n",
       "    .dataframe tbody tr th:only-of-type {\n",
       "        vertical-align: middle;\n",
       "    }\n",
       "\n",
       "    .dataframe tbody tr th {\n",
       "        vertical-align: top;\n",
       "    }\n",
       "\n",
       "    .dataframe thead th {\n",
       "        text-align: right;\n",
       "    }\n",
       "</style>\n",
       "<table border=\"1\" class=\"dataframe\">\n",
       "  <thead>\n",
       "    <tr style=\"text-align: right;\">\n",
       "      <th></th>\n",
       "      <th>InvoiceNo</th>\n",
       "      <th>StockCode</th>\n",
       "      <th>Description</th>\n",
       "      <th>Quantity</th>\n",
       "      <th>InvoiceDate</th>\n",
       "      <th>UnitPrice</th>\n",
       "      <th>CustomerID</th>\n",
       "      <th>Country</th>\n",
       "      <th>Total</th>\n",
       "      <th>Max_Spend</th>\n",
       "      <th>Min_Spend</th>\n",
       "      <th>Mean_Spend</th>\n",
       "      <th>InvoiceDate2</th>\n",
       "      <th>date</th>\n",
       "    </tr>\n",
       "  </thead>\n",
       "  <tbody>\n",
       "    <tr>\n",
       "      <th>0</th>\n",
       "      <td>536365</td>\n",
       "      <td>85123A</td>\n",
       "      <td>WHITE HANGING HEART T-LIGHT HOLDER</td>\n",
       "      <td>6</td>\n",
       "      <td>12/1/2010 8:26</td>\n",
       "      <td>2.55</td>\n",
       "      <td>17850.0</td>\n",
       "      <td>United Kingdom</td>\n",
       "      <td>15.30</td>\n",
       "      <td>168469.6</td>\n",
       "      <td>-168469.6</td>\n",
       "      <td>16.525065</td>\n",
       "      <td>2010-12-01 08:26:00</td>\n",
       "      <td>2010-12-01</td>\n",
       "    </tr>\n",
       "    <tr>\n",
       "      <th>1</th>\n",
       "      <td>536365</td>\n",
       "      <td>71053</td>\n",
       "      <td>WHITE METAL LANTERN</td>\n",
       "      <td>6</td>\n",
       "      <td>12/1/2010 8:26</td>\n",
       "      <td>3.39</td>\n",
       "      <td>17850.0</td>\n",
       "      <td>United Kingdom</td>\n",
       "      <td>20.34</td>\n",
       "      <td>168469.6</td>\n",
       "      <td>-168469.6</td>\n",
       "      <td>16.525065</td>\n",
       "      <td>2010-12-01 08:26:00</td>\n",
       "      <td>2010-12-01</td>\n",
       "    </tr>\n",
       "    <tr>\n",
       "      <th>2</th>\n",
       "      <td>536365</td>\n",
       "      <td>84406B</td>\n",
       "      <td>CREAM CUPID HEARTS COAT HANGER</td>\n",
       "      <td>8</td>\n",
       "      <td>12/1/2010 8:26</td>\n",
       "      <td>2.75</td>\n",
       "      <td>17850.0</td>\n",
       "      <td>United Kingdom</td>\n",
       "      <td>22.00</td>\n",
       "      <td>168469.6</td>\n",
       "      <td>-168469.6</td>\n",
       "      <td>16.525065</td>\n",
       "      <td>2010-12-01 08:26:00</td>\n",
       "      <td>2010-12-01</td>\n",
       "    </tr>\n",
       "    <tr>\n",
       "      <th>3</th>\n",
       "      <td>536365</td>\n",
       "      <td>84029G</td>\n",
       "      <td>KNITTED UNION FLAG HOT WATER BOTTLE</td>\n",
       "      <td>6</td>\n",
       "      <td>12/1/2010 8:26</td>\n",
       "      <td>3.39</td>\n",
       "      <td>17850.0</td>\n",
       "      <td>United Kingdom</td>\n",
       "      <td>20.34</td>\n",
       "      <td>168469.6</td>\n",
       "      <td>-168469.6</td>\n",
       "      <td>16.525065</td>\n",
       "      <td>2010-12-01 08:26:00</td>\n",
       "      <td>2010-12-01</td>\n",
       "    </tr>\n",
       "    <tr>\n",
       "      <th>4</th>\n",
       "      <td>536365</td>\n",
       "      <td>84029E</td>\n",
       "      <td>RED WOOLLY HOTTIE WHITE HEART.</td>\n",
       "      <td>6</td>\n",
       "      <td>12/1/2010 8:26</td>\n",
       "      <td>3.39</td>\n",
       "      <td>17850.0</td>\n",
       "      <td>United Kingdom</td>\n",
       "      <td>20.34</td>\n",
       "      <td>168469.6</td>\n",
       "      <td>-168469.6</td>\n",
       "      <td>16.525065</td>\n",
       "      <td>2010-12-01 08:26:00</td>\n",
       "      <td>2010-12-01</td>\n",
       "    </tr>\n",
       "  </tbody>\n",
       "</table>\n",
       "</div>"
      ],
      "text/plain": [
       "  InvoiceNo StockCode                          Description  Quantity  \\\n",
       "0    536365    85123A   WHITE HANGING HEART T-LIGHT HOLDER         6   \n",
       "1    536365     71053                  WHITE METAL LANTERN         6   \n",
       "2    536365    84406B       CREAM CUPID HEARTS COAT HANGER         8   \n",
       "3    536365    84029G  KNITTED UNION FLAG HOT WATER BOTTLE         6   \n",
       "4    536365    84029E       RED WOOLLY HOTTIE WHITE HEART.         6   \n",
       "\n",
       "      InvoiceDate  UnitPrice  CustomerID         Country  Total  Max_Spend  \\\n",
       "0  12/1/2010 8:26       2.55     17850.0  United Kingdom  15.30   168469.6   \n",
       "1  12/1/2010 8:26       3.39     17850.0  United Kingdom  20.34   168469.6   \n",
       "2  12/1/2010 8:26       2.75     17850.0  United Kingdom  22.00   168469.6   \n",
       "3  12/1/2010 8:26       3.39     17850.0  United Kingdom  20.34   168469.6   \n",
       "4  12/1/2010 8:26       3.39     17850.0  United Kingdom  20.34   168469.6   \n",
       "\n",
       "   Min_Spend  Mean_Spend        InvoiceDate2        date  \n",
       "0  -168469.6   16.525065 2010-12-01 08:26:00  2010-12-01  \n",
       "1  -168469.6   16.525065 2010-12-01 08:26:00  2010-12-01  \n",
       "2  -168469.6   16.525065 2010-12-01 08:26:00  2010-12-01  \n",
       "3  -168469.6   16.525065 2010-12-01 08:26:00  2010-12-01  \n",
       "4  -168469.6   16.525065 2010-12-01 08:26:00  2010-12-01  "
      ]
     },
     "execution_count": 55,
     "metadata": {},
     "output_type": "execute_result"
    }
   ],
   "source": [
    "df['date'] = df[\"InvoiceDate2\"].dt.to_period(\"D\")\n",
    "\n",
    "df.head()"
   ]
  },
  {
   "cell_type": "markdown",
   "id": "add060d3-6cca-47eb-8a48-2b9f33227130",
   "metadata": {},
   "source": [
    "## Drop \"InvoiceDate2\" and \"InvoiceDate\" columns permanently"
   ]
  },
  {
   "cell_type": "code",
   "execution_count": 56,
   "id": "d46a5d5e",
   "metadata": {
    "ExecuteTime": {
     "end_time": "2023-12-01T17:05:40.389392Z",
     "start_time": "2023-12-01T17:05:40.287426Z"
    }
   },
   "outputs": [
    {
     "data": {
      "text/html": [
       "<div>\n",
       "<style scoped>\n",
       "    .dataframe tbody tr th:only-of-type {\n",
       "        vertical-align: middle;\n",
       "    }\n",
       "\n",
       "    .dataframe tbody tr th {\n",
       "        vertical-align: top;\n",
       "    }\n",
       "\n",
       "    .dataframe thead th {\n",
       "        text-align: right;\n",
       "    }\n",
       "</style>\n",
       "<table border=\"1\" class=\"dataframe\">\n",
       "  <thead>\n",
       "    <tr style=\"text-align: right;\">\n",
       "      <th></th>\n",
       "      <th>InvoiceNo</th>\n",
       "      <th>StockCode</th>\n",
       "      <th>Description</th>\n",
       "      <th>Quantity</th>\n",
       "      <th>UnitPrice</th>\n",
       "      <th>CustomerID</th>\n",
       "      <th>Country</th>\n",
       "      <th>Total</th>\n",
       "      <th>Max_Spend</th>\n",
       "      <th>Min_Spend</th>\n",
       "      <th>Mean_Spend</th>\n",
       "      <th>date</th>\n",
       "    </tr>\n",
       "  </thead>\n",
       "  <tbody>\n",
       "    <tr>\n",
       "      <th>0</th>\n",
       "      <td>536365</td>\n",
       "      <td>85123A</td>\n",
       "      <td>WHITE HANGING HEART T-LIGHT HOLDER</td>\n",
       "      <td>6</td>\n",
       "      <td>2.55</td>\n",
       "      <td>17850.0</td>\n",
       "      <td>United Kingdom</td>\n",
       "      <td>15.30</td>\n",
       "      <td>168469.6</td>\n",
       "      <td>-168469.6</td>\n",
       "      <td>16.525065</td>\n",
       "      <td>2010-12-01</td>\n",
       "    </tr>\n",
       "    <tr>\n",
       "      <th>1</th>\n",
       "      <td>536365</td>\n",
       "      <td>71053</td>\n",
       "      <td>WHITE METAL LANTERN</td>\n",
       "      <td>6</td>\n",
       "      <td>3.39</td>\n",
       "      <td>17850.0</td>\n",
       "      <td>United Kingdom</td>\n",
       "      <td>20.34</td>\n",
       "      <td>168469.6</td>\n",
       "      <td>-168469.6</td>\n",
       "      <td>16.525065</td>\n",
       "      <td>2010-12-01</td>\n",
       "    </tr>\n",
       "    <tr>\n",
       "      <th>2</th>\n",
       "      <td>536365</td>\n",
       "      <td>84406B</td>\n",
       "      <td>CREAM CUPID HEARTS COAT HANGER</td>\n",
       "      <td>8</td>\n",
       "      <td>2.75</td>\n",
       "      <td>17850.0</td>\n",
       "      <td>United Kingdom</td>\n",
       "      <td>22.00</td>\n",
       "      <td>168469.6</td>\n",
       "      <td>-168469.6</td>\n",
       "      <td>16.525065</td>\n",
       "      <td>2010-12-01</td>\n",
       "    </tr>\n",
       "    <tr>\n",
       "      <th>3</th>\n",
       "      <td>536365</td>\n",
       "      <td>84029G</td>\n",
       "      <td>KNITTED UNION FLAG HOT WATER BOTTLE</td>\n",
       "      <td>6</td>\n",
       "      <td>3.39</td>\n",
       "      <td>17850.0</td>\n",
       "      <td>United Kingdom</td>\n",
       "      <td>20.34</td>\n",
       "      <td>168469.6</td>\n",
       "      <td>-168469.6</td>\n",
       "      <td>16.525065</td>\n",
       "      <td>2010-12-01</td>\n",
       "    </tr>\n",
       "    <tr>\n",
       "      <th>4</th>\n",
       "      <td>536365</td>\n",
       "      <td>84029E</td>\n",
       "      <td>RED WOOLLY HOTTIE WHITE HEART.</td>\n",
       "      <td>6</td>\n",
       "      <td>3.39</td>\n",
       "      <td>17850.0</td>\n",
       "      <td>United Kingdom</td>\n",
       "      <td>20.34</td>\n",
       "      <td>168469.6</td>\n",
       "      <td>-168469.6</td>\n",
       "      <td>16.525065</td>\n",
       "      <td>2010-12-01</td>\n",
       "    </tr>\n",
       "  </tbody>\n",
       "</table>\n",
       "</div>"
      ],
      "text/plain": [
       "  InvoiceNo StockCode                          Description  Quantity  \\\n",
       "0    536365    85123A   WHITE HANGING HEART T-LIGHT HOLDER         6   \n",
       "1    536365     71053                  WHITE METAL LANTERN         6   \n",
       "2    536365    84406B       CREAM CUPID HEARTS COAT HANGER         8   \n",
       "3    536365    84029G  KNITTED UNION FLAG HOT WATER BOTTLE         6   \n",
       "4    536365    84029E       RED WOOLLY HOTTIE WHITE HEART.         6   \n",
       "\n",
       "   UnitPrice  CustomerID         Country  Total  Max_Spend  Min_Spend  \\\n",
       "0       2.55     17850.0  United Kingdom  15.30   168469.6  -168469.6   \n",
       "1       3.39     17850.0  United Kingdom  20.34   168469.6  -168469.6   \n",
       "2       2.75     17850.0  United Kingdom  22.00   168469.6  -168469.6   \n",
       "3       3.39     17850.0  United Kingdom  20.34   168469.6  -168469.6   \n",
       "4       3.39     17850.0  United Kingdom  20.34   168469.6  -168469.6   \n",
       "\n",
       "   Mean_Spend        date  \n",
       "0   16.525065  2010-12-01  \n",
       "1   16.525065  2010-12-01  \n",
       "2   16.525065  2010-12-01  \n",
       "3   16.525065  2010-12-01  \n",
       "4   16.525065  2010-12-01  "
      ]
     },
     "execution_count": 56,
     "metadata": {},
     "output_type": "execute_result"
    }
   ],
   "source": [
    "df.drop(['InvoiceDate2', 'InvoiceDate'], axis=1, inplace=True)\n",
    "df.head()\n",
    "\n",
    "# df.drop(df.columns[[4, 12]], axis=1, inplace=True)\n",
    "# df.head()"
   ]
  },
  {
   "cell_type": "markdown",
   "id": "874129d8-fe2e-41c7-aaa5-6e7578a8d6ad",
   "metadata": {},
   "source": [
    "## Remove A, B, G and E characters at the first 5 rows of \"StockCode\" in ecom dataframe with a string method"
   ]
  },
  {
   "cell_type": "markdown",
   "id": "8131b816",
   "metadata": {},
   "source": [
    "**StockCode' un ilk 5 satırındaki A, B, G ve E karakterlerini string yöntemiyle kaldırın**"
   ]
  },
  {
   "cell_type": "code",
   "execution_count": 57,
   "id": "2e982624-97ba-42d2-8215-70e2ce2d1eec",
   "metadata": {},
   "outputs": [
    {
     "name": "stdout",
     "output_type": "stream",
     "text": [
      "<class 'pandas.core.frame.DataFrame'>\n",
      "RangeIndex: 541909 entries, 0 to 541908\n",
      "Data columns (total 12 columns):\n",
      " #   Column       Non-Null Count   Dtype    \n",
      "---  ------       --------------   -----    \n",
      " 0   InvoiceNo    541909 non-null  object   \n",
      " 1   StockCode    541909 non-null  object   \n",
      " 2   Description  540455 non-null  object   \n",
      " 3   Quantity     541909 non-null  int64    \n",
      " 4   UnitPrice    541909 non-null  float64  \n",
      " 5   CustomerID   406829 non-null  float64  \n",
      " 6   Country      541909 non-null  object   \n",
      " 7   Total        541909 non-null  float64  \n",
      " 8   Max_Spend    541909 non-null  float64  \n",
      " 9   Min_Spend    541909 non-null  float64  \n",
      " 10  Mean_Spend   541909 non-null  float64  \n",
      " 11  date         541909 non-null  period[D]\n",
      "dtypes: float64(6), int64(1), object(4), period[D](1)\n",
      "memory usage: 49.6+ MB\n"
     ]
    }
   ],
   "source": [
    "df.info()"
   ]
  },
  {
   "cell_type": "code",
   "execution_count": 58,
   "id": "3d919fdd",
   "metadata": {
    "ExecuteTime": {
     "end_time": "2023-12-01T17:05:40.422727Z",
     "start_time": "2023-12-01T17:05:40.392394Z"
    }
   },
   "outputs": [
    {
     "data": {
      "text/html": [
       "<div>\n",
       "<style scoped>\n",
       "    .dataframe tbody tr th:only-of-type {\n",
       "        vertical-align: middle;\n",
       "    }\n",
       "\n",
       "    .dataframe tbody tr th {\n",
       "        vertical-align: top;\n",
       "    }\n",
       "\n",
       "    .dataframe thead th {\n",
       "        text-align: right;\n",
       "    }\n",
       "</style>\n",
       "<table border=\"1\" class=\"dataframe\">\n",
       "  <thead>\n",
       "    <tr style=\"text-align: right;\">\n",
       "      <th></th>\n",
       "      <th>InvoiceNo</th>\n",
       "      <th>StockCode</th>\n",
       "      <th>Description</th>\n",
       "      <th>Quantity</th>\n",
       "      <th>UnitPrice</th>\n",
       "      <th>CustomerID</th>\n",
       "      <th>Country</th>\n",
       "      <th>Total</th>\n",
       "      <th>Max_Spend</th>\n",
       "      <th>Min_Spend</th>\n",
       "      <th>Mean_Spend</th>\n",
       "      <th>date</th>\n",
       "    </tr>\n",
       "  </thead>\n",
       "  <tbody>\n",
       "    <tr>\n",
       "      <th>0</th>\n",
       "      <td>536365</td>\n",
       "      <td>85123A</td>\n",
       "      <td>WHITE HANGING HEART T-LIGHT HOLDER</td>\n",
       "      <td>6</td>\n",
       "      <td>2.55</td>\n",
       "      <td>17850.0</td>\n",
       "      <td>United Kingdom</td>\n",
       "      <td>15.30</td>\n",
       "      <td>168469.6</td>\n",
       "      <td>-168469.6</td>\n",
       "      <td>16.525065</td>\n",
       "      <td>2010-12-01</td>\n",
       "    </tr>\n",
       "    <tr>\n",
       "      <th>1</th>\n",
       "      <td>536365</td>\n",
       "      <td>71053</td>\n",
       "      <td>WHITE METAL LANTERN</td>\n",
       "      <td>6</td>\n",
       "      <td>3.39</td>\n",
       "      <td>17850.0</td>\n",
       "      <td>United Kingdom</td>\n",
       "      <td>20.34</td>\n",
       "      <td>168469.6</td>\n",
       "      <td>-168469.6</td>\n",
       "      <td>16.525065</td>\n",
       "      <td>2010-12-01</td>\n",
       "    </tr>\n",
       "    <tr>\n",
       "      <th>2</th>\n",
       "      <td>536365</td>\n",
       "      <td>84406B</td>\n",
       "      <td>CREAM CUPID HEARTS COAT HANGER</td>\n",
       "      <td>8</td>\n",
       "      <td>2.75</td>\n",
       "      <td>17850.0</td>\n",
       "      <td>United Kingdom</td>\n",
       "      <td>22.00</td>\n",
       "      <td>168469.6</td>\n",
       "      <td>-168469.6</td>\n",
       "      <td>16.525065</td>\n",
       "      <td>2010-12-01</td>\n",
       "    </tr>\n",
       "    <tr>\n",
       "      <th>3</th>\n",
       "      <td>536365</td>\n",
       "      <td>84029G</td>\n",
       "      <td>KNITTED UNION FLAG HOT WATER BOTTLE</td>\n",
       "      <td>6</td>\n",
       "      <td>3.39</td>\n",
       "      <td>17850.0</td>\n",
       "      <td>United Kingdom</td>\n",
       "      <td>20.34</td>\n",
       "      <td>168469.6</td>\n",
       "      <td>-168469.6</td>\n",
       "      <td>16.525065</td>\n",
       "      <td>2010-12-01</td>\n",
       "    </tr>\n",
       "    <tr>\n",
       "      <th>4</th>\n",
       "      <td>536365</td>\n",
       "      <td>84029E</td>\n",
       "      <td>RED WOOLLY HOTTIE WHITE HEART.</td>\n",
       "      <td>6</td>\n",
       "      <td>3.39</td>\n",
       "      <td>17850.0</td>\n",
       "      <td>United Kingdom</td>\n",
       "      <td>20.34</td>\n",
       "      <td>168469.6</td>\n",
       "      <td>-168469.6</td>\n",
       "      <td>16.525065</td>\n",
       "      <td>2010-12-01</td>\n",
       "    </tr>\n",
       "  </tbody>\n",
       "</table>\n",
       "</div>"
      ],
      "text/plain": [
       "  InvoiceNo StockCode                          Description  Quantity  \\\n",
       "0    536365    85123A   WHITE HANGING HEART T-LIGHT HOLDER         6   \n",
       "1    536365     71053                  WHITE METAL LANTERN         6   \n",
       "2    536365    84406B       CREAM CUPID HEARTS COAT HANGER         8   \n",
       "3    536365    84029G  KNITTED UNION FLAG HOT WATER BOTTLE         6   \n",
       "4    536365    84029E       RED WOOLLY HOTTIE WHITE HEART.         6   \n",
       "\n",
       "   UnitPrice  CustomerID         Country  Total  Max_Spend  Min_Spend  \\\n",
       "0       2.55     17850.0  United Kingdom  15.30   168469.6  -168469.6   \n",
       "1       3.39     17850.0  United Kingdom  20.34   168469.6  -168469.6   \n",
       "2       2.75     17850.0  United Kingdom  22.00   168469.6  -168469.6   \n",
       "3       3.39     17850.0  United Kingdom  20.34   168469.6  -168469.6   \n",
       "4       3.39     17850.0  United Kingdom  20.34   168469.6  -168469.6   \n",
       "\n",
       "   Mean_Spend        date  \n",
       "0   16.525065  2010-12-01  \n",
       "1   16.525065  2010-12-01  \n",
       "2   16.525065  2010-12-01  \n",
       "3   16.525065  2010-12-01  \n",
       "4   16.525065  2010-12-01  "
      ]
     },
     "execution_count": 58,
     "metadata": {},
     "output_type": "execute_result"
    }
   ],
   "source": [
    "df.head()"
   ]
  },
  {
   "cell_type": "code",
   "execution_count": 59,
   "id": "7ecab924",
   "metadata": {
    "ExecuteTime": {
     "end_time": "2023-12-01T17:05:40.729223Z",
     "start_time": "2023-12-01T17:05:40.424730Z"
    }
   },
   "outputs": [
    {
     "data": {
      "text/plain": [
       "0    85123A\n",
       "1     71053\n",
       "2    84406B\n",
       "3    84029G\n",
       "4    84029E\n",
       "Name: StockCode, dtype: object"
      ]
     },
     "execution_count": 59,
     "metadata": {},
     "output_type": "execute_result"
    }
   ],
   "source": [
    "df[\"StockCode\"].str.replace(\"[A,B,G,E]\", \"\").head()"
   ]
  },
  {
   "cell_type": "code",
   "execution_count": 64,
   "id": "706d0789-97a1-46fd-b075-0496a3b521d2",
   "metadata": {},
   "outputs": [
    {
     "data": {
      "text/plain": [
       "0    85123\n",
       "1    71053\n",
       "2    84406\n",
       "3    84029\n",
       "4    84029\n",
       "Name: StockCode, dtype: object"
      ]
     },
     "execution_count": 64,
     "metadata": {},
     "output_type": "execute_result"
    }
   ],
   "source": [
    "df[\"StockCode\"].str.replace(\"[ABGE]\", \"\", regex=True).head()"
   ]
  },
  {
   "cell_type": "markdown",
   "id": "3d99138b-91e6-4d19-9195-1f384a68063b",
   "metadata": {},
   "source": [
    "## Take only \"Total\" and \"date\" columns with loc and craete a new df named df2"
   ]
  },
  {
   "cell_type": "markdown",
   "id": "8b53c29d",
   "metadata": {},
   "source": [
    "**'Total' ve 'date' sütunlarını loc ile alın ve df2 adlı yeni bir df oluşturun**"
   ]
  },
  {
   "cell_type": "code",
   "execution_count": 72,
   "id": "79b95d6b",
   "metadata": {
    "ExecuteTime": {
     "end_time": "2023-12-01T17:05:40.766162Z",
     "start_time": "2023-12-01T17:05:40.736827Z"
    }
   },
   "outputs": [
    {
     "data": {
      "text/html": [
       "<div>\n",
       "<style scoped>\n",
       "    .dataframe tbody tr th:only-of-type {\n",
       "        vertical-align: middle;\n",
       "    }\n",
       "\n",
       "    .dataframe tbody tr th {\n",
       "        vertical-align: top;\n",
       "    }\n",
       "\n",
       "    .dataframe thead th {\n",
       "        text-align: right;\n",
       "    }\n",
       "</style>\n",
       "<table border=\"1\" class=\"dataframe\">\n",
       "  <thead>\n",
       "    <tr style=\"text-align: right;\">\n",
       "      <th></th>\n",
       "      <th>Total</th>\n",
       "      <th>date</th>\n",
       "    </tr>\n",
       "  </thead>\n",
       "  <tbody>\n",
       "    <tr>\n",
       "      <th>0</th>\n",
       "      <td>15.30</td>\n",
       "      <td>2010-12-01</td>\n",
       "    </tr>\n",
       "    <tr>\n",
       "      <th>1</th>\n",
       "      <td>20.34</td>\n",
       "      <td>2010-12-01</td>\n",
       "    </tr>\n",
       "    <tr>\n",
       "      <th>2</th>\n",
       "      <td>22.00</td>\n",
       "      <td>2010-12-01</td>\n",
       "    </tr>\n",
       "    <tr>\n",
       "      <th>3</th>\n",
       "      <td>20.34</td>\n",
       "      <td>2010-12-01</td>\n",
       "    </tr>\n",
       "    <tr>\n",
       "      <th>4</th>\n",
       "      <td>20.34</td>\n",
       "      <td>2010-12-01</td>\n",
       "    </tr>\n",
       "    <tr>\n",
       "      <th>...</th>\n",
       "      <td>...</td>\n",
       "      <td>...</td>\n",
       "    </tr>\n",
       "    <tr>\n",
       "      <th>541904</th>\n",
       "      <td>10.20</td>\n",
       "      <td>2011-12-09</td>\n",
       "    </tr>\n",
       "    <tr>\n",
       "      <th>541905</th>\n",
       "      <td>12.60</td>\n",
       "      <td>2011-12-09</td>\n",
       "    </tr>\n",
       "    <tr>\n",
       "      <th>541906</th>\n",
       "      <td>16.60</td>\n",
       "      <td>2011-12-09</td>\n",
       "    </tr>\n",
       "    <tr>\n",
       "      <th>541907</th>\n",
       "      <td>16.60</td>\n",
       "      <td>2011-12-09</td>\n",
       "    </tr>\n",
       "    <tr>\n",
       "      <th>541908</th>\n",
       "      <td>14.85</td>\n",
       "      <td>2011-12-09</td>\n",
       "    </tr>\n",
       "  </tbody>\n",
       "</table>\n",
       "<p>541909 rows × 2 columns</p>\n",
       "</div>"
      ],
      "text/plain": [
       "        Total        date\n",
       "0       15.30  2010-12-01\n",
       "1       20.34  2010-12-01\n",
       "2       22.00  2010-12-01\n",
       "3       20.34  2010-12-01\n",
       "4       20.34  2010-12-01\n",
       "...       ...         ...\n",
       "541904  10.20  2011-12-09\n",
       "541905  12.60  2011-12-09\n",
       "541906  16.60  2011-12-09\n",
       "541907  16.60  2011-12-09\n",
       "541908  14.85  2011-12-09\n",
       "\n",
       "[541909 rows x 2 columns]"
      ]
     },
     "execution_count": 72,
     "metadata": {},
     "output_type": "execute_result"
    }
   ],
   "source": [
    "df2 = df.loc[:, [\"Total\", \"date\"]]\n",
    "df2"
   ]
  },
  {
   "cell_type": "markdown",
   "id": "711455fa",
   "metadata": {},
   "source": [
    "## Take only \"InvoiceNo\", \"CustomerID\" and \"Total\" columns with iloc and craete a new df named df3\n",
    "\n",
    "**iloc ile yalnızca 'InvoiceNo', 'CustomerID' ve 'Total' sütunlarını alın ve df3 adında yeni bir df oluşturun**"
   ]
  },
  {
   "cell_type": "code",
   "execution_count": 73,
   "id": "3e5936e4",
   "metadata": {
    "ExecuteTime": {
     "end_time": "2023-12-01T17:05:40.793995Z",
     "start_time": "2023-12-01T17:05:40.766162Z"
    }
   },
   "outputs": [
    {
     "data": {
      "text/html": [
       "<div>\n",
       "<style scoped>\n",
       "    .dataframe tbody tr th:only-of-type {\n",
       "        vertical-align: middle;\n",
       "    }\n",
       "\n",
       "    .dataframe tbody tr th {\n",
       "        vertical-align: top;\n",
       "    }\n",
       "\n",
       "    .dataframe thead th {\n",
       "        text-align: right;\n",
       "    }\n",
       "</style>\n",
       "<table border=\"1\" class=\"dataframe\">\n",
       "  <thead>\n",
       "    <tr style=\"text-align: right;\">\n",
       "      <th></th>\n",
       "      <th>InvoiceNo</th>\n",
       "      <th>StockCode</th>\n",
       "      <th>Description</th>\n",
       "      <th>Quantity</th>\n",
       "      <th>UnitPrice</th>\n",
       "      <th>CustomerID</th>\n",
       "      <th>Country</th>\n",
       "      <th>Total</th>\n",
       "      <th>Max_Spend</th>\n",
       "      <th>Min_Spend</th>\n",
       "      <th>Mean_Spend</th>\n",
       "      <th>date</th>\n",
       "    </tr>\n",
       "  </thead>\n",
       "  <tbody>\n",
       "    <tr>\n",
       "      <th>0</th>\n",
       "      <td>536365</td>\n",
       "      <td>85123A</td>\n",
       "      <td>WHITE HANGING HEART T-LIGHT HOLDER</td>\n",
       "      <td>6</td>\n",
       "      <td>2.55</td>\n",
       "      <td>17850.0</td>\n",
       "      <td>United Kingdom</td>\n",
       "      <td>15.30</td>\n",
       "      <td>168469.6</td>\n",
       "      <td>-168469.6</td>\n",
       "      <td>16.525065</td>\n",
       "      <td>2010-12-01</td>\n",
       "    </tr>\n",
       "    <tr>\n",
       "      <th>1</th>\n",
       "      <td>536365</td>\n",
       "      <td>71053</td>\n",
       "      <td>WHITE METAL LANTERN</td>\n",
       "      <td>6</td>\n",
       "      <td>3.39</td>\n",
       "      <td>17850.0</td>\n",
       "      <td>United Kingdom</td>\n",
       "      <td>20.34</td>\n",
       "      <td>168469.6</td>\n",
       "      <td>-168469.6</td>\n",
       "      <td>16.525065</td>\n",
       "      <td>2010-12-01</td>\n",
       "    </tr>\n",
       "    <tr>\n",
       "      <th>2</th>\n",
       "      <td>536365</td>\n",
       "      <td>84406B</td>\n",
       "      <td>CREAM CUPID HEARTS COAT HANGER</td>\n",
       "      <td>8</td>\n",
       "      <td>2.75</td>\n",
       "      <td>17850.0</td>\n",
       "      <td>United Kingdom</td>\n",
       "      <td>22.00</td>\n",
       "      <td>168469.6</td>\n",
       "      <td>-168469.6</td>\n",
       "      <td>16.525065</td>\n",
       "      <td>2010-12-01</td>\n",
       "    </tr>\n",
       "    <tr>\n",
       "      <th>3</th>\n",
       "      <td>536365</td>\n",
       "      <td>84029G</td>\n",
       "      <td>KNITTED UNION FLAG HOT WATER BOTTLE</td>\n",
       "      <td>6</td>\n",
       "      <td>3.39</td>\n",
       "      <td>17850.0</td>\n",
       "      <td>United Kingdom</td>\n",
       "      <td>20.34</td>\n",
       "      <td>168469.6</td>\n",
       "      <td>-168469.6</td>\n",
       "      <td>16.525065</td>\n",
       "      <td>2010-12-01</td>\n",
       "    </tr>\n",
       "    <tr>\n",
       "      <th>4</th>\n",
       "      <td>536365</td>\n",
       "      <td>84029E</td>\n",
       "      <td>RED WOOLLY HOTTIE WHITE HEART.</td>\n",
       "      <td>6</td>\n",
       "      <td>3.39</td>\n",
       "      <td>17850.0</td>\n",
       "      <td>United Kingdom</td>\n",
       "      <td>20.34</td>\n",
       "      <td>168469.6</td>\n",
       "      <td>-168469.6</td>\n",
       "      <td>16.525065</td>\n",
       "      <td>2010-12-01</td>\n",
       "    </tr>\n",
       "  </tbody>\n",
       "</table>\n",
       "</div>"
      ],
      "text/plain": [
       "  InvoiceNo StockCode                          Description  Quantity  \\\n",
       "0    536365    85123A   WHITE HANGING HEART T-LIGHT HOLDER         6   \n",
       "1    536365     71053                  WHITE METAL LANTERN         6   \n",
       "2    536365    84406B       CREAM CUPID HEARTS COAT HANGER         8   \n",
       "3    536365    84029G  KNITTED UNION FLAG HOT WATER BOTTLE         6   \n",
       "4    536365    84029E       RED WOOLLY HOTTIE WHITE HEART.         6   \n",
       "\n",
       "   UnitPrice  CustomerID         Country  Total  Max_Spend  Min_Spend  \\\n",
       "0       2.55     17850.0  United Kingdom  15.30   168469.6  -168469.6   \n",
       "1       3.39     17850.0  United Kingdom  20.34   168469.6  -168469.6   \n",
       "2       2.75     17850.0  United Kingdom  22.00   168469.6  -168469.6   \n",
       "3       3.39     17850.0  United Kingdom  20.34   168469.6  -168469.6   \n",
       "4       3.39     17850.0  United Kingdom  20.34   168469.6  -168469.6   \n",
       "\n",
       "   Mean_Spend        date  \n",
       "0   16.525065  2010-12-01  \n",
       "1   16.525065  2010-12-01  \n",
       "2   16.525065  2010-12-01  \n",
       "3   16.525065  2010-12-01  \n",
       "4   16.525065  2010-12-01  "
      ]
     },
     "execution_count": 73,
     "metadata": {},
     "output_type": "execute_result"
    }
   ],
   "source": [
    "df.head()"
   ]
  },
  {
   "cell_type": "code",
   "execution_count": 74,
   "id": "291bec6f",
   "metadata": {
    "ExecuteTime": {
     "end_time": "2023-12-01T17:05:40.829264Z",
     "start_time": "2023-12-01T17:05:40.797996Z"
    }
   },
   "outputs": [
    {
     "data": {
      "text/html": [
       "<div>\n",
       "<style scoped>\n",
       "    .dataframe tbody tr th:only-of-type {\n",
       "        vertical-align: middle;\n",
       "    }\n",
       "\n",
       "    .dataframe tbody tr th {\n",
       "        vertical-align: top;\n",
       "    }\n",
       "\n",
       "    .dataframe thead th {\n",
       "        text-align: right;\n",
       "    }\n",
       "</style>\n",
       "<table border=\"1\" class=\"dataframe\">\n",
       "  <thead>\n",
       "    <tr style=\"text-align: right;\">\n",
       "      <th></th>\n",
       "      <th>InvoiceNo</th>\n",
       "      <th>CustomerID</th>\n",
       "      <th>Total</th>\n",
       "    </tr>\n",
       "  </thead>\n",
       "  <tbody>\n",
       "    <tr>\n",
       "      <th>0</th>\n",
       "      <td>536365</td>\n",
       "      <td>17850.0</td>\n",
       "      <td>15.30</td>\n",
       "    </tr>\n",
       "    <tr>\n",
       "      <th>1</th>\n",
       "      <td>536365</td>\n",
       "      <td>17850.0</td>\n",
       "      <td>20.34</td>\n",
       "    </tr>\n",
       "    <tr>\n",
       "      <th>2</th>\n",
       "      <td>536365</td>\n",
       "      <td>17850.0</td>\n",
       "      <td>22.00</td>\n",
       "    </tr>\n",
       "    <tr>\n",
       "      <th>3</th>\n",
       "      <td>536365</td>\n",
       "      <td>17850.0</td>\n",
       "      <td>20.34</td>\n",
       "    </tr>\n",
       "    <tr>\n",
       "      <th>4</th>\n",
       "      <td>536365</td>\n",
       "      <td>17850.0</td>\n",
       "      <td>20.34</td>\n",
       "    </tr>\n",
       "    <tr>\n",
       "      <th>...</th>\n",
       "      <td>...</td>\n",
       "      <td>...</td>\n",
       "      <td>...</td>\n",
       "    </tr>\n",
       "    <tr>\n",
       "      <th>541904</th>\n",
       "      <td>581587</td>\n",
       "      <td>12680.0</td>\n",
       "      <td>10.20</td>\n",
       "    </tr>\n",
       "    <tr>\n",
       "      <th>541905</th>\n",
       "      <td>581587</td>\n",
       "      <td>12680.0</td>\n",
       "      <td>12.60</td>\n",
       "    </tr>\n",
       "    <tr>\n",
       "      <th>541906</th>\n",
       "      <td>581587</td>\n",
       "      <td>12680.0</td>\n",
       "      <td>16.60</td>\n",
       "    </tr>\n",
       "    <tr>\n",
       "      <th>541907</th>\n",
       "      <td>581587</td>\n",
       "      <td>12680.0</td>\n",
       "      <td>16.60</td>\n",
       "    </tr>\n",
       "    <tr>\n",
       "      <th>541908</th>\n",
       "      <td>581587</td>\n",
       "      <td>12680.0</td>\n",
       "      <td>14.85</td>\n",
       "    </tr>\n",
       "  </tbody>\n",
       "</table>\n",
       "<p>541909 rows × 3 columns</p>\n",
       "</div>"
      ],
      "text/plain": [
       "       InvoiceNo  CustomerID  Total\n",
       "0         536365     17850.0  15.30\n",
       "1         536365     17850.0  20.34\n",
       "2         536365     17850.0  22.00\n",
       "3         536365     17850.0  20.34\n",
       "4         536365     17850.0  20.34\n",
       "...          ...         ...    ...\n",
       "541904    581587     12680.0  10.20\n",
       "541905    581587     12680.0  12.60\n",
       "541906    581587     12680.0  16.60\n",
       "541907    581587     12680.0  16.60\n",
       "541908    581587     12680.0  14.85\n",
       "\n",
       "[541909 rows x 3 columns]"
      ]
     },
     "execution_count": 74,
     "metadata": {},
     "output_type": "execute_result"
    }
   ],
   "source": [
    "df3 = df.iloc[:, [0,5,7]]\n",
    "df3"
   ]
  },
  {
   "cell_type": "markdown",
   "id": "1a8dc1bd",
   "metadata": {},
   "source": [
    "## Combine \"df2\" and \"df3\" with concat() method"
   ]
  },
  {
   "cell_type": "code",
   "execution_count": 75,
   "id": "63cb1050",
   "metadata": {
    "ExecuteTime": {
     "end_time": "2023-12-01T17:05:40.865356Z",
     "start_time": "2023-12-01T17:05:40.829520Z"
    }
   },
   "outputs": [
    {
     "data": {
      "text/html": [
       "<div>\n",
       "<style scoped>\n",
       "    .dataframe tbody tr th:only-of-type {\n",
       "        vertical-align: middle;\n",
       "    }\n",
       "\n",
       "    .dataframe tbody tr th {\n",
       "        vertical-align: top;\n",
       "    }\n",
       "\n",
       "    .dataframe thead th {\n",
       "        text-align: right;\n",
       "    }\n",
       "</style>\n",
       "<table border=\"1\" class=\"dataframe\">\n",
       "  <thead>\n",
       "    <tr style=\"text-align: right;\">\n",
       "      <th></th>\n",
       "      <th>Total</th>\n",
       "      <th>date</th>\n",
       "      <th>InvoiceNo</th>\n",
       "      <th>CustomerID</th>\n",
       "      <th>Total</th>\n",
       "    </tr>\n",
       "  </thead>\n",
       "  <tbody>\n",
       "    <tr>\n",
       "      <th>0</th>\n",
       "      <td>15.30</td>\n",
       "      <td>2010-12-01</td>\n",
       "      <td>536365</td>\n",
       "      <td>17850.0</td>\n",
       "      <td>15.30</td>\n",
       "    </tr>\n",
       "    <tr>\n",
       "      <th>1</th>\n",
       "      <td>20.34</td>\n",
       "      <td>2010-12-01</td>\n",
       "      <td>536365</td>\n",
       "      <td>17850.0</td>\n",
       "      <td>20.34</td>\n",
       "    </tr>\n",
       "    <tr>\n",
       "      <th>2</th>\n",
       "      <td>22.00</td>\n",
       "      <td>2010-12-01</td>\n",
       "      <td>536365</td>\n",
       "      <td>17850.0</td>\n",
       "      <td>22.00</td>\n",
       "    </tr>\n",
       "    <tr>\n",
       "      <th>3</th>\n",
       "      <td>20.34</td>\n",
       "      <td>2010-12-01</td>\n",
       "      <td>536365</td>\n",
       "      <td>17850.0</td>\n",
       "      <td>20.34</td>\n",
       "    </tr>\n",
       "    <tr>\n",
       "      <th>4</th>\n",
       "      <td>20.34</td>\n",
       "      <td>2010-12-01</td>\n",
       "      <td>536365</td>\n",
       "      <td>17850.0</td>\n",
       "      <td>20.34</td>\n",
       "    </tr>\n",
       "    <tr>\n",
       "      <th>...</th>\n",
       "      <td>...</td>\n",
       "      <td>...</td>\n",
       "      <td>...</td>\n",
       "      <td>...</td>\n",
       "      <td>...</td>\n",
       "    </tr>\n",
       "    <tr>\n",
       "      <th>541904</th>\n",
       "      <td>10.20</td>\n",
       "      <td>2011-12-09</td>\n",
       "      <td>581587</td>\n",
       "      <td>12680.0</td>\n",
       "      <td>10.20</td>\n",
       "    </tr>\n",
       "    <tr>\n",
       "      <th>541905</th>\n",
       "      <td>12.60</td>\n",
       "      <td>2011-12-09</td>\n",
       "      <td>581587</td>\n",
       "      <td>12680.0</td>\n",
       "      <td>12.60</td>\n",
       "    </tr>\n",
       "    <tr>\n",
       "      <th>541906</th>\n",
       "      <td>16.60</td>\n",
       "      <td>2011-12-09</td>\n",
       "      <td>581587</td>\n",
       "      <td>12680.0</td>\n",
       "      <td>16.60</td>\n",
       "    </tr>\n",
       "    <tr>\n",
       "      <th>541907</th>\n",
       "      <td>16.60</td>\n",
       "      <td>2011-12-09</td>\n",
       "      <td>581587</td>\n",
       "      <td>12680.0</td>\n",
       "      <td>16.60</td>\n",
       "    </tr>\n",
       "    <tr>\n",
       "      <th>541908</th>\n",
       "      <td>14.85</td>\n",
       "      <td>2011-12-09</td>\n",
       "      <td>581587</td>\n",
       "      <td>12680.0</td>\n",
       "      <td>14.85</td>\n",
       "    </tr>\n",
       "  </tbody>\n",
       "</table>\n",
       "<p>541909 rows × 5 columns</p>\n",
       "</div>"
      ],
      "text/plain": [
       "        Total        date InvoiceNo  CustomerID  Total\n",
       "0       15.30  2010-12-01    536365     17850.0  15.30\n",
       "1       20.34  2010-12-01    536365     17850.0  20.34\n",
       "2       22.00  2010-12-01    536365     17850.0  22.00\n",
       "3       20.34  2010-12-01    536365     17850.0  20.34\n",
       "4       20.34  2010-12-01    536365     17850.0  20.34\n",
       "...       ...         ...       ...         ...    ...\n",
       "541904  10.20  2011-12-09    581587     12680.0  10.20\n",
       "541905  12.60  2011-12-09    581587     12680.0  12.60\n",
       "541906  16.60  2011-12-09    581587     12680.0  16.60\n",
       "541907  16.60  2011-12-09    581587     12680.0  16.60\n",
       "541908  14.85  2011-12-09    581587     12680.0  14.85\n",
       "\n",
       "[541909 rows x 5 columns]"
      ]
     },
     "execution_count": 75,
     "metadata": {},
     "output_type": "execute_result"
    }
   ],
   "source": [
    "pd.concat([df2, df3], axis=1)"
   ]
  },
  {
   "cell_type": "markdown",
   "id": "dbeb1cd6",
   "metadata": {},
   "source": [
    "## Combine \"df2\" and \"df3\" with join() method"
   ]
  },
  {
   "cell_type": "code",
   "execution_count": 76,
   "id": "b8c4bc48",
   "metadata": {
    "ExecuteTime": {
     "end_time": "2023-12-01T17:05:40.879933Z",
     "start_time": "2023-12-01T17:05:40.865356Z"
    }
   },
   "outputs": [
    {
     "data": {
      "text/html": [
       "<div>\n",
       "<style scoped>\n",
       "    .dataframe tbody tr th:only-of-type {\n",
       "        vertical-align: middle;\n",
       "    }\n",
       "\n",
       "    .dataframe tbody tr th {\n",
       "        vertical-align: top;\n",
       "    }\n",
       "\n",
       "    .dataframe thead th {\n",
       "        text-align: right;\n",
       "    }\n",
       "</style>\n",
       "<table border=\"1\" class=\"dataframe\">\n",
       "  <thead>\n",
       "    <tr style=\"text-align: right;\">\n",
       "      <th></th>\n",
       "      <th>Total</th>\n",
       "      <th>date</th>\n",
       "    </tr>\n",
       "  </thead>\n",
       "  <tbody>\n",
       "    <tr>\n",
       "      <th>0</th>\n",
       "      <td>15.30</td>\n",
       "      <td>2010-12-01</td>\n",
       "    </tr>\n",
       "    <tr>\n",
       "      <th>1</th>\n",
       "      <td>20.34</td>\n",
       "      <td>2010-12-01</td>\n",
       "    </tr>\n",
       "    <tr>\n",
       "      <th>2</th>\n",
       "      <td>22.00</td>\n",
       "      <td>2010-12-01</td>\n",
       "    </tr>\n",
       "    <tr>\n",
       "      <th>3</th>\n",
       "      <td>20.34</td>\n",
       "      <td>2010-12-01</td>\n",
       "    </tr>\n",
       "    <tr>\n",
       "      <th>4</th>\n",
       "      <td>20.34</td>\n",
       "      <td>2010-12-01</td>\n",
       "    </tr>\n",
       "  </tbody>\n",
       "</table>\n",
       "</div>"
      ],
      "text/plain": [
       "   Total        date\n",
       "0  15.30  2010-12-01\n",
       "1  20.34  2010-12-01\n",
       "2  22.00  2010-12-01\n",
       "3  20.34  2010-12-01\n",
       "4  20.34  2010-12-01"
      ]
     },
     "execution_count": 76,
     "metadata": {},
     "output_type": "execute_result"
    }
   ],
   "source": [
    "df2.head()"
   ]
  },
  {
   "cell_type": "code",
   "execution_count": 77,
   "id": "9c9e2a24",
   "metadata": {
    "ExecuteTime": {
     "end_time": "2023-12-01T17:05:40.895757Z",
     "start_time": "2023-12-01T17:05:40.882935Z"
    }
   },
   "outputs": [
    {
     "data": {
      "text/html": [
       "<div>\n",
       "<style scoped>\n",
       "    .dataframe tbody tr th:only-of-type {\n",
       "        vertical-align: middle;\n",
       "    }\n",
       "\n",
       "    .dataframe tbody tr th {\n",
       "        vertical-align: top;\n",
       "    }\n",
       "\n",
       "    .dataframe thead th {\n",
       "        text-align: right;\n",
       "    }\n",
       "</style>\n",
       "<table border=\"1\" class=\"dataframe\">\n",
       "  <thead>\n",
       "    <tr style=\"text-align: right;\">\n",
       "      <th></th>\n",
       "      <th>InvoiceNo</th>\n",
       "      <th>CustomerID</th>\n",
       "      <th>Total</th>\n",
       "    </tr>\n",
       "  </thead>\n",
       "  <tbody>\n",
       "    <tr>\n",
       "      <th>0</th>\n",
       "      <td>536365</td>\n",
       "      <td>17850.0</td>\n",
       "      <td>15.30</td>\n",
       "    </tr>\n",
       "    <tr>\n",
       "      <th>1</th>\n",
       "      <td>536365</td>\n",
       "      <td>17850.0</td>\n",
       "      <td>20.34</td>\n",
       "    </tr>\n",
       "    <tr>\n",
       "      <th>2</th>\n",
       "      <td>536365</td>\n",
       "      <td>17850.0</td>\n",
       "      <td>22.00</td>\n",
       "    </tr>\n",
       "    <tr>\n",
       "      <th>3</th>\n",
       "      <td>536365</td>\n",
       "      <td>17850.0</td>\n",
       "      <td>20.34</td>\n",
       "    </tr>\n",
       "    <tr>\n",
       "      <th>4</th>\n",
       "      <td>536365</td>\n",
       "      <td>17850.0</td>\n",
       "      <td>20.34</td>\n",
       "    </tr>\n",
       "  </tbody>\n",
       "</table>\n",
       "</div>"
      ],
      "text/plain": [
       "  InvoiceNo  CustomerID  Total\n",
       "0    536365     17850.0  15.30\n",
       "1    536365     17850.0  20.34\n",
       "2    536365     17850.0  22.00\n",
       "3    536365     17850.0  20.34\n",
       "4    536365     17850.0  20.34"
      ]
     },
     "execution_count": 77,
     "metadata": {},
     "output_type": "execute_result"
    }
   ],
   "source": [
    "df3.head()"
   ]
  },
  {
   "cell_type": "code",
   "execution_count": 78,
   "id": "8f09cf99-7551-4bb0-aa48-656e6472fe7f",
   "metadata": {
    "scrolled": true
   },
   "outputs": [
    {
     "ename": "ValueError",
     "evalue": "columns overlap but no suffix specified: Index(['Total'], dtype='object')",
     "output_type": "error",
     "traceback": [
      "\u001b[1;31m---------------------------------------------------------------------------\u001b[0m",
      "\u001b[1;31mValueError\u001b[0m                                Traceback (most recent call last)",
      "Cell \u001b[1;32mIn[78], line 1\u001b[0m\n\u001b[1;32m----> 1\u001b[0m df2\u001b[38;5;241m.\u001b[39mjoin(df3, how\u001b[38;5;241m=\u001b[39m\u001b[38;5;124m'\u001b[39m\u001b[38;5;124minner\u001b[39m\u001b[38;5;124m'\u001b[39m)\n",
      "File \u001b[1;32m~\\AppData\\Roaming\\Python\\Python311\\site-packages\\pandas\\core\\frame.py:10757\u001b[0m, in \u001b[0;36mDataFrame.join\u001b[1;34m(self, other, on, how, lsuffix, rsuffix, sort, validate)\u001b[0m\n\u001b[0;32m  10747\u001b[0m     \u001b[38;5;28;01mif\u001b[39;00m how \u001b[38;5;241m==\u001b[39m \u001b[38;5;124m\"\u001b[39m\u001b[38;5;124mcross\u001b[39m\u001b[38;5;124m\"\u001b[39m:\n\u001b[0;32m  10748\u001b[0m         \u001b[38;5;28;01mreturn\u001b[39;00m merge(\n\u001b[0;32m  10749\u001b[0m             \u001b[38;5;28mself\u001b[39m,\n\u001b[0;32m  10750\u001b[0m             other,\n\u001b[1;32m   (...)\u001b[0m\n\u001b[0;32m  10755\u001b[0m             validate\u001b[38;5;241m=\u001b[39mvalidate,\n\u001b[0;32m  10756\u001b[0m         )\n\u001b[1;32m> 10757\u001b[0m     \u001b[38;5;28;01mreturn\u001b[39;00m merge(\n\u001b[0;32m  10758\u001b[0m         \u001b[38;5;28mself\u001b[39m,\n\u001b[0;32m  10759\u001b[0m         other,\n\u001b[0;32m  10760\u001b[0m         left_on\u001b[38;5;241m=\u001b[39mon,\n\u001b[0;32m  10761\u001b[0m         how\u001b[38;5;241m=\u001b[39mhow,\n\u001b[0;32m  10762\u001b[0m         left_index\u001b[38;5;241m=\u001b[39mon \u001b[38;5;129;01mis\u001b[39;00m \u001b[38;5;28;01mNone\u001b[39;00m,\n\u001b[0;32m  10763\u001b[0m         right_index\u001b[38;5;241m=\u001b[39m\u001b[38;5;28;01mTrue\u001b[39;00m,\n\u001b[0;32m  10764\u001b[0m         suffixes\u001b[38;5;241m=\u001b[39m(lsuffix, rsuffix),\n\u001b[0;32m  10765\u001b[0m         sort\u001b[38;5;241m=\u001b[39msort,\n\u001b[0;32m  10766\u001b[0m         validate\u001b[38;5;241m=\u001b[39mvalidate,\n\u001b[0;32m  10767\u001b[0m     )\n\u001b[0;32m  10768\u001b[0m \u001b[38;5;28;01melse\u001b[39;00m:\n\u001b[0;32m  10769\u001b[0m     \u001b[38;5;28;01mif\u001b[39;00m on \u001b[38;5;129;01mis\u001b[39;00m \u001b[38;5;129;01mnot\u001b[39;00m \u001b[38;5;28;01mNone\u001b[39;00m:\n",
      "File \u001b[1;32m~\\AppData\\Roaming\\Python\\Python311\\site-packages\\pandas\\core\\reshape\\merge.py:184\u001b[0m, in \u001b[0;36mmerge\u001b[1;34m(left, right, how, on, left_on, right_on, left_index, right_index, sort, suffixes, copy, indicator, validate)\u001b[0m\n\u001b[0;32m    169\u001b[0m \u001b[38;5;28;01melse\u001b[39;00m:\n\u001b[0;32m    170\u001b[0m     op \u001b[38;5;241m=\u001b[39m _MergeOperation(\n\u001b[0;32m    171\u001b[0m         left_df,\n\u001b[0;32m    172\u001b[0m         right_df,\n\u001b[1;32m   (...)\u001b[0m\n\u001b[0;32m    182\u001b[0m         validate\u001b[38;5;241m=\u001b[39mvalidate,\n\u001b[0;32m    183\u001b[0m     )\n\u001b[1;32m--> 184\u001b[0m     \u001b[38;5;28;01mreturn\u001b[39;00m op\u001b[38;5;241m.\u001b[39mget_result(copy\u001b[38;5;241m=\u001b[39mcopy)\n",
      "File \u001b[1;32m~\\AppData\\Roaming\\Python\\Python311\\site-packages\\pandas\\core\\reshape\\merge.py:888\u001b[0m, in \u001b[0;36m_MergeOperation.get_result\u001b[1;34m(self, copy)\u001b[0m\n\u001b[0;32m    884\u001b[0m     \u001b[38;5;28mself\u001b[39m\u001b[38;5;241m.\u001b[39mleft, \u001b[38;5;28mself\u001b[39m\u001b[38;5;241m.\u001b[39mright \u001b[38;5;241m=\u001b[39m \u001b[38;5;28mself\u001b[39m\u001b[38;5;241m.\u001b[39m_indicator_pre_merge(\u001b[38;5;28mself\u001b[39m\u001b[38;5;241m.\u001b[39mleft, \u001b[38;5;28mself\u001b[39m\u001b[38;5;241m.\u001b[39mright)\n\u001b[0;32m    886\u001b[0m join_index, left_indexer, right_indexer \u001b[38;5;241m=\u001b[39m \u001b[38;5;28mself\u001b[39m\u001b[38;5;241m.\u001b[39m_get_join_info()\n\u001b[1;32m--> 888\u001b[0m result \u001b[38;5;241m=\u001b[39m \u001b[38;5;28mself\u001b[39m\u001b[38;5;241m.\u001b[39m_reindex_and_concat(\n\u001b[0;32m    889\u001b[0m     join_index, left_indexer, right_indexer, copy\u001b[38;5;241m=\u001b[39mcopy\n\u001b[0;32m    890\u001b[0m )\n\u001b[0;32m    891\u001b[0m result \u001b[38;5;241m=\u001b[39m result\u001b[38;5;241m.\u001b[39m__finalize__(\u001b[38;5;28mself\u001b[39m, method\u001b[38;5;241m=\u001b[39m\u001b[38;5;28mself\u001b[39m\u001b[38;5;241m.\u001b[39m_merge_type)\n\u001b[0;32m    893\u001b[0m \u001b[38;5;28;01mif\u001b[39;00m \u001b[38;5;28mself\u001b[39m\u001b[38;5;241m.\u001b[39mindicator:\n",
      "File \u001b[1;32m~\\AppData\\Roaming\\Python\\Python311\\site-packages\\pandas\\core\\reshape\\merge.py:840\u001b[0m, in \u001b[0;36m_MergeOperation._reindex_and_concat\u001b[1;34m(self, join_index, left_indexer, right_indexer, copy)\u001b[0m\n\u001b[0;32m    837\u001b[0m left \u001b[38;5;241m=\u001b[39m \u001b[38;5;28mself\u001b[39m\u001b[38;5;241m.\u001b[39mleft[:]\n\u001b[0;32m    838\u001b[0m right \u001b[38;5;241m=\u001b[39m \u001b[38;5;28mself\u001b[39m\u001b[38;5;241m.\u001b[39mright[:]\n\u001b[1;32m--> 840\u001b[0m llabels, rlabels \u001b[38;5;241m=\u001b[39m _items_overlap_with_suffix(\n\u001b[0;32m    841\u001b[0m     \u001b[38;5;28mself\u001b[39m\u001b[38;5;241m.\u001b[39mleft\u001b[38;5;241m.\u001b[39m_info_axis, \u001b[38;5;28mself\u001b[39m\u001b[38;5;241m.\u001b[39mright\u001b[38;5;241m.\u001b[39m_info_axis, \u001b[38;5;28mself\u001b[39m\u001b[38;5;241m.\u001b[39msuffixes\n\u001b[0;32m    842\u001b[0m )\n\u001b[0;32m    844\u001b[0m \u001b[38;5;28;01mif\u001b[39;00m left_indexer \u001b[38;5;129;01mis\u001b[39;00m \u001b[38;5;129;01mnot\u001b[39;00m \u001b[38;5;28;01mNone\u001b[39;00m \u001b[38;5;129;01mand\u001b[39;00m \u001b[38;5;129;01mnot\u001b[39;00m is_range_indexer(left_indexer, \u001b[38;5;28mlen\u001b[39m(left)):\n\u001b[0;32m    845\u001b[0m     \u001b[38;5;66;03m# Pinning the index here (and in the right code just below) is not\u001b[39;00m\n\u001b[0;32m    846\u001b[0m     \u001b[38;5;66;03m#  necessary, but makes the `.take` more performant if we have e.g.\u001b[39;00m\n\u001b[0;32m    847\u001b[0m     \u001b[38;5;66;03m#  a MultiIndex for left.index.\u001b[39;00m\n\u001b[0;32m    848\u001b[0m     lmgr \u001b[38;5;241m=\u001b[39m left\u001b[38;5;241m.\u001b[39m_mgr\u001b[38;5;241m.\u001b[39mreindex_indexer(\n\u001b[0;32m    849\u001b[0m         join_index,\n\u001b[0;32m    850\u001b[0m         left_indexer,\n\u001b[1;32m   (...)\u001b[0m\n\u001b[0;32m    855\u001b[0m         use_na_proxy\u001b[38;5;241m=\u001b[39m\u001b[38;5;28;01mTrue\u001b[39;00m,\n\u001b[0;32m    856\u001b[0m     )\n",
      "File \u001b[1;32m~\\AppData\\Roaming\\Python\\Python311\\site-packages\\pandas\\core\\reshape\\merge.py:2721\u001b[0m, in \u001b[0;36m_items_overlap_with_suffix\u001b[1;34m(left, right, suffixes)\u001b[0m\n\u001b[0;32m   2718\u001b[0m lsuffix, rsuffix \u001b[38;5;241m=\u001b[39m suffixes\n\u001b[0;32m   2720\u001b[0m \u001b[38;5;28;01mif\u001b[39;00m \u001b[38;5;129;01mnot\u001b[39;00m lsuffix \u001b[38;5;129;01mand\u001b[39;00m \u001b[38;5;129;01mnot\u001b[39;00m rsuffix:\n\u001b[1;32m-> 2721\u001b[0m     \u001b[38;5;28;01mraise\u001b[39;00m \u001b[38;5;167;01mValueError\u001b[39;00m(\u001b[38;5;124mf\u001b[39m\u001b[38;5;124m\"\u001b[39m\u001b[38;5;124mcolumns overlap but no suffix specified: \u001b[39m\u001b[38;5;132;01m{\u001b[39;00mto_rename\u001b[38;5;132;01m}\u001b[39;00m\u001b[38;5;124m\"\u001b[39m)\n\u001b[0;32m   2723\u001b[0m \u001b[38;5;28;01mdef\u001b[39;00m \u001b[38;5;21mrenamer\u001b[39m(x, suffix: \u001b[38;5;28mstr\u001b[39m \u001b[38;5;241m|\u001b[39m \u001b[38;5;28;01mNone\u001b[39;00m):\n\u001b[0;32m   2724\u001b[0m \u001b[38;5;250m    \u001b[39m\u001b[38;5;124;03m\"\"\"\u001b[39;00m\n\u001b[0;32m   2725\u001b[0m \u001b[38;5;124;03m    Rename the left and right indices.\u001b[39;00m\n\u001b[0;32m   2726\u001b[0m \n\u001b[1;32m   (...)\u001b[0m\n\u001b[0;32m   2737\u001b[0m \u001b[38;5;124;03m    x : renamed column name\u001b[39;00m\n\u001b[0;32m   2738\u001b[0m \u001b[38;5;124;03m    \"\"\"\u001b[39;00m\n",
      "\u001b[1;31mValueError\u001b[0m: columns overlap but no suffix specified: Index(['Total'], dtype='object')"
     ]
    }
   ],
   "source": [
    "df2.join(df3, how='inner')   # hata verir"
   ]
  },
  {
   "cell_type": "code",
   "execution_count": 81,
   "id": "d432e950",
   "metadata": {
    "ExecuteTime": {
     "end_time": "2023-12-01T17:05:40.939425Z",
     "start_time": "2023-12-01T17:05:40.897007Z"
    }
   },
   "outputs": [
    {
     "data": {
      "text/html": [
       "<div>\n",
       "<style scoped>\n",
       "    .dataframe tbody tr th:only-of-type {\n",
       "        vertical-align: middle;\n",
       "    }\n",
       "\n",
       "    .dataframe tbody tr th {\n",
       "        vertical-align: top;\n",
       "    }\n",
       "\n",
       "    .dataframe thead th {\n",
       "        text-align: right;\n",
       "    }\n",
       "</style>\n",
       "<table border=\"1\" class=\"dataframe\">\n",
       "  <thead>\n",
       "    <tr style=\"text-align: right;\">\n",
       "      <th></th>\n",
       "      <th>Total_left</th>\n",
       "      <th>date</th>\n",
       "      <th>InvoiceNo</th>\n",
       "      <th>CustomerID</th>\n",
       "      <th>Total_right</th>\n",
       "    </tr>\n",
       "  </thead>\n",
       "  <tbody>\n",
       "    <tr>\n",
       "      <th>0</th>\n",
       "      <td>15.30</td>\n",
       "      <td>2010-12-01</td>\n",
       "      <td>536365</td>\n",
       "      <td>17850.0</td>\n",
       "      <td>15.30</td>\n",
       "    </tr>\n",
       "    <tr>\n",
       "      <th>1</th>\n",
       "      <td>20.34</td>\n",
       "      <td>2010-12-01</td>\n",
       "      <td>536365</td>\n",
       "      <td>17850.0</td>\n",
       "      <td>20.34</td>\n",
       "    </tr>\n",
       "    <tr>\n",
       "      <th>2</th>\n",
       "      <td>22.00</td>\n",
       "      <td>2010-12-01</td>\n",
       "      <td>536365</td>\n",
       "      <td>17850.0</td>\n",
       "      <td>22.00</td>\n",
       "    </tr>\n",
       "    <tr>\n",
       "      <th>3</th>\n",
       "      <td>20.34</td>\n",
       "      <td>2010-12-01</td>\n",
       "      <td>536365</td>\n",
       "      <td>17850.0</td>\n",
       "      <td>20.34</td>\n",
       "    </tr>\n",
       "    <tr>\n",
       "      <th>4</th>\n",
       "      <td>20.34</td>\n",
       "      <td>2010-12-01</td>\n",
       "      <td>536365</td>\n",
       "      <td>17850.0</td>\n",
       "      <td>20.34</td>\n",
       "    </tr>\n",
       "    <tr>\n",
       "      <th>...</th>\n",
       "      <td>...</td>\n",
       "      <td>...</td>\n",
       "      <td>...</td>\n",
       "      <td>...</td>\n",
       "      <td>...</td>\n",
       "    </tr>\n",
       "    <tr>\n",
       "      <th>541904</th>\n",
       "      <td>10.20</td>\n",
       "      <td>2011-12-09</td>\n",
       "      <td>581587</td>\n",
       "      <td>12680.0</td>\n",
       "      <td>10.20</td>\n",
       "    </tr>\n",
       "    <tr>\n",
       "      <th>541905</th>\n",
       "      <td>12.60</td>\n",
       "      <td>2011-12-09</td>\n",
       "      <td>581587</td>\n",
       "      <td>12680.0</td>\n",
       "      <td>12.60</td>\n",
       "    </tr>\n",
       "    <tr>\n",
       "      <th>541906</th>\n",
       "      <td>16.60</td>\n",
       "      <td>2011-12-09</td>\n",
       "      <td>581587</td>\n",
       "      <td>12680.0</td>\n",
       "      <td>16.60</td>\n",
       "    </tr>\n",
       "    <tr>\n",
       "      <th>541907</th>\n",
       "      <td>16.60</td>\n",
       "      <td>2011-12-09</td>\n",
       "      <td>581587</td>\n",
       "      <td>12680.0</td>\n",
       "      <td>16.60</td>\n",
       "    </tr>\n",
       "    <tr>\n",
       "      <th>541908</th>\n",
       "      <td>14.85</td>\n",
       "      <td>2011-12-09</td>\n",
       "      <td>581587</td>\n",
       "      <td>12680.0</td>\n",
       "      <td>14.85</td>\n",
       "    </tr>\n",
       "  </tbody>\n",
       "</table>\n",
       "<p>541909 rows × 5 columns</p>\n",
       "</div>"
      ],
      "text/plain": [
       "        Total_left        date InvoiceNo  CustomerID  Total_right\n",
       "0            15.30  2010-12-01    536365     17850.0        15.30\n",
       "1            20.34  2010-12-01    536365     17850.0        20.34\n",
       "2            22.00  2010-12-01    536365     17850.0        22.00\n",
       "3            20.34  2010-12-01    536365     17850.0        20.34\n",
       "4            20.34  2010-12-01    536365     17850.0        20.34\n",
       "...            ...         ...       ...         ...          ...\n",
       "541904       10.20  2011-12-09    581587     12680.0        10.20\n",
       "541905       12.60  2011-12-09    581587     12680.0        12.60\n",
       "541906       16.60  2011-12-09    581587     12680.0        16.60\n",
       "541907       16.60  2011-12-09    581587     12680.0        16.60\n",
       "541908       14.85  2011-12-09    581587     12680.0        14.85\n",
       "\n",
       "[541909 rows x 5 columns]"
      ]
     },
     "execution_count": 81,
     "metadata": {},
     "output_type": "execute_result"
    }
   ],
   "source": [
    "df2.join(df3, how='inner', lsuffix='_left', rsuffix='_right')"
   ]
  },
  {
   "attachments": {
    "logo.png": {
     "image/png": "[encoded data removed]"
    }
   },
   "cell_type": "markdown",
   "id": "a793f497",
   "metadata": {},
   "source": [
    "![logo.png](attachment:logo.png)"
   ]
  }
 ],
 "metadata": {
  "hide_input": false,
  "kernelspec": {
   "display_name": "Python 3 (ipykernel)",
   "language": "python",
   "name": "python3"
  },
  "language_info": {
   "codemirror_mode": {
    "name": "ipython",
    "version": 3
   },
   "file_extension": ".py",
   "mimetype": "text/x-python",
   "name": "python",
   "nbconvert_exporter": "python",
   "pygments_lexer": "ipython3",
   "version": "3.11.7"
  },
  "toc": {
   "base_numbering": 1,
   "nav_menu": {},
   "number_sections": true,
   "sideBar": true,
   "skip_h1_title": false,
   "title_cell": "Table of Contents",
   "title_sidebar": "Contents",
   "toc_cell": false,
   "toc_position": {
    "height": "calc(100% - 180px)",
    "left": "10px",
    "top": "150px",
    "width": "330.27px"
   },
   "toc_section_display": true,
   "toc_window_display": true
  },
  "varInspector": {
   "cols": {
    "lenName": 16,
    "lenType": 16,
    "lenVar": 40
   },
   "kernels_config": {
    "python": {
     "delete_cmd_postfix": "",
     "delete_cmd_prefix": "del ",
     "library": "var_list.py",
     "varRefreshCmd": "print(var_dic_list())"
    },
    "r": {
     "delete_cmd_postfix": ") ",
     "delete_cmd_prefix": "rm(",
     "library": "var_list.r",
     "varRefreshCmd": "cat(var_dic_list()) "
    }
   },
   "types_to_exclude": [
    "module",
    "function",
    "builtin_function_or_method",
    "instance",
    "_Feature"
   ],
   "window_display": false
  }
 },
 "nbformat": 4,
 "nbformat_minor": 5
}

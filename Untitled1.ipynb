{
 "cells": [
  {
   "cell_type": "code",
   "execution_count": 2,
   "id": "9ab41c87-a011-4ee6-9a3b-f71432df85a8",
   "metadata": {},
   "outputs": [],
   "source": [
    "import pandas as pd"
   ]
  },
  {
   "cell_type": "code",
   "execution_count": 24,
   "id": "dc3a2756-8788-4665-b4f7-192d2ffb81b4",
   "metadata": {},
   "outputs": [
    {
     "data": {
      "text/plain": [
       "100"
      ]
     },
     "execution_count": 24,
     "metadata": {},
     "output_type": "execute_result"
    }
   ],
   "source": [
    "column = [\"Mariya\", \"Batman\", \"Spongebob\"]\n",
    "titled_columns = {\"name\" : column,\n",
    "                \"height\" : [1.67, 1.9, 0.25],\n",
    "                \"weight\" : [54, 100, 1]}\n",
    "data = pd.DataFrame(titled_columns)\n",
    "select_column = data[\"weight\"][1]\n",
    "select_row = data.iloc[1][\"weight\"]\n",
    "select_column"
   ]
  },
  {
   "cell_type": "code",
   "execution_count": 32,
   "id": "009120d4-4fea-4f7d-995d-68e7ee7ebd50",
   "metadata": {},
   "outputs": [
    {
     "data": {
      "text/html": [
       "<div>\n",
       "<style scoped>\n",
       "    .dataframe tbody tr th:only-of-type {\n",
       "        vertical-align: middle;\n",
       "    }\n",
       "\n",
       "    .dataframe tbody tr th {\n",
       "        vertical-align: top;\n",
       "    }\n",
       "\n",
       "    .dataframe thead th {\n",
       "        text-align: right;\n",
       "    }\n",
       "</style>\n",
       "<table border=\"1\" class=\"dataframe\">\n",
       "  <thead>\n",
       "    <tr style=\"text-align: right;\">\n",
       "      <th></th>\n",
       "      <th>name</th>\n",
       "      <th>height</th>\n",
       "      <th>weight</th>\n",
       "      <th>bmi</th>\n",
       "    </tr>\n",
       "  </thead>\n",
       "  <tbody>\n",
       "    <tr>\n",
       "      <th>0</th>\n",
       "      <td>Mariya</td>\n",
       "      <td>1.67</td>\n",
       "      <td>54</td>\n",
       "      <td>19.362473</td>\n",
       "    </tr>\n",
       "    <tr>\n",
       "      <th>1</th>\n",
       "      <td>Batman</td>\n",
       "      <td>1.90</td>\n",
       "      <td>100</td>\n",
       "      <td>27.700831</td>\n",
       "    </tr>\n",
       "    <tr>\n",
       "      <th>2</th>\n",
       "      <td>Spongebob</td>\n",
       "      <td>0.25</td>\n",
       "      <td>1</td>\n",
       "      <td>16.000000</td>\n",
       "    </tr>\n",
       "  </tbody>\n",
       "</table>\n",
       "</div>"
      ],
      "text/plain": [
       "        name  height  weight        bmi\n",
       "0     Mariya    1.67      54  19.362473\n",
       "1     Batman    1.90     100  27.700831\n",
       "2  Spongebob    0.25       1  16.000000"
      ]
     },
     "execution_count": 32,
     "metadata": {},
     "output_type": "execute_result"
    }
   ],
   "source": [
    "bmi = []\n",
    "for i in range(len(data)):\n",
    "    bmi_score = data [\"weight\"][i]/(data[\"height\"][i]**2)\n",
    "    bmi.append(bmi_score)\n",
    "data[\"bmi\"] = bmi\n",
    "data"
   ]
  },
  {
   "cell_type": "code",
   "execution_count": 34,
   "id": "eceeb60c-f88d-447f-9f69-7bf78e790862",
   "metadata": {},
   "outputs": [
    {
     "data": {
      "text/plain": [
       "0    10\n",
       "1    20\n",
       "2    30\n",
       "3    40\n",
       "4    50\n",
       "dtype: int64"
      ]
     },
     "execution_count": 34,
     "metadata": {},
     "output_type": "execute_result"
    }
   ],
   "source": [
    "seri1 = pd.Series((10,20,30,40,50))\n",
    "seri1"
   ]
  },
  {
   "cell_type": "code",
   "execution_count": 36,
   "id": "3a0c76ac-332e-4e92-8f3e-3665a7240cb5",
   "metadata": {},
   "outputs": [
    {
     "data": {
      "text/plain": [
       "0    False\n",
       "1    False\n",
       "2    False\n",
       "3     True\n",
       "4     True\n",
       "dtype: bool"
      ]
     },
     "execution_count": 36,
     "metadata": {},
     "output_type": "execute_result"
    }
   ],
   "source": [
    "seri1 > 30"
   ]
  },
  {
   "cell_type": "code",
   "execution_count": 40,
   "id": "7c15523f-264d-4791-b5e1-88d955c8dee4",
   "metadata": {},
   "outputs": [
    {
     "data": {
      "text/plain": [
       "1    20\n",
       "2    30\n",
       "3    40\n",
       "dtype: int64"
      ]
     },
     "execution_count": 40,
     "metadata": {},
     "output_type": "execute_result"
    }
   ],
   "source": [
    "seri1 [(seri1 > 15) & (seri1 < 45)]"
   ]
  },
  {
   "cell_type": "code",
   "execution_count": 42,
   "id": "817c61f8-28d2-48f6-8b33-1a5a2fc12215",
   "metadata": {},
   "outputs": [
    {
     "data": {
      "text/plain": [
       "0    1\n",
       "1    2\n",
       "2    3\n",
       "3    4\n",
       "dtype: int64"
      ]
     },
     "execution_count": 42,
     "metadata": {},
     "output_type": "execute_result"
    }
   ],
   "source": [
    "seri2 = pd.Series ((1,2,3,4))\n",
    "seri2"
   ]
  },
  {
   "cell_type": "code",
   "execution_count": 44,
   "id": "c74000c8-8952-4951-85cc-0e3ed1cdae53",
   "metadata": {},
   "outputs": [
    {
     "data": {
      "text/plain": [
       "0    6\n",
       "1    7\n",
       "2    8\n",
       "3    9\n",
       "dtype: int64"
      ]
     },
     "execution_count": 44,
     "metadata": {},
     "output_type": "execute_result"
    }
   ],
   "source": [
    "seri2 + 5"
   ]
  },
  {
   "cell_type": "code",
   "execution_count": 46,
   "id": "9c76ddb5-fad7-4085-9d85-d8c8885809e2",
   "metadata": {},
   "outputs": [
    {
     "data": {
      "text/plain": [
       "0     3\n",
       "1     6\n",
       "2     9\n",
       "3    12\n",
       "dtype: int64"
      ]
     },
     "execution_count": 46,
     "metadata": {},
     "output_type": "execute_result"
    }
   ],
   "source": [
    "seri2 * 3"
   ]
  },
  {
   "cell_type": "code",
   "execution_count": 48,
   "id": "0a7b8323-55eb-4197-b7db-8a01d8e6c473",
   "metadata": {},
   "outputs": [
    {
     "data": {
      "text/plain": [
       "10    1\n",
       "20    2\n",
       "30    3\n",
       "40    4\n",
       "dtype: int64"
      ]
     },
     "execution_count": 48,
     "metadata": {},
     "output_type": "execute_result"
    }
   ],
   "source": [
    "seri2 = pd.Series((1,2,3,4), index = (10,20,30,40))\n",
    "seri2"
   ]
  },
  {
   "cell_type": "code",
   "execution_count": 54,
   "id": "ee1dce03-d14f-4eb3-9aa4-c804108f7eea",
   "metadata": {},
   "outputs": [
    {
     "data": {
      "text/plain": [
       "4"
      ]
     },
     "execution_count": 54,
     "metadata": {},
     "output_type": "execute_result"
    }
   ],
   "source": [
    "seri2.iloc[3]"
   ]
  },
  {
   "cell_type": "code",
   "execution_count": 56,
   "id": "90e2cb4b-1160-406f-a55c-2d286230dea9",
   "metadata": {},
   "outputs": [
    {
     "data": {
      "text/plain": [
       "4"
      ]
     },
     "execution_count": 56,
     "metadata": {},
     "output_type": "execute_result"
    }
   ],
   "source": [
    "seri2.loc[40]"
   ]
  },
  {
   "cell_type": "code",
   "execution_count": 60,
   "id": "4a2fbbeb-b2e2-48c2-adab-436ab86b6739",
   "metadata": {},
   "outputs": [
    {
     "data": {
      "text/plain": [
       "20    2\n",
       "30    3\n",
       "40    4\n",
       "dtype: int64"
      ]
     },
     "execution_count": 60,
     "metadata": {},
     "output_type": "execute_result"
    }
   ],
   "source": [
    "seri2.loc[20:40]"
   ]
  },
  {
   "cell_type": "code",
   "execution_count": 64,
   "id": "ca939333-2527-41f6-9dbe-58e8f9a61795",
   "metadata": {},
   "outputs": [
    {
     "data": {
      "text/plain": [
       "20    2\n",
       "30    3\n",
       "40    4\n",
       "dtype: int64"
      ]
     },
     "execution_count": 64,
     "metadata": {},
     "output_type": "execute_result"
    }
   ],
   "source": [
    "seri2.loc[20:40]"
   ]
  },
  {
   "cell_type": "code",
   "execution_count": 66,
   "id": "bea3b2e0-e829-4781-933b-5798702be39b",
   "metadata": {},
   "outputs": [
    {
     "data": {
      "text/plain": [
       "30    3\n",
       "40    4\n",
       "dtype: int64"
      ]
     },
     "execution_count": 66,
     "metadata": {},
     "output_type": "execute_result"
    }
   ],
   "source": [
    "seri2.iloc[2:4]"
   ]
  },
  {
   "cell_type": "code",
   "execution_count": null,
   "id": "96fa7544-ca9c-44b9-a5f8-e421fd36c505",
   "metadata": {},
   "outputs": [],
   "source": [
    "# NumPy'de, fancy indexing, birden fazla dizi öğesine aynı anda erişmek için bir dizi dizin kullanmamızı sağlar. Fancy indexing, koşullu filtreleme, \n",
    "sıralama vb. dahil olmak üzere daha gelişmiş ve verimli dizi işlemleri gerçekleştirebilir."
   ]
  },
  {
   "cell_type": "code",
   "execution_count": 68,
   "id": "8e992e97-1b0c-4bcb-9447-426b0d1ccb56",
   "metadata": {},
   "outputs": [],
   "source": [
    "import numpy as np"
   ]
  },
  {
   "cell_type": "code",
   "execution_count": 72,
   "id": "5ca44b47-a200-4893-957f-b7f6636194c0",
   "metadata": {},
   "outputs": [],
   "source": [
    "array1 = np.array([1, 2, 3, 4, 5, 6, 7, 8])"
   ]
  },
  {
   "cell_type": "code",
   "execution_count": 76,
   "id": "a53ea3c1-8f0d-486d-8139-435771795117",
   "metadata": {},
   "outputs": [
    {
     "data": {
      "text/plain": [
       "array([2, 3, 6, 8])"
      ]
     },
     "execution_count": 76,
     "metadata": {},
     "output_type": "execute_result"
    }
   ],
   "source": [
    "select_elements = array1[[1, 2, 5, 7]]\n",
    "select_elements"
   ]
  },
  {
   "cell_type": "code",
   "execution_count": 86,
   "id": "0d396850-a2a1-4afa-8da2-323e3658e7c3",
   "metadata": {},
   "outputs": [],
   "source": [
    "arr111 = [ [1,2,3],\n",
    "        [4,5,6],\n",
    "        [7,8,9] ]"
   ]
  },
  {
   "cell_type": "code",
   "execution_count": 88,
   "id": "0b6345f1-ca8f-4924-8121-5e5c3c2eee6b",
   "metadata": {},
   "outputs": [
    {
     "ename": "TypeError",
     "evalue": "list indices must be integers or slices, not tuple",
     "output_type": "error",
     "traceback": [
      "\u001b[1;31m---------------------------------------------------------------------------\u001b[0m",
      "\u001b[1;31mTypeError\u001b[0m                                 Traceback (most recent call last)",
      "Cell \u001b[1;32mIn[88], line 1\u001b[0m\n\u001b[1;32m----> 1\u001b[0m \u001b[43marr111\u001b[49m\u001b[43m[\u001b[49m\u001b[43m \u001b[49m\u001b[43m[\u001b[49m\u001b[38;5;241;43m0\u001b[39;49m\u001b[43m,\u001b[49m\u001b[38;5;241;43m1\u001b[39;49m\u001b[43m]\u001b[49m\u001b[43m,\u001b[49m\u001b[43m \u001b[49m\u001b[43m[\u001b[49m\u001b[38;5;241;43m1\u001b[39;49m\u001b[43m,\u001b[49m\u001b[38;5;241;43m2\u001b[39;49m\u001b[43m]\u001b[49m\u001b[43m \u001b[49m\u001b[43m]\u001b[49m\n",
      "\u001b[1;31mTypeError\u001b[0m: list indices must be integers or slices, not tuple"
     ]
    }
   ],
   "source": [
    "arr111[ [0,1], [1,2] ]"
   ]
  },
  {
   "cell_type": "code",
   "execution_count": 90,
   "id": "c98599f2-c2fd-47d9-a69e-71440361924a",
   "metadata": {},
   "outputs": [
    {
     "ename": "TypeError",
     "evalue": "list indices must be integers or slices, not tuple",
     "output_type": "error",
     "traceback": [
      "\u001b[1;31m---------------------------------------------------------------------------\u001b[0m",
      "\u001b[1;31mTypeError\u001b[0m                                 Traceback (most recent call last)",
      "Cell \u001b[1;32mIn[90], line 1\u001b[0m\n\u001b[1;32m----> 1\u001b[0m \u001b[43marr111\u001b[49m\u001b[43m[\u001b[49m\u001b[43m:\u001b[49m\u001b[38;5;241;43m2\u001b[39;49m\u001b[43m,\u001b[49m\u001b[43m \u001b[49m\u001b[38;5;241;43m1\u001b[39;49m\u001b[43m:\u001b[49m\u001b[43m]\u001b[49m\n",
      "\u001b[1;31mTypeError\u001b[0m: list indices must be integers or slices, not tuple"
     ]
    }
   ],
   "source": [
    "arr111[:2, 1:]"
   ]
  },
  {
   "cell_type": "code",
   "execution_count": 92,
   "id": "ea9e1dbf-5d20-436f-a38b-30d8326048d1",
   "metadata": {},
   "outputs": [
    {
     "name": "stdout",
     "output_type": "stream",
     "text": [
      "[51 92 14 71 60 20 82 86 74 74]\n"
     ]
    }
   ],
   "source": [
    "import numpy as np\n",
    "rand = np.random.RandomState(42)\n",
    "\n",
    "x = rand.randint(100, size=10)\n",
    "print(x)"
   ]
  },
  {
   "cell_type": "code",
   "execution_count": 94,
   "id": "e4b22fde-0d91-4e6b-91b1-edf7c633d945",
   "metadata": {},
   "outputs": [
    {
     "data": {
      "text/plain": [
       "[71, 86, 14]"
      ]
     },
     "execution_count": 94,
     "metadata": {},
     "output_type": "execute_result"
    }
   ],
   "source": [
    "[x[3], x[7], x[2]]"
   ]
  },
  {
   "cell_type": "code",
   "execution_count": 96,
   "id": "27dd65cf-59f2-47ac-8b16-d24a3a200546",
   "metadata": {},
   "outputs": [
    {
     "data": {
      "text/plain": [
       "array([71, 86, 60])"
      ]
     },
     "execution_count": 96,
     "metadata": {},
     "output_type": "execute_result"
    }
   ],
   "source": [
    "ind = [3, 7, 4]\n",
    "x[ind]"
   ]
  },
  {
   "cell_type": "code",
   "execution_count": 106,
   "id": "17b3bdae-4ad2-4a8a-a591-b79a5ab980e7",
   "metadata": {},
   "outputs": [
    {
     "data": {
      "text/plain": [
       "array([ 0,  1,  2,  3,  4,  5,  6,  7,  8,  9, 10, 11, 12, 13, 14, 15])"
      ]
     },
     "execution_count": 106,
     "metadata": {},
     "output_type": "execute_result"
    }
   ],
   "source": [
    "fn = np.arange(16)\n",
    "fn"
   ]
  },
  {
   "cell_type": "code",
   "execution_count": 108,
   "id": "fd70ae22-e6ca-49a9-9627-8e76e0644266",
   "metadata": {},
   "outputs": [
    {
     "data": {
      "text/plain": [
       "array([1, 3, 5])"
      ]
     },
     "execution_count": 108,
     "metadata": {},
     "output_type": "execute_result"
    }
   ],
   "source": [
    "fn[[1,3,5]]  # 2, 4, ve 5'inci eleman olarak algıladı. "
   ]
  },
  {
   "cell_type": "code",
   "execution_count": 102,
   "id": "c517e19d-e957-49f8-b2ed-8e16d3fbdfe3",
   "metadata": {},
   "outputs": [
    {
     "data": {
      "text/plain": [
       "array([[ 0,  1,  2,  3,  4,  5,  6,  7,  8,  9],\n",
       "       [10, 11, 12, 13, 14, 15, 16, 17, 18, 19],\n",
       "       [20, 21, 22, 23, 24, 25, 26, 27, 28, 29],\n",
       "       [30, 31, 32, 33, 34, 35, 36, 37, 38, 39],\n",
       "       [40, 41, 42, 43, 44, 45, 46, 47, 48, 49],\n",
       "       [50, 51, 52, 53, 54, 55, 56, 57, 58, 59],\n",
       "       [60, 61, 62, 63, 64, 65, 66, 67, 68, 69],\n",
       "       [70, 71, 72, 73, 74, 75, 76, 77, 78, 79],\n",
       "       [80, 81, 82, 83, 84, 85, 86, 87, 88, 89],\n",
       "       [90, 91, 92, 93, 94, 95, 96, 97, 98, 99]])"
      ]
     },
     "execution_count": 102,
     "metadata": {},
     "output_type": "execute_result"
    }
   ],
   "source": [
    "fancy = np.arange(100).reshape(10,10)\n",
    "fancy"
   ]
  },
  {
   "cell_type": "code",
   "execution_count": 104,
   "id": "d33dda5e-bd9b-4967-8fae-8938966e1bae",
   "metadata": {},
   "outputs": [
    {
     "data": {
      "text/plain": [
       "array([[10, 11, 12, 13, 14, 15, 16, 17, 18, 19],\n",
       "       [30, 31, 32, 33, 34, 35, 36, 37, 38, 39],\n",
       "       [50, 51, 52, 53, 54, 55, 56, 57, 58, 59]])"
      ]
     },
     "execution_count": 104,
     "metadata": {},
     "output_type": "execute_result"
    }
   ],
   "source": [
    "fancy[[1,3,5]] # 2, 4, ve 5'inci satır olarak algıladı."
   ]
  },
  {
   "cell_type": "code",
   "execution_count": 110,
   "id": "a6c19354-34b0-41b8-bfc1-76cd0ec6e168",
   "metadata": {},
   "outputs": [
    {
     "data": {
      "text/plain": [
       "array([[90, 91, 92, 93, 94, 95, 96, 97, 98, 99],\n",
       "       [80, 81, 82, 83, 84, 85, 86, 87, 88, 89],\n",
       "       [70, 71, 72, 73, 74, 75, 76, 77, 78, 79]])"
      ]
     },
     "execution_count": 110,
     "metadata": {},
     "output_type": "execute_result"
    }
   ],
   "source": [
    "fancy[[-1,-2,-3]] # sondan birinci ikinci ve üçüncü satır. "
   ]
  },
  {
   "cell_type": "code",
   "execution_count": 112,
   "id": "0c8ba28b-f49e-4302-8602-5d1d7c0c8b14",
   "metadata": {},
   "outputs": [
    {
     "data": {
      "text/plain": [
       "array([11, 33, 55])"
      ]
     },
     "execution_count": 112,
     "metadata": {},
     "output_type": "execute_result"
    }
   ],
   "source": [
    "fancy[[1,3,5], [1,3,5]] # ikincisatırını ikincisi şeklinde algıladı. "
   ]
  },
  {
   "cell_type": "code",
   "execution_count": 114,
   "id": "6cf7fb04-e7a2-4dc1-84fa-5f00b46db7d2",
   "metadata": {},
   "outputs": [],
   "source": [
    "import numpy as np\n",
    "\n"
   ]
  },
  {
   "cell_type": "code",
   "execution_count": 116,
   "id": "9bcaa098-ec71-43e1-982d-278b0fcb5095",
   "metadata": {},
   "outputs": [
    {
     "data": {
      "text/plain": [
       "array([[ 0,  1,  2,  3,  4,  5,  6,  7],\n",
       "       [ 8,  9, 10, 11, 12, 13, 14, 15],\n",
       "       [16, 17, 18, 19, 20, 21, 22, 23],\n",
       "       [24, 25, 26, 27, 28, 29, 30, 31],\n",
       "       [32, 33, 34, 35, 36, 37, 38, 39],\n",
       "       [40, 41, 42, 43, 44, 45, 46, 47],\n",
       "       [48, 49, 50, 51, 52, 53, 54, 55],\n",
       "       [56, 57, 58, 59, 60, 61, 62, 63]])"
      ]
     },
     "execution_count": 116,
     "metadata": {},
     "output_type": "execute_result"
    }
   ],
   "source": [
    "fancy2 = np.arange(64).reshape(8,8)\n",
    "fancy2"
   ]
  },
  {
   "cell_type": "code",
   "execution_count": null,
   "id": "ce6ae4b3-4a05-4856-95e3-e92c213728aa",
   "metadata": {},
   "outputs": [],
   "source": []
  }
 ],
 "metadata": {
  "kernelspec": {
   "display_name": "Python 3 (ipykernel)",
   "language": "python",
   "name": "python3"
  },
  "language_info": {
   "codemirror_mode": {
    "name": "ipython",
    "version": 3
   },
   "file_extension": ".py",
   "mimetype": "text/x-python",
   "name": "python",
   "nbconvert_exporter": "python",
   "pygments_lexer": "ipython3",
   "version": "3.12.7"
  }
 },
 "nbformat": 4,
 "nbformat_minor": 5
}

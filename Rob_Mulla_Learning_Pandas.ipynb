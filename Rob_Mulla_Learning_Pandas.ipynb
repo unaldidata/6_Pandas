{
 "cells": [
  {
   "cell_type": "code",
   "execution_count": 4,
   "id": "7cb235e8-b039-40a6-b7ec-43805490eb2e",
   "metadata": {},
   "outputs": [],
   "source": [
    "import pandas as pd"
   ]
  },
  {
   "cell_type": "code",
   "execution_count": null,
   "id": "e28a14f3-73d3-4536-bc21-83f56cb20ee0",
   "metadata": {},
   "outputs": [],
   "source": [
    "pd.read_csv()"
   ]
  },
  {
   "cell_type": "code",
   "execution_count": null,
   "id": "024b015d-d16f-4d9c-8761-e34af23106eb",
   "metadata": {},
   "outputs": [],
   "source": [
    "pd.set_option(\"display.max_columns\", 500)"
   ]
  },
  {
   "cell_type": "code",
   "execution_count": null,
   "id": "b4fbacbb-282a-41b0-9e4a-85704b8f6085",
   "metadata": {},
   "outputs": [],
   "source": [
    "pd.head()"
   ]
  },
  {
   "cell_type": "code",
   "execution_count": null,
   "id": "5d39db9d-6ddd-4872-8604-9d5c6e8492cc",
   "metadata": {},
   "outputs": [],
   "source": [
    "pd.tail()"
   ]
  },
  {
   "cell_type": "code",
   "execution_count": null,
   "id": "f8e68eaa-25a2-4444-82c3-8c8fb709d57b",
   "metadata": {},
   "outputs": [],
   "source": [
    "df.sample()"
   ]
  },
  {
   "cell_type": "code",
   "execution_count": null,
   "id": "5b0545e5-77db-4029-997f-5bbfc6ce05f7",
   "metadata": {},
   "outputs": [],
   "source": [
    "df.columns[:5] ilk 5 adedi"
   ]
  },
  {
   "cell_type": "code",
   "execution_count": null,
   "id": "0350298b-c0d5-4b5a-b70b-c7e1feebb06f",
   "metadata": {},
   "outputs": [],
   "source": [
    "df.index"
   ]
  },
  {
   "cell_type": "code",
   "execution_count": null,
   "id": "1d9f978d-4dcd-475d-bcc9-0d5dbb72266d",
   "metadata": {},
   "outputs": [],
   "source": [
    "df.info()"
   ]
  },
  {
   "cell_type": "code",
   "execution_count": null,
   "id": "b441234e-1cd9-41f6-834b-c224394fcb4f",
   "metadata": {},
   "outputs": [],
   "source": [
    "df.describe() # descriptive statistics"
   ]
  },
  {
   "cell_type": "code",
   "execution_count": null,
   "id": "dbde6094-543a-44fd-8d79-9804d8033ffd",
   "metadata": {},
   "outputs": [],
   "source": [
    "df.shape, len(df)"
   ]
  },
  {
   "cell_type": "code",
   "execution_count": null,
   "id": "42ff08dc-5d78-4885-8220-30cddc4b0e3b",
   "metadata": {},
   "outputs": [],
   "source": [
    "df[['Flighdate','Airline','Origin']] # we should give a list in brackets."
   ]
  },
  {
   "cell_type": "code",
   "execution_count": null,
   "id": "94a214ac-e58b-442e-81b6-60cd06d8a695",
   "metadata": {},
   "outputs": [],
   "source": [
    "df.select_dtypes(\"int\") # integer olan dataları verecektir. "
   ]
  },
  {
   "cell_type": "code",
   "execution_count": null,
   "id": "2f1ebd37-2710-4dc6-a0f6-e491b8eaa411",
   "metadata": {},
   "outputs": [],
   "source": [
    "df([\"Airline\"]) # dediğimizde bunu column un series ini döndürecektir. "
   ]
  },
  {
   "cell_type": "code",
   "execution_count": null,
   "id": "a11d328e-530e-415d-b4a0-a3165914ef7c",
   "metadata": {},
   "outputs": [],
   "source": [
    "df[[\"Airline\"]] # dediğimizde bunun dataframe olarak getirecektir. "
   ]
  },
  {
   "cell_type": "code",
   "execution_count": null,
   "id": "8dc2fb27-6db4-4cdb-a65b-c5e885834063",
   "metadata": {},
   "outputs": [],
   "source": [
    "# for filtering loc and iloc iloc uses index location, and the loc uses the location,, loc iloctan çokdaha fazla kullanılacaktır. "
   ]
  },
  {
   "cell_type": "code",
   "execution_count": null,
   "id": "7fc1795d-b554-4226-928a-9a8c68e10ab2",
   "metadata": {},
   "outputs": [],
   "source": [
    "df.iloc[: 5 , : 5]"
   ]
  },
  {
   "cell_type": "code",
   "execution_count": null,
   "id": "1d1c0ebf-a52d-483d-a5b4-4228ceeb501a",
   "metadata": {},
   "outputs": [],
   "source": [
    "# tilda hariç demektir. "
   ]
  },
  {
   "cell_type": "code",
   "execution_count": null,
   "id": "d2bbf15b-70c3-4d9a-9298-9fe18ef2d71d",
   "metadata": {},
   "outputs": [],
   "source": [
    "df.query(\"(DepTime > and origin )\") # query ye bakılacak. "
   ]
  },
  {
   "cell_type": "code",
   "execution_count": null,
   "id": "baf1e9d0-a7a4-43d3-8864-8ce5d8ac5d4b",
   "metadata": {},
   "outputs": [],
   "source": [
    "df[\"DepTime\"].min()"
   ]
  },
  {
   "cell_type": "code",
   "execution_count": null,
   "id": "728e45a0-d47c-499c-81d6-53d840ab7c48",
   "metadata": {},
   "outputs": [],
   "source": [
    "df[\"DepTime\"].max()"
   ]
  },
  {
   "cell_type": "code",
   "execution_count": null,
   "id": "0fa9699d-ec80-441a-831f-4dc76fe5edc8",
   "metadata": {},
   "outputs": [],
   "source": [
    "df[\"DepTime\"].mean()"
   ]
  },
  {
   "cell_type": "code",
   "execution_count": null,
   "id": "c679c3d8-5568-46b6-8ffc-303ad50d982f",
   "metadata": {},
   "outputs": [],
   "source": [
    "df[\"DepTime\"].std()"
   ]
  },
  {
   "cell_type": "code",
   "execution_count": null,
   "id": "6e9db4a6-207c-4fc9-a237-8f11192d412c",
   "metadata": {},
   "outputs": [],
   "source": [
    "df[\"DepTime\"].var()"
   ]
  },
  {
   "cell_type": "code",
   "execution_count": null,
   "id": "373e7f24-6322-410a-83f1-17a6eaf8de42",
   "metadata": {},
   "outputs": [],
   "source": [
    "df[\"DepTime\"].count()"
   ]
  },
  {
   "cell_type": "code",
   "execution_count": null,
   "id": "21c4cc05-8a73-4f5e-8e21-ee6195316cf6",
   "metadata": {},
   "outputs": [],
   "source": [
    "df[\"DepTime\"].sum()"
   ]
  },
  {
   "cell_type": "code",
   "execution_count": null,
   "id": "ae7a0f70-5f47-4694-9cc1-d5de21c9e4a3",
   "metadata": {},
   "outputs": [],
   "source": [
    "df[\"DepTime\"].unique()"
   ]
  },
  {
   "cell_type": "code",
   "execution_count": null,
   "id": "f69fbcba-c59d-45f2-89ba-29f4522f09ed",
   "metadata": {},
   "outputs": [],
   "source": [
    "df[\"DepTime\"].nunique()"
   ]
  },
  {
   "cell_type": "code",
   "execution_count": null,
   "id": "855bc0db-c440-4b73-9ebe-68336011802d",
   "metadata": {},
   "outputs": [],
   "source": [
    "df[\"DepTime\"].value_counts()"
   ]
  },
  {
   "cell_type": "code",
   "execution_count": null,
   "id": "fb6f49f2-e528-42cc-b9db-d2baf6fbea49",
   "metadata": {},
   "outputs": [],
   "source": [
    "df[\"DepTime\"].quantile(0.5)"
   ]
  },
  {
   "cell_type": "code",
   "execution_count": null,
   "id": "168655d9-8c07-4daf-b25a-04b164999892",
   "metadata": {},
   "outputs": [],
   "source": [
    "df[[\"DepTime\" , \"DepDelay\" , \"ArrTime\" , \"AirDelay\"]].agg ([\"min\" , \"mean\" , \"max\"]) # toplama demek aggregation"
   ]
  },
  {
   "cell_type": "code",
   "execution_count": null,
   "id": "0cd26d6e-78c8-4620-8fae-915bbeb23516",
   "metadata": {},
   "outputs": [],
   "source": [
    "df[[\"CRSDepTime\"]].rank(method = \"first\") "
   ]
  },
  {
   "cell_type": "code",
   "execution_count": null,
   "id": "5b0ea6a5-4af2-4de8-9a19-70803dcf6e8a",
   "metadata": {},
   "outputs": [],
   "source": [
    "df[[\"CRSDepTime\"]].shift(3)"
   ]
  },
  {
   "cell_type": "code",
   "execution_count": null,
   "id": "c79e4bca-48ba-4aef-859b-00d69b4dbaa8",
   "metadata": {},
   "outputs": [],
   "source": [
    "df.groupby(\"Airline\") [[\"DepDelay\"]].mean()"
   ]
  },
  {
   "cell_type": "code",
   "execution_count": null,
   "id": "0e636faf-5247-46e2-aa95-56b82eb2d583",
   "metadata": {},
   "outputs": [],
   "source": [
    "df[[\"DepDelay\", \"Deneme\"]].sort_values(\"Airline\", ascending = False)"
   ]
  },
  {
   "cell_type": "code",
   "execution_count": null,
   "id": "b8415174-dd50-4e5e-843e-38afb8124c30",
   "metadata": {},
   "outputs": [],
   "source": [
    "df[[\"DepDelay\", \"Deneme\"]].isna().sum()"
   ]
  },
  {
   "cell_type": "code",
   "execution_count": null,
   "id": "ed0848bf-7206-4080-8ce4-675185ba5284",
   "metadata": {},
   "outputs": [],
   "source": [
    "df[[\"DepDelay\", \"Deneme\"]].dropna()"
   ]
  },
  {
   "cell_type": "code",
   "execution_count": null,
   "id": "4b4d6264-3ca4-428a-9ff1-9d24d43d4e4b",
   "metadata": {},
   "outputs": [],
   "source": [
    "df[[\"DepDelay\", \"Deneme\"]].fillna()"
   ]
  },
  {
   "cell_type": "code",
   "execution_count": null,
   "id": "ae1e4106-3594-4d88-b2ea-26e54f90f291",
   "metadata": {},
   "outputs": [],
   "source": [
    "df[[\"DepDelay\", \"Deneme\"]].copy()"
   ]
  },
  {
   "cell_type": "code",
   "execution_count": null,
   "id": "d3534811-966c-4fb5-8a34-c7d92575b551",
   "metadata": {},
   "outputs": [],
   "source": [
    "df_side = d.concat([\"a\",\"b\"])"
   ]
  },
  {
   "cell_type": "code",
   "execution_count": null,
   "id": "ff429cf2-562a-47dd-90a8-3956b63fc227",
   "metadata": {},
   "outputs": [],
   "source": [
    "pd.merge()"
   ]
  }
 ],
 "metadata": {
  "kernelspec": {
   "display_name": "Python 3 (ipykernel)",
   "language": "python",
   "name": "python3"
  },
  "language_info": {
   "codemirror_mode": {
    "name": "ipython",
    "version": 3
   },
   "file_extension": ".py",
   "mimetype": "text/x-python",
   "name": "python",
   "nbconvert_exporter": "python",
   "pygments_lexer": "ipython3",
   "version": "3.12.7"
  }
 },
 "nbformat": 4,
 "nbformat_minor": 5
}
